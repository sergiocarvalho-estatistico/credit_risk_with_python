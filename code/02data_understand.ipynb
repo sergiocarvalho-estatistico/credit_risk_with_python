{
 "cells": [
  {
   "cell_type": "markdown",
   "metadata": {
    "colab_type": "text",
    "id": "rGDt646X6FCc"
   },
   "source": [
    "# Descriptive and Exploratory Data Analysis"
   ]
  },
  {
   "cell_type": "code",
   "execution_count": 122,
   "metadata": {
    "ExecuteTime": {
     "end_time": "2021-07-13T15:22:03.238440Z",
     "start_time": "2021-07-13T15:22:03.220452Z"
    }
   },
   "outputs": [],
   "source": [
    "# %config Completer.use_jedi = False"
   ]
  },
  {
   "cell_type": "markdown",
   "metadata": {},
   "source": [
    "## Install packages"
   ]
  },
  {
   "cell_type": "code",
   "execution_count": 123,
   "metadata": {
    "ExecuteTime": {
     "end_time": "2021-07-13T15:22:03.332383Z",
     "start_time": "2021-07-13T15:22:03.325387Z"
    }
   },
   "outputs": [],
   "source": [
    "# !pip install https://github.com/pandas-profiling/pandas-profiling/archive/master.zip\n",
    "# Installing via pip\n",
    "# !pip install -U pandas-profiling[notebook]\n",
    "# Enable the widget extension in Jupyter\n",
    "# jupyter nbextension enable --py widgetsnbextension"
   ]
  },
  {
   "cell_type": "markdown",
   "metadata": {
    "colab_type": "text",
    "id": "PlwixP-p8RK8"
   },
   "source": [
    "## Import Libraries"
   ]
  },
  {
   "cell_type": "code",
   "execution_count": 124,
   "metadata": {
    "ExecuteTime": {
     "end_time": "2021-07-13T15:22:03.427970Z",
     "start_time": "2021-07-13T15:22:03.417976Z"
    },
    "colab": {},
    "colab_type": "code",
    "id": "6ZuW87w99lw5"
   },
   "outputs": [],
   "source": [
    "## Data manipulation\n",
    "from dfply import *\n",
    "import pandas as pd\n",
    "\n",
    "## Numerical computing\n",
    "import numpy as np\n",
    "import sklearn\n",
    "import warnings\n",
    "\n",
    "## Plots Graphics \n",
    "import matplotlib.pyplot as plt\n",
    "import seaborn as sns\n",
    "\n",
    "## firulas em python\n",
    "# import pandas_profiling\n",
    "from IPython import get_ipython\n",
    "\n",
    "## work dir\n",
    "import os\n",
    "\n",
    "# set parametors\n",
    "import ipyparams\n",
    "currentNotebook = ipyparams.notebook_name\n",
    "\n",
    "## \n",
    "warnings.filterwarnings('ignore')\n",
    "plt.rcParams[\"patch.force_edgecolor\"] = True\n",
    "%matplotlib inline"
   ]
  },
  {
   "cell_type": "code",
   "execution_count": 125,
   "metadata": {
    "ExecuteTime": {
     "end_time": "2021-07-13T15:22:03.458951Z",
     "start_time": "2021-07-13T15:22:03.440966Z"
    }
   },
   "outputs": [],
   "source": [
    "# get_ipython().magic('reset -sf') "
   ]
  },
  {
   "cell_type": "code",
   "execution_count": 126,
   "metadata": {
    "ExecuteTime": {
     "end_time": "2021-07-13T15:22:03.474941Z",
     "start_time": "2021-07-13T15:22:03.461949Z"
    }
   },
   "outputs": [
    {
     "data": {
      "text/html": [
       "<style>.container { width:75% !important; }</style>"
      ],
      "text/plain": [
       "<IPython.core.display.HTML object>"
      ]
     },
     "metadata": {},
     "output_type": "display_data"
    }
   ],
   "source": [
    "from IPython.core.display import display, HTML\n",
    "display(HTML(\"<style>.container { width:75% !important; }</style>\"))"
   ]
  },
  {
   "cell_type": "markdown",
   "metadata": {},
   "source": [
    "# Read Dataset"
   ]
  },
  {
   "cell_type": "code",
   "execution_count": 127,
   "metadata": {
    "ExecuteTime": {
     "end_time": "2021-07-13T15:22:03.682813Z",
     "start_time": "2021-07-13T15:22:03.556891Z"
    }
   },
   "outputs": [],
   "source": [
    "X_train = pd.concat([pd.read_csv('../output/X_train.csv')['id'],\n",
    "                     pd.read_csv('../output/y_train.csv').drop(['Unnamed: 0'],axis = 1),\n",
    "                     pd.read_csv('../output/X_train.csv').drop(['id','Unnamed: 0'],axis = 1)],axis=1)"
   ]
  },
  {
   "cell_type": "code",
   "execution_count": 128,
   "metadata": {
    "ExecuteTime": {
     "end_time": "2021-07-13T15:22:03.715793Z",
     "start_time": "2021-07-13T15:22:03.684812Z"
    }
   },
   "outputs": [
    {
     "data": {
      "text/html": [
       "<div>\n",
       "<style scoped>\n",
       "    .dataframe tbody tr th:only-of-type {\n",
       "        vertical-align: middle;\n",
       "    }\n",
       "\n",
       "    .dataframe tbody tr th {\n",
       "        vertical-align: top;\n",
       "    }\n",
       "\n",
       "    .dataframe thead th {\n",
       "        text-align: right;\n",
       "    }\n",
       "</style>\n",
       "<table border=\"1\" class=\"dataframe\">\n",
       "  <thead>\n",
       "    <tr style=\"text-align: right;\">\n",
       "      <th></th>\n",
       "      <th>id</th>\n",
       "      <th>y</th>\n",
       "      <th>safra</th>\n",
       "      <th>limit_bal</th>\n",
       "      <th>sex</th>\n",
       "      <th>education</th>\n",
       "      <th>marriage</th>\n",
       "      <th>age</th>\n",
       "      <th>pay_0</th>\n",
       "      <th>pay_2</th>\n",
       "      <th>...</th>\n",
       "      <th>pay_amt3</th>\n",
       "      <th>pay_amt4</th>\n",
       "      <th>pay_amt5</th>\n",
       "      <th>pay_amt6</th>\n",
       "      <th>sum_bill</th>\n",
       "      <th>avg_bill</th>\n",
       "      <th>max_bill</th>\n",
       "      <th>sum_bill.1</th>\n",
       "      <th>avg_bill.1</th>\n",
       "      <th>max_bill.1</th>\n",
       "    </tr>\n",
       "  </thead>\n",
       "  <tbody>\n",
       "    <tr>\n",
       "      <th>0</th>\n",
       "      <td>10911</td>\n",
       "      <td>1</td>\n",
       "      <td>200601</td>\n",
       "      <td>220000</td>\n",
       "      <td>2</td>\n",
       "      <td>2</td>\n",
       "      <td>1</td>\n",
       "      <td>53</td>\n",
       "      <td>0</td>\n",
       "      <td>0</td>\n",
       "      <td>...</td>\n",
       "      <td>6033</td>\n",
       "      <td>6247</td>\n",
       "      <td>6142</td>\n",
       "      <td>6146</td>\n",
       "      <td>1153692.0</td>\n",
       "      <td>192282.00</td>\n",
       "      <td>214669.0</td>\n",
       "      <td>39622.0</td>\n",
       "      <td>6603.67</td>\n",
       "      <td>8165.0</td>\n",
       "    </tr>\n",
       "    <tr>\n",
       "      <th>1</th>\n",
       "      <td>12564</td>\n",
       "      <td>0</td>\n",
       "      <td>200602</td>\n",
       "      <td>300000</td>\n",
       "      <td>2</td>\n",
       "      <td>1</td>\n",
       "      <td>2</td>\n",
       "      <td>31</td>\n",
       "      <td>0</td>\n",
       "      <td>0</td>\n",
       "      <td>...</td>\n",
       "      <td>658</td>\n",
       "      <td>662</td>\n",
       "      <td>0</td>\n",
       "      <td>0</td>\n",
       "      <td>17752.0</td>\n",
       "      <td>2958.67</td>\n",
       "      <td>11158.0</td>\n",
       "      <td>5020.0</td>\n",
       "      <td>836.67</td>\n",
       "      <td>2700.0</td>\n",
       "    </tr>\n",
       "    <tr>\n",
       "      <th>2</th>\n",
       "      <td>370</td>\n",
       "      <td>1</td>\n",
       "      <td>200510</td>\n",
       "      <td>20000</td>\n",
       "      <td>2</td>\n",
       "      <td>2</td>\n",
       "      <td>1</td>\n",
       "      <td>32</td>\n",
       "      <td>3</td>\n",
       "      <td>2</td>\n",
       "      <td>...</td>\n",
       "      <td>384</td>\n",
       "      <td>390</td>\n",
       "      <td>632</td>\n",
       "      <td>616</td>\n",
       "      <td>93331.0</td>\n",
       "      <td>15555.17</td>\n",
       "      <td>20631.0</td>\n",
       "      <td>3190.0</td>\n",
       "      <td>531.67</td>\n",
       "      <td>1168.0</td>\n",
       "    </tr>\n",
       "    <tr>\n",
       "      <th>3</th>\n",
       "      <td>7703</td>\n",
       "      <td>0</td>\n",
       "      <td>200512</td>\n",
       "      <td>410000</td>\n",
       "      <td>1</td>\n",
       "      <td>3</td>\n",
       "      <td>2</td>\n",
       "      <td>38</td>\n",
       "      <td>-1</td>\n",
       "      <td>-1</td>\n",
       "      <td>...</td>\n",
       "      <td>2558</td>\n",
       "      <td>2663</td>\n",
       "      <td>6303</td>\n",
       "      <td>12</td>\n",
       "      <td>18791.0</td>\n",
       "      <td>3131.83</td>\n",
       "      <td>6286.0</td>\n",
       "      <td>14035.0</td>\n",
       "      <td>2339.17</td>\n",
       "      <td>6303.0</td>\n",
       "    </tr>\n",
       "    <tr>\n",
       "      <th>4</th>\n",
       "      <td>7465</td>\n",
       "      <td>0</td>\n",
       "      <td>200512</td>\n",
       "      <td>100000</td>\n",
       "      <td>2</td>\n",
       "      <td>2</td>\n",
       "      <td>2</td>\n",
       "      <td>25</td>\n",
       "      <td>0</td>\n",
       "      <td>0</td>\n",
       "      <td>...</td>\n",
       "      <td>674</td>\n",
       "      <td>0</td>\n",
       "      <td>980</td>\n",
       "      <td>4413</td>\n",
       "      <td>15355.0</td>\n",
       "      <td>2559.17</td>\n",
       "      <td>8791.0</td>\n",
       "      <td>7067.0</td>\n",
       "      <td>1177.83</td>\n",
       "      <td>4413.0</td>\n",
       "    </tr>\n",
       "  </tbody>\n",
       "</table>\n",
       "<p>5 rows × 32 columns</p>\n",
       "</div>"
      ],
      "text/plain": [
       "      id  y   safra  limit_bal  sex  education  marriage  age  pay_0  pay_2  \\\n",
       "0  10911  1  200601     220000    2          2         1   53      0      0   \n",
       "1  12564  0  200602     300000    2          1         2   31      0      0   \n",
       "2    370  1  200510      20000    2          2         1   32      3      2   \n",
       "3   7703  0  200512     410000    1          3         2   38     -1     -1   \n",
       "4   7465  0  200512     100000    2          2         2   25      0      0   \n",
       "\n",
       "   ...  pay_amt3  pay_amt4  pay_amt5  pay_amt6   sum_bill   avg_bill  \\\n",
       "0  ...      6033      6247      6142      6146  1153692.0  192282.00   \n",
       "1  ...       658       662         0         0    17752.0    2958.67   \n",
       "2  ...       384       390       632       616    93331.0   15555.17   \n",
       "3  ...      2558      2663      6303        12    18791.0    3131.83   \n",
       "4  ...       674         0       980      4413    15355.0    2559.17   \n",
       "\n",
       "   max_bill  sum_bill.1  avg_bill.1  max_bill.1  \n",
       "0  214669.0     39622.0     6603.67      8165.0  \n",
       "1   11158.0      5020.0      836.67      2700.0  \n",
       "2   20631.0      3190.0      531.67      1168.0  \n",
       "3    6286.0     14035.0     2339.17      6303.0  \n",
       "4    8791.0      7067.0     1177.83      4413.0  \n",
       "\n",
       "[5 rows x 32 columns]"
      ]
     },
     "execution_count": 128,
     "metadata": {},
     "output_type": "execute_result"
    }
   ],
   "source": [
    "X_train.head()"
   ]
  },
  {
   "cell_type": "markdown",
   "metadata": {
    "id": "8e55CbXVNric"
   },
   "source": [
    "# Análise Descritiva e Exploratória"
   ]
  },
  {
   "cell_type": "markdown",
   "metadata": {},
   "source": [
    "## Using pandas profiling"
   ]
  },
  {
   "cell_type": "markdown",
   "metadata": {},
   "source": [
    "### Intalação do Pandas Profilling: https://github.com/pandas-profiling/pandas-profiling"
   ]
  },
  {
   "cell_type": "code",
   "execution_count": 129,
   "metadata": {
    "ExecuteTime": {
     "end_time": "2021-07-13T15:22:03.871700Z",
     "start_time": "2021-07-13T15:22:03.853708Z"
    },
    "id": "FlyGuyQHxzJL"
   },
   "outputs": [],
   "source": [
    "# !pip install https://github.com/pandas-profiling/pandas-profiling/archive/master.zip"
   ]
  },
  {
   "cell_type": "markdown",
   "metadata": {},
   "source": [
    "### import"
   ]
  },
  {
   "cell_type": "code",
   "execution_count": 130,
   "metadata": {
    "ExecuteTime": {
     "end_time": "2021-07-13T15:22:03.967638Z",
     "start_time": "2021-07-13T15:22:03.962642Z"
    },
    "id": "hAcC2QIkO0U5"
   },
   "outputs": [],
   "source": [
    "from pandas_profiling import ProfileReport "
   ]
  },
  {
   "cell_type": "markdown",
   "metadata": {},
   "source": [
    "### Generator Report \n",
    "\n",
    "Dont't work "
   ]
  },
  {
   "cell_type": "code",
   "execution_count": 131,
   "metadata": {
    "ExecuteTime": {
     "end_time": "2021-07-13T15:22:04.061580Z",
     "start_time": "2021-07-13T15:22:04.053586Z"
    }
   },
   "outputs": [],
   "source": [
    "# profile = ProfileReport(X_train,minimal=True)"
   ]
  },
  {
   "cell_type": "code",
   "execution_count": 132,
   "metadata": {
    "ExecuteTime": {
     "end_time": "2021-07-13T15:22:04.077570Z",
     "start_time": "2021-07-13T15:22:04.071574Z"
    },
    "colab": {
     "base_uri": "https://localhost:8080/",
     "height": 145,
     "referenced_widgets": [
      "626a769b70fc4280b4b3ce4ef45e3fd5",
      "a4be085a11d345cdbde2ed34e7087985",
      "66b407e8d336485ab588c778a6ae2d1e",
      "4214f703bd884031a6501e30d0823515",
      "c6dbc8ac013344579cc8875e3e891553",
      "6613ef228f52481eb3f864a48856276a",
      "8091f4f0ed814e828ab08a295db9654c",
      "0dbc772063b743d0b0e23ce7ac523f7d",
      "ac863dfadbb645a48b261bc70c0a6aa4",
      "dc9eab58727940d3bdb30005ae62ad93",
      "76cb4a4f597b45b3afe49794fef3990e",
      "32e8725087054e5297ab6fb70b83e659",
      "a736a1815cdf4408b981046b656002f2",
      "8b0e8612de45456a8b154bf10d8bc737",
      "a43f75213e854f59ab9c6fa09f55b3dd",
      "1acede85c2c940359aa3c6498723e53a",
      "553ec9fecc294da0abd1af2422aad42b",
      "0bd8c11d6390495492ac48db0b5f079f",
      "ae3f4496508e4fc4bcb78f829c2fa2c6",
      "037f8d91acb449b58d6e62eb43d76ea9",
      "716f33956475487999db6f859f9c872d",
      "215fd1eee654429dbf94e2c4916f0305",
      "125c6d128f9f4276b20ec51ee7086343",
      "ec6ca06e40cb41489f9174c60029c70f",
      "8fb282c29ec946cb9304fcda5d94d377",
      "53027e4cc55a47e79a4ac163a81e9cd6",
      "38d993b92ec04929bc9f11d6aa3489d1",
      "ce1372f5e801454fb2e5787f5dfe8c0a",
      "096a50d3d9634b26912a2abcd467449f",
      "7272aa1bc3cd458b8494ddc373f46344",
      "5ec861cf734d4952abb7356f53041272",
      "9ae0a959cb5145a78c4ef75bdf6c25f2",
      "e9e14083111041449f4e48466e61138d",
      "77ec4350551542ca860cc46c4dacb8f1",
      "9191a45f058b4d83a3a1872031a485c8",
      "eeefdc2d774b48869793cbcf7162895a",
      "2ea908c19f324ef4b08f0d427844ae39",
      "3586a7e54a8745909b58116c7d4494e4",
      "ed6a71c210d24386865358f668441080",
      "517c5fe065eb43bca18d97c7e1b2300a",
      "c7037b6cb4524d0baae8a6eb50f33004",
      "be8bfb8427144ea39b9134d2c8ed8ef7",
      "16928c3ae22d4d1f95971274860ac41c",
      "ca1605d4ab704e69ad69a78cc4610d1c"
     ]
    },
    "id": "FvnNx0QOPEDJ",
    "outputId": "04a15a17-0063-4c03-cc32-869d4004ddee"
   },
   "outputs": [],
   "source": [
    "# profile.to_file(\"/content/drive/MyDrive/Curso_Logistica/descritiva.html\")"
   ]
  },
  {
   "cell_type": "markdown",
   "metadata": {},
   "source": [
    "##  Descriptive Analysis Variables "
   ]
  },
  {
   "cell_type": "markdown",
   "metadata": {},
   "source": [
    "### Fatura"
   ]
  },
  {
   "cell_type": "code",
   "execution_count": 133,
   "metadata": {
    "ExecuteTime": {
     "end_time": "2021-07-13T15:22:04.237472Z",
     "start_time": "2021-07-13T15:22:04.228478Z"
    }
   },
   "outputs": [],
   "source": [
    "varfat = ['bill_amt1','bill_amt2','bill_amt3','bill_amt4','bill_amt5','bill_amt6']"
   ]
  },
  {
   "cell_type": "markdown",
   "metadata": {},
   "source": [
    "####  Análise de Correlação"
   ]
  },
  {
   "cell_type": "code",
   "execution_count": 134,
   "metadata": {
    "ExecuteTime": {
     "end_time": "2021-07-13T15:22:04.365393Z",
     "start_time": "2021-07-13T15:22:04.318424Z"
    }
   },
   "outputs": [
    {
     "data": {
      "text/html": [
       "<style  type=\"text/css\" >\n",
       "    #T_141462be_e3ee_11eb_ba3e_0ae0afee06d8row0_col0 {\n",
       "            background-color:  #b40426;\n",
       "            color:  #f1f1f1;\n",
       "        }    #T_141462be_e3ee_11eb_ba3e_0ae0afee06d8row0_col1 {\n",
       "            background-color:  #f7a688;\n",
       "            color:  #000000;\n",
       "        }    #T_141462be_e3ee_11eb_ba3e_0ae0afee06d8row0_col2 {\n",
       "            background-color:  #688aef;\n",
       "            color:  #000000;\n",
       "        }    #T_141462be_e3ee_11eb_ba3e_0ae0afee06d8row0_col3 {\n",
       "            background-color:  #3b4cc0;\n",
       "            color:  #f1f1f1;\n",
       "        }    #T_141462be_e3ee_11eb_ba3e_0ae0afee06d8row0_col4 {\n",
       "            background-color:  #3b4cc0;\n",
       "            color:  #f1f1f1;\n",
       "        }    #T_141462be_e3ee_11eb_ba3e_0ae0afee06d8row0_col5 {\n",
       "            background-color:  #3b4cc0;\n",
       "            color:  #f1f1f1;\n",
       "        }    #T_141462be_e3ee_11eb_ba3e_0ae0afee06d8row1_col0 {\n",
       "            background-color:  #f49a7b;\n",
       "            color:  #000000;\n",
       "        }    #T_141462be_e3ee_11eb_ba3e_0ae0afee06d8row1_col1 {\n",
       "            background-color:  #b40426;\n",
       "            color:  #f1f1f1;\n",
       "        }    #T_141462be_e3ee_11eb_ba3e_0ae0afee06d8row1_col2 {\n",
       "            background-color:  #b7cff9;\n",
       "            color:  #000000;\n",
       "        }    #T_141462be_e3ee_11eb_ba3e_0ae0afee06d8row1_col3 {\n",
       "            background-color:  #7597f6;\n",
       "            color:  #000000;\n",
       "        }    #T_141462be_e3ee_11eb_ba3e_0ae0afee06d8row1_col4 {\n",
       "            background-color:  #6788ee;\n",
       "            color:  #000000;\n",
       "        }    #T_141462be_e3ee_11eb_ba3e_0ae0afee06d8row1_col5 {\n",
       "            background-color:  #5d7ce6;\n",
       "            color:  #000000;\n",
       "        }    #T_141462be_e3ee_11eb_ba3e_0ae0afee06d8row2_col0 {\n",
       "            background-color:  #b5cdfa;\n",
       "            color:  #000000;\n",
       "        }    #T_141462be_e3ee_11eb_ba3e_0ae0afee06d8row2_col1 {\n",
       "            background-color:  #d6dce4;\n",
       "            color:  #000000;\n",
       "        }    #T_141462be_e3ee_11eb_ba3e_0ae0afee06d8row2_col2 {\n",
       "            background-color:  #b40426;\n",
       "            color:  #f1f1f1;\n",
       "        }    #T_141462be_e3ee_11eb_ba3e_0ae0afee06d8row2_col3 {\n",
       "            background-color:  #cad8ef;\n",
       "            color:  #000000;\n",
       "        }    #T_141462be_e3ee_11eb_ba3e_0ae0afee06d8row2_col4 {\n",
       "            background-color:  #a7c5fe;\n",
       "            color:  #000000;\n",
       "        }    #T_141462be_e3ee_11eb_ba3e_0ae0afee06d8row2_col5 {\n",
       "            background-color:  #8fb1fe;\n",
       "            color:  #000000;\n",
       "        }    #T_141462be_e3ee_11eb_ba3e_0ae0afee06d8row3_col0 {\n",
       "            background-color:  #85a8fc;\n",
       "            color:  #000000;\n",
       "        }    #T_141462be_e3ee_11eb_ba3e_0ae0afee06d8row3_col1 {\n",
       "            background-color:  #9bbcff;\n",
       "            color:  #000000;\n",
       "        }    #T_141462be_e3ee_11eb_ba3e_0ae0afee06d8row3_col2 {\n",
       "            background-color:  #c4d5f3;\n",
       "            color:  #000000;\n",
       "        }    #T_141462be_e3ee_11eb_ba3e_0ae0afee06d8row3_col3 {\n",
       "            background-color:  #b40426;\n",
       "            color:  #f1f1f1;\n",
       "        }    #T_141462be_e3ee_11eb_ba3e_0ae0afee06d8row3_col4 {\n",
       "            background-color:  #f7b396;\n",
       "            color:  #000000;\n",
       "        }    #T_141462be_e3ee_11eb_ba3e_0ae0afee06d8row3_col5 {\n",
       "            background-color:  #e1dad6;\n",
       "            color:  #000000;\n",
       "        }    #T_141462be_e3ee_11eb_ba3e_0ae0afee06d8row4_col0 {\n",
       "            background-color:  #5f7fe8;\n",
       "            color:  #000000;\n",
       "        }    #T_141462be_e3ee_11eb_ba3e_0ae0afee06d8row4_col1 {\n",
       "            background-color:  #6b8df0;\n",
       "            color:  #000000;\n",
       "        }    #T_141462be_e3ee_11eb_ba3e_0ae0afee06d8row4_col2 {\n",
       "            background-color:  #7b9ff9;\n",
       "            color:  #000000;\n",
       "        }    #T_141462be_e3ee_11eb_ba3e_0ae0afee06d8row4_col3 {\n",
       "            background-color:  #f5c0a7;\n",
       "            color:  #000000;\n",
       "        }    #T_141462be_e3ee_11eb_ba3e_0ae0afee06d8row4_col4 {\n",
       "            background-color:  #b40426;\n",
       "            color:  #f1f1f1;\n",
       "        }    #T_141462be_e3ee_11eb_ba3e_0ae0afee06d8row4_col5 {\n",
       "            background-color:  #f6a283;\n",
       "            color:  #000000;\n",
       "        }    #T_141462be_e3ee_11eb_ba3e_0ae0afee06d8row5_col0 {\n",
       "            background-color:  #3b4cc0;\n",
       "            color:  #f1f1f1;\n",
       "        }    #T_141462be_e3ee_11eb_ba3e_0ae0afee06d8row5_col1 {\n",
       "            background-color:  #3b4cc0;\n",
       "            color:  #f1f1f1;\n",
       "        }    #T_141462be_e3ee_11eb_ba3e_0ae0afee06d8row5_col2 {\n",
       "            background-color:  #3b4cc0;\n",
       "            color:  #f1f1f1;\n",
       "        }    #T_141462be_e3ee_11eb_ba3e_0ae0afee06d8row5_col3 {\n",
       "            background-color:  #b9d0f9;\n",
       "            color:  #000000;\n",
       "        }    #T_141462be_e3ee_11eb_ba3e_0ae0afee06d8row5_col4 {\n",
       "            background-color:  #f7b093;\n",
       "            color:  #000000;\n",
       "        }    #T_141462be_e3ee_11eb_ba3e_0ae0afee06d8row5_col5 {\n",
       "            background-color:  #b40426;\n",
       "            color:  #f1f1f1;\n",
       "        }</style><table id=\"T_141462be_e3ee_11eb_ba3e_0ae0afee06d8\" ><thead>    <tr>        <th class=\"blank level0\" ></th>        <th class=\"col_heading level0 col0\" >bill_amt1</th>        <th class=\"col_heading level0 col1\" >bill_amt2</th>        <th class=\"col_heading level0 col2\" >bill_amt3</th>        <th class=\"col_heading level0 col3\" >bill_amt4</th>        <th class=\"col_heading level0 col4\" >bill_amt5</th>        <th class=\"col_heading level0 col5\" >bill_amt6</th>    </tr></thead><tbody>\n",
       "                <tr>\n",
       "                        <th id=\"T_141462be_e3ee_11eb_ba3e_0ae0afee06d8level0_row0\" class=\"row_heading level0 row0\" >bill_amt1</th>\n",
       "                        <td id=\"T_141462be_e3ee_11eb_ba3e_0ae0afee06d8row0_col0\" class=\"data row0 col0\" >1.00</td>\n",
       "                        <td id=\"T_141462be_e3ee_11eb_ba3e_0ae0afee06d8row0_col1\" class=\"data row0 col1\" >0.95</td>\n",
       "                        <td id=\"T_141462be_e3ee_11eb_ba3e_0ae0afee06d8row0_col2\" class=\"data row0 col2\" >0.88</td>\n",
       "                        <td id=\"T_141462be_e3ee_11eb_ba3e_0ae0afee06d8row0_col3\" class=\"data row0 col3\" >0.85</td>\n",
       "                        <td id=\"T_141462be_e3ee_11eb_ba3e_0ae0afee06d8row0_col4\" class=\"data row0 col4\" >0.83</td>\n",
       "                        <td id=\"T_141462be_e3ee_11eb_ba3e_0ae0afee06d8row0_col5\" class=\"data row0 col5\" >0.80</td>\n",
       "            </tr>\n",
       "            <tr>\n",
       "                        <th id=\"T_141462be_e3ee_11eb_ba3e_0ae0afee06d8level0_row1\" class=\"row_heading level0 row1\" >bill_amt2</th>\n",
       "                        <td id=\"T_141462be_e3ee_11eb_ba3e_0ae0afee06d8row1_col0\" class=\"data row1 col0\" >0.95</td>\n",
       "                        <td id=\"T_141462be_e3ee_11eb_ba3e_0ae0afee06d8row1_col1\" class=\"data row1 col1\" >1.00</td>\n",
       "                        <td id=\"T_141462be_e3ee_11eb_ba3e_0ae0afee06d8row1_col2\" class=\"data row1 col2\" >0.91</td>\n",
       "                        <td id=\"T_141462be_e3ee_11eb_ba3e_0ae0afee06d8row1_col3\" class=\"data row1 col3\" >0.88</td>\n",
       "                        <td id=\"T_141462be_e3ee_11eb_ba3e_0ae0afee06d8row1_col4\" class=\"data row1 col4\" >0.85</td>\n",
       "                        <td id=\"T_141462be_e3ee_11eb_ba3e_0ae0afee06d8row1_col5\" class=\"data row1 col5\" >0.83</td>\n",
       "            </tr>\n",
       "            <tr>\n",
       "                        <th id=\"T_141462be_e3ee_11eb_ba3e_0ae0afee06d8level0_row2\" class=\"row_heading level0 row2\" >bill_amt3</th>\n",
       "                        <td id=\"T_141462be_e3ee_11eb_ba3e_0ae0afee06d8row2_col0\" class=\"data row2 col0\" >0.88</td>\n",
       "                        <td id=\"T_141462be_e3ee_11eb_ba3e_0ae0afee06d8row2_col1\" class=\"data row2 col1\" >0.91</td>\n",
       "                        <td id=\"T_141462be_e3ee_11eb_ba3e_0ae0afee06d8row2_col2\" class=\"data row2 col2\" >1.00</td>\n",
       "                        <td id=\"T_141462be_e3ee_11eb_ba3e_0ae0afee06d8row2_col3\" class=\"data row2 col3\" >0.91</td>\n",
       "                        <td id=\"T_141462be_e3ee_11eb_ba3e_0ae0afee06d8row2_col4\" class=\"data row2 col4\" >0.88</td>\n",
       "                        <td id=\"T_141462be_e3ee_11eb_ba3e_0ae0afee06d8row2_col5\" class=\"data row2 col5\" >0.85</td>\n",
       "            </tr>\n",
       "            <tr>\n",
       "                        <th id=\"T_141462be_e3ee_11eb_ba3e_0ae0afee06d8level0_row3\" class=\"row_heading level0 row3\" >bill_amt4</th>\n",
       "                        <td id=\"T_141462be_e3ee_11eb_ba3e_0ae0afee06d8row3_col0\" class=\"data row3 col0\" >0.85</td>\n",
       "                        <td id=\"T_141462be_e3ee_11eb_ba3e_0ae0afee06d8row3_col1\" class=\"data row3 col1\" >0.88</td>\n",
       "                        <td id=\"T_141462be_e3ee_11eb_ba3e_0ae0afee06d8row3_col2\" class=\"data row3 col2\" >0.91</td>\n",
       "                        <td id=\"T_141462be_e3ee_11eb_ba3e_0ae0afee06d8row3_col3\" class=\"data row3 col3\" >1.00</td>\n",
       "                        <td id=\"T_141462be_e3ee_11eb_ba3e_0ae0afee06d8row3_col4\" class=\"data row3 col4\" >0.95</td>\n",
       "                        <td id=\"T_141462be_e3ee_11eb_ba3e_0ae0afee06d8row3_col5\" class=\"data row3 col5\" >0.91</td>\n",
       "            </tr>\n",
       "            <tr>\n",
       "                        <th id=\"T_141462be_e3ee_11eb_ba3e_0ae0afee06d8level0_row4\" class=\"row_heading level0 row4\" >bill_amt5</th>\n",
       "                        <td id=\"T_141462be_e3ee_11eb_ba3e_0ae0afee06d8row4_col0\" class=\"data row4 col0\" >0.83</td>\n",
       "                        <td id=\"T_141462be_e3ee_11eb_ba3e_0ae0afee06d8row4_col1\" class=\"data row4 col1\" >0.85</td>\n",
       "                        <td id=\"T_141462be_e3ee_11eb_ba3e_0ae0afee06d8row4_col2\" class=\"data row4 col2\" >0.88</td>\n",
       "                        <td id=\"T_141462be_e3ee_11eb_ba3e_0ae0afee06d8row4_col3\" class=\"data row4 col3\" >0.95</td>\n",
       "                        <td id=\"T_141462be_e3ee_11eb_ba3e_0ae0afee06d8row4_col4\" class=\"data row4 col4\" >1.00</td>\n",
       "                        <td id=\"T_141462be_e3ee_11eb_ba3e_0ae0afee06d8row4_col5\" class=\"data row4 col5\" >0.95</td>\n",
       "            </tr>\n",
       "            <tr>\n",
       "                        <th id=\"T_141462be_e3ee_11eb_ba3e_0ae0afee06d8level0_row5\" class=\"row_heading level0 row5\" >bill_amt6</th>\n",
       "                        <td id=\"T_141462be_e3ee_11eb_ba3e_0ae0afee06d8row5_col0\" class=\"data row5 col0\" >0.80</td>\n",
       "                        <td id=\"T_141462be_e3ee_11eb_ba3e_0ae0afee06d8row5_col1\" class=\"data row5 col1\" >0.83</td>\n",
       "                        <td id=\"T_141462be_e3ee_11eb_ba3e_0ae0afee06d8row5_col2\" class=\"data row5 col2\" >0.85</td>\n",
       "                        <td id=\"T_141462be_e3ee_11eb_ba3e_0ae0afee06d8row5_col3\" class=\"data row5 col3\" >0.91</td>\n",
       "                        <td id=\"T_141462be_e3ee_11eb_ba3e_0ae0afee06d8row5_col4\" class=\"data row5 col4\" >0.95</td>\n",
       "                        <td id=\"T_141462be_e3ee_11eb_ba3e_0ae0afee06d8row5_col5\" class=\"data row5 col5\" >1.00</td>\n",
       "            </tr>\n",
       "    </tbody></table>"
      ],
      "text/plain": [
       "<pandas.io.formats.style.Styler at 0x1cd4c2cb948>"
      ]
     },
     "execution_count": 134,
     "metadata": {},
     "output_type": "execute_result"
    }
   ],
   "source": [
    "corr = X_train[varfat].corr()\n",
    "corr.style.background_gradient(cmap='coolwarm').set_precision(2)"
   ]
  },
  {
   "cell_type": "code",
   "execution_count": 135,
   "metadata": {
    "ExecuteTime": {
     "end_time": "2021-07-13T15:22:05.313810Z",
     "start_time": "2021-07-13T15:22:04.367393Z"
    }
   },
   "outputs": [
    {
     "data": {
      "image/png": "[encoded data removed]",
      "text/plain": [
       "<Figure size 1584x288 with 6 Axes>"
      ]
     },
     "metadata": {
      "needs_background": "light"
     },
     "output_type": "display_data"
    }
   ],
   "source": [
    "fig, axi = plt.subplots(nrows = 2,ncols = 3, figsize = (22,4))\n",
    "\n",
    "for ax, col in zip(axi.flat, varfat):\n",
    "    X_train[col].hist(ax=ax)\n",
    "    ax.set_title(col)  \n",
    "# Display the figure object    \n",
    "\n",
    "fig.tight_layout();"
   ]
  },
  {
   "cell_type": "markdown",
   "metadata": {},
   "source": [
    "As variáveis $\\text{bill_amt1, ... , bill_amt6}$ referente ao faturamento possuem um comportamento assimétrico com cauda à direita para as variáveis além de valores negativos e discrepantes, iremos tratá-los.\n",
    "\n",
    "- Os valores menores que zero iremos truncá-los em -1\n",
    "- Os valores discrepantes iremos substiuí-los pelo quantil 95 de cada variável "
   ]
  },
  {
   "cell_type": "code",
   "execution_count": 136,
   "metadata": {
    "ExecuteTime": {
     "end_time": "2021-07-13T15:22:05.376772Z",
     "start_time": "2021-07-13T15:22:05.316811Z"
    }
   },
   "outputs": [],
   "source": [
    "for i in varfat:\n",
    "    X_train.loc[X_train[i] < 0, i] = -1\n",
    "    X_train.loc[X_train[i] > X_train[i].quantile(.95), i] = X_train[i].quantile(.95).round(2)    "
   ]
  },
  {
   "cell_type": "code",
   "execution_count": 137,
   "metadata": {
    "ExecuteTime": {
     "end_time": "2021-07-13T15:22:05.424743Z",
     "start_time": "2021-07-13T15:22:05.379771Z"
    }
   },
   "outputs": [
    {
     "data": {
      "text/html": [
       "<div>\n",
       "<style scoped>\n",
       "    .dataframe tbody tr th:only-of-type {\n",
       "        vertical-align: middle;\n",
       "    }\n",
       "\n",
       "    .dataframe tbody tr th {\n",
       "        vertical-align: top;\n",
       "    }\n",
       "\n",
       "    .dataframe thead th {\n",
       "        text-align: right;\n",
       "    }\n",
       "</style>\n",
       "<table border=\"1\" class=\"dataframe\">\n",
       "  <thead>\n",
       "    <tr style=\"text-align: right;\">\n",
       "      <th></th>\n",
       "      <th>bill_amt1</th>\n",
       "      <th>bill_amt2</th>\n",
       "      <th>bill_amt3</th>\n",
       "      <th>bill_amt4</th>\n",
       "      <th>bill_amt5</th>\n",
       "      <th>bill_amt6</th>\n",
       "    </tr>\n",
       "  </thead>\n",
       "  <tbody>\n",
       "    <tr>\n",
       "      <th>count</th>\n",
       "      <td>14700.000000</td>\n",
       "      <td>14700.000000</td>\n",
       "      <td>14700.000000</td>\n",
       "      <td>14700.000000</td>\n",
       "      <td>14700.000000</td>\n",
       "      <td>14700.000000</td>\n",
       "    </tr>\n",
       "    <tr>\n",
       "      <th>mean</th>\n",
       "      <td>45465.435833</td>\n",
       "      <td>43660.609269</td>\n",
       "      <td>41584.696259</td>\n",
       "      <td>37836.649694</td>\n",
       "      <td>35909.492041</td>\n",
       "      <td>34676.928248</td>\n",
       "    </tr>\n",
       "    <tr>\n",
       "      <th>std</th>\n",
       "      <td>55233.247345</td>\n",
       "      <td>53301.090551</td>\n",
       "      <td>51412.922511</td>\n",
       "      <td>47647.546303</td>\n",
       "      <td>45800.515281</td>\n",
       "      <td>45161.987753</td>\n",
       "    </tr>\n",
       "    <tr>\n",
       "      <th>min</th>\n",
       "      <td>-1.000000</td>\n",
       "      <td>-1.000000</td>\n",
       "      <td>-1.000000</td>\n",
       "      <td>-1.000000</td>\n",
       "      <td>-1.000000</td>\n",
       "      <td>-1.000000</td>\n",
       "    </tr>\n",
       "    <tr>\n",
       "      <th>25%</th>\n",
       "      <td>3700.000000</td>\n",
       "      <td>3158.500000</td>\n",
       "      <td>2721.500000</td>\n",
       "      <td>2329.000000</td>\n",
       "      <td>1764.500000</td>\n",
       "      <td>1261.000000</td>\n",
       "    </tr>\n",
       "    <tr>\n",
       "      <th>50%</th>\n",
       "      <td>22048.500000</td>\n",
       "      <td>21085.500000</td>\n",
       "      <td>19967.500000</td>\n",
       "      <td>18810.500000</td>\n",
       "      <td>18122.000000</td>\n",
       "      <td>16871.500000</td>\n",
       "    </tr>\n",
       "    <tr>\n",
       "      <th>75%</th>\n",
       "      <td>64662.250000</td>\n",
       "      <td>62051.250000</td>\n",
       "      <td>58566.500000</td>\n",
       "      <td>50829.500000</td>\n",
       "      <td>49372.500000</td>\n",
       "      <td>48391.500000</td>\n",
       "    </tr>\n",
       "    <tr>\n",
       "      <th>max</th>\n",
       "      <td>191879.050000</td>\n",
       "      <td>186227.150000</td>\n",
       "      <td>180484.200000</td>\n",
       "      <td>168163.300000</td>\n",
       "      <td>161342.000000</td>\n",
       "      <td>158664.350000</td>\n",
       "    </tr>\n",
       "  </tbody>\n",
       "</table>\n",
       "</div>"
      ],
      "text/plain": [
       "           bill_amt1      bill_amt2      bill_amt3      bill_amt4  \\\n",
       "count   14700.000000   14700.000000   14700.000000   14700.000000   \n",
       "mean    45465.435833   43660.609269   41584.696259   37836.649694   \n",
       "std     55233.247345   53301.090551   51412.922511   47647.546303   \n",
       "min        -1.000000      -1.000000      -1.000000      -1.000000   \n",
       "25%      3700.000000    3158.500000    2721.500000    2329.000000   \n",
       "50%     22048.500000   21085.500000   19967.500000   18810.500000   \n",
       "75%     64662.250000   62051.250000   58566.500000   50829.500000   \n",
       "max    191879.050000  186227.150000  180484.200000  168163.300000   \n",
       "\n",
       "           bill_amt5      bill_amt6  \n",
       "count   14700.000000   14700.000000  \n",
       "mean    35909.492041   34676.928248  \n",
       "std     45800.515281   45161.987753  \n",
       "min        -1.000000      -1.000000  \n",
       "25%      1764.500000    1261.000000  \n",
       "50%     18122.000000   16871.500000  \n",
       "75%     49372.500000   48391.500000  \n",
       "max    161342.000000  158664.350000  "
      ]
     },
     "execution_count": 137,
     "metadata": {},
     "output_type": "execute_result"
    }
   ],
   "source": [
    "X_train[varfat].describe()"
   ]
  },
  {
   "cell_type": "code",
   "execution_count": 138,
   "metadata": {
    "ExecuteTime": {
     "end_time": "2021-07-13T15:22:06.688358Z",
     "start_time": "2021-07-13T15:22:05.426743Z"
    }
   },
   "outputs": [
    {
     "data": {
      "image/png": "[encoded data removed]",
      "text/plain": [
       "<Figure size 1584x288 with 6 Axes>"
      ]
     },
     "metadata": {
      "needs_background": "light"
     },
     "output_type": "display_data"
    }
   ],
   "source": [
    "fig, axi = plt.subplots(nrows = 2,ncols = 3, figsize = (22,4))\n",
    "\n",
    "for ax, col in zip(axi.flat, varfat):\n",
    "    X_train[col].hist(ax=ax)\n",
    "    ax.set_title(col)  \n",
    "# Display the figure object    \n",
    "\n",
    "fig.tight_layout();"
   ]
  },
  {
   "cell_type": "code",
   "execution_count": 139,
   "metadata": {
    "ExecuteTime": {
     "end_time": "2021-07-13T15:22:06.704349Z",
     "start_time": "2021-07-13T15:22:06.691357Z"
    },
    "colab": {
     "base_uri": "https://localhost:8080/"
    },
    "id": "qIkxSL9oal7A",
    "outputId": "64d2db12-416a-4c3c-9886-ab83453be822"
   },
   "outputs": [
    {
     "data": {
      "text/plain": [
       "count     14700.000000\n",
       "mean      43660.609269\n",
       "std       53301.090551\n",
       "min          -1.000000\n",
       "25%        3158.500000\n",
       "50%       21085.500000\n",
       "75%       62051.250000\n",
       "max      186227.150000\n",
       "Name: bill_amt2, dtype: float64"
      ]
     },
     "execution_count": 139,
     "metadata": {},
     "output_type": "execute_result"
    }
   ],
   "source": [
    "X_train['bill_amt2'].describe()"
   ]
  },
  {
   "cell_type": "markdown",
   "metadata": {},
   "source": [
    "### Pagamento"
   ]
  },
  {
   "cell_type": "code",
   "execution_count": 140,
   "metadata": {
    "ExecuteTime": {
     "end_time": "2021-07-13T15:22:06.720339Z",
     "start_time": "2021-07-13T15:22:06.707349Z"
    }
   },
   "outputs": [],
   "source": [
    "varpay = ['pay_amt1','pay_amt2','pay_amt3','pay_amt4','pay_amt5','pay_amt6']"
   ]
  },
  {
   "cell_type": "markdown",
   "metadata": {},
   "source": [
    "####  Análise de Correlação"
   ]
  },
  {
   "cell_type": "code",
   "execution_count": 141,
   "metadata": {
    "ExecuteTime": {
     "end_time": "2021-07-13T15:22:06.768311Z",
     "start_time": "2021-07-13T15:22:06.724337Z"
    }
   },
   "outputs": [
    {
     "data": {
      "text/html": [
       "<style  type=\"text/css\" >\n",
       "    #T_1582958c_e3ee_11eb_95e4_0ae0afee06d8row0_col0 {\n",
       "            background-color:  #b40426;\n",
       "            color:  #f1f1f1;\n",
       "        }    #T_1582958c_e3ee_11eb_95e4_0ae0afee06d8row0_col1 {\n",
       "            background-color:  #4257c9;\n",
       "            color:  #f1f1f1;\n",
       "        }    #T_1582958c_e3ee_11eb_95e4_0ae0afee06d8row0_col2 {\n",
       "            background-color:  #3f53c6;\n",
       "            color:  #f1f1f1;\n",
       "        }    #T_1582958c_e3ee_11eb_95e4_0ae0afee06d8row0_col3 {\n",
       "            background-color:  #3d50c3;\n",
       "            color:  #f1f1f1;\n",
       "        }    #T_1582958c_e3ee_11eb_95e4_0ae0afee06d8row0_col4 {\n",
       "            background-color:  #455cce;\n",
       "            color:  #f1f1f1;\n",
       "        }    #T_1582958c_e3ee_11eb_95e4_0ae0afee06d8row0_col5 {\n",
       "            background-color:  #5470de;\n",
       "            color:  #000000;\n",
       "        }    #T_1582958c_e3ee_11eb_95e4_0ae0afee06d8row1_col0 {\n",
       "            background-color:  #3e51c5;\n",
       "            color:  #f1f1f1;\n",
       "        }    #T_1582958c_e3ee_11eb_95e4_0ae0afee06d8row1_col1 {\n",
       "            background-color:  #b40426;\n",
       "            color:  #f1f1f1;\n",
       "        }    #T_1582958c_e3ee_11eb_95e4_0ae0afee06d8row1_col2 {\n",
       "            background-color:  #4961d2;\n",
       "            color:  #f1f1f1;\n",
       "        }    #T_1582958c_e3ee_11eb_95e4_0ae0afee06d8row1_col3 {\n",
       "            background-color:  #3b4cc0;\n",
       "            color:  #f1f1f1;\n",
       "        }    #T_1582958c_e3ee_11eb_95e4_0ae0afee06d8row1_col4 {\n",
       "            background-color:  #5875e1;\n",
       "            color:  #000000;\n",
       "        }    #T_1582958c_e3ee_11eb_95e4_0ae0afee06d8row1_col5 {\n",
       "            background-color:  #455cce;\n",
       "            color:  #f1f1f1;\n",
       "        }    #T_1582958c_e3ee_11eb_95e4_0ae0afee06d8row2_col0 {\n",
       "            background-color:  #3f53c6;\n",
       "            color:  #f1f1f1;\n",
       "        }    #T_1582958c_e3ee_11eb_95e4_0ae0afee06d8row2_col1 {\n",
       "            background-color:  #4b64d5;\n",
       "            color:  #f1f1f1;\n",
       "        }    #T_1582958c_e3ee_11eb_95e4_0ae0afee06d8row2_col2 {\n",
       "            background-color:  #b40426;\n",
       "            color:  #f1f1f1;\n",
       "        }    #T_1582958c_e3ee_11eb_95e4_0ae0afee06d8row2_col3 {\n",
       "            background-color:  #3d50c3;\n",
       "            color:  #f1f1f1;\n",
       "        }    #T_1582958c_e3ee_11eb_95e4_0ae0afee06d8row2_col4 {\n",
       "            background-color:  #3d50c3;\n",
       "            color:  #f1f1f1;\n",
       "        }    #T_1582958c_e3ee_11eb_95e4_0ae0afee06d8row2_col5 {\n",
       "            background-color:  #3e51c5;\n",
       "            color:  #f1f1f1;\n",
       "        }    #T_1582958c_e3ee_11eb_95e4_0ae0afee06d8row3_col0 {\n",
       "            background-color:  #3b4cc0;\n",
       "            color:  #f1f1f1;\n",
       "        }    #T_1582958c_e3ee_11eb_95e4_0ae0afee06d8row3_col1 {\n",
       "            background-color:  #3b4cc0;\n",
       "            color:  #f1f1f1;\n",
       "        }    #T_1582958c_e3ee_11eb_95e4_0ae0afee06d8row3_col2 {\n",
       "            background-color:  #3b4cc0;\n",
       "            color:  #f1f1f1;\n",
       "        }    #T_1582958c_e3ee_11eb_95e4_0ae0afee06d8row3_col3 {\n",
       "            background-color:  #b40426;\n",
       "            color:  #f1f1f1;\n",
       "        }    #T_1582958c_e3ee_11eb_95e4_0ae0afee06d8row3_col4 {\n",
       "            background-color:  #3b4cc0;\n",
       "            color:  #f1f1f1;\n",
       "        }    #T_1582958c_e3ee_11eb_95e4_0ae0afee06d8row3_col5 {\n",
       "            background-color:  #3b4cc0;\n",
       "            color:  #f1f1f1;\n",
       "        }    #T_1582958c_e3ee_11eb_95e4_0ae0afee06d8row4_col0 {\n",
       "            background-color:  #445acc;\n",
       "            color:  #f1f1f1;\n",
       "        }    #T_1582958c_e3ee_11eb_95e4_0ae0afee06d8row4_col1 {\n",
       "            background-color:  #5a78e4;\n",
       "            color:  #000000;\n",
       "        }    #T_1582958c_e3ee_11eb_95e4_0ae0afee06d8row4_col2 {\n",
       "            background-color:  #3d50c3;\n",
       "            color:  #f1f1f1;\n",
       "        }    #T_1582958c_e3ee_11eb_95e4_0ae0afee06d8row4_col3 {\n",
       "            background-color:  #3c4ec2;\n",
       "            color:  #f1f1f1;\n",
       "        }    #T_1582958c_e3ee_11eb_95e4_0ae0afee06d8row4_col4 {\n",
       "            background-color:  #b40426;\n",
       "            color:  #f1f1f1;\n",
       "        }    #T_1582958c_e3ee_11eb_95e4_0ae0afee06d8row4_col5 {\n",
       "            background-color:  #4055c8;\n",
       "            color:  #f1f1f1;\n",
       "        }    #T_1582958c_e3ee_11eb_95e4_0ae0afee06d8row5_col0 {\n",
       "            background-color:  #516ddb;\n",
       "            color:  #000000;\n",
       "        }    #T_1582958c_e3ee_11eb_95e4_0ae0afee06d8row5_col1 {\n",
       "            background-color:  #465ecf;\n",
       "            color:  #f1f1f1;\n",
       "        }    #T_1582958c_e3ee_11eb_95e4_0ae0afee06d8row5_col2 {\n",
       "            background-color:  #3d50c3;\n",
       "            color:  #f1f1f1;\n",
       "        }    #T_1582958c_e3ee_11eb_95e4_0ae0afee06d8row5_col3 {\n",
       "            background-color:  #3c4ec2;\n",
       "            color:  #f1f1f1;\n",
       "        }    #T_1582958c_e3ee_11eb_95e4_0ae0afee06d8row5_col4 {\n",
       "            background-color:  #3f53c6;\n",
       "            color:  #f1f1f1;\n",
       "        }    #T_1582958c_e3ee_11eb_95e4_0ae0afee06d8row5_col5 {\n",
       "            background-color:  #b40426;\n",
       "            color:  #f1f1f1;\n",
       "        }</style><table id=\"T_1582958c_e3ee_11eb_95e4_0ae0afee06d8\" ><thead>    <tr>        <th class=\"blank level0\" ></th>        <th class=\"col_heading level0 col0\" >pay_amt1</th>        <th class=\"col_heading level0 col1\" >pay_amt2</th>        <th class=\"col_heading level0 col2\" >pay_amt3</th>        <th class=\"col_heading level0 col3\" >pay_amt4</th>        <th class=\"col_heading level0 col4\" >pay_amt5</th>        <th class=\"col_heading level0 col5\" >pay_amt6</th>    </tr></thead><tbody>\n",
       "                <tr>\n",
       "                        <th id=\"T_1582958c_e3ee_11eb_95e4_0ae0afee06d8level0_row0\" class=\"row_heading level0 row0\" >pay_amt1</th>\n",
       "                        <td id=\"T_1582958c_e3ee_11eb_95e4_0ae0afee06d8row0_col0\" class=\"data row0 col0\" >1.00</td>\n",
       "                        <td id=\"T_1582958c_e3ee_11eb_95e4_0ae0afee06d8row0_col1\" class=\"data row0 col1\" >0.16</td>\n",
       "                        <td id=\"T_1582958c_e3ee_11eb_95e4_0ae0afee06d8row0_col2\" class=\"data row0 col2\" >0.16</td>\n",
       "                        <td id=\"T_1582958c_e3ee_11eb_95e4_0ae0afee06d8row0_col3\" class=\"data row0 col3\" >0.14</td>\n",
       "                        <td id=\"T_1582958c_e3ee_11eb_95e4_0ae0afee06d8row0_col4\" class=\"data row0 col4\" >0.17</td>\n",
       "                        <td id=\"T_1582958c_e3ee_11eb_95e4_0ae0afee06d8row0_col5\" class=\"data row0 col5\" >0.21</td>\n",
       "            </tr>\n",
       "            <tr>\n",
       "                        <th id=\"T_1582958c_e3ee_11eb_95e4_0ae0afee06d8level0_row1\" class=\"row_heading level0 row1\" >pay_amt2</th>\n",
       "                        <td id=\"T_1582958c_e3ee_11eb_95e4_0ae0afee06d8row1_col0\" class=\"data row1 col0\" >0.16</td>\n",
       "                        <td id=\"T_1582958c_e3ee_11eb_95e4_0ae0afee06d8row1_col1\" class=\"data row1 col1\" >1.00</td>\n",
       "                        <td id=\"T_1582958c_e3ee_11eb_95e4_0ae0afee06d8row1_col2\" class=\"data row1 col2\" >0.18</td>\n",
       "                        <td id=\"T_1582958c_e3ee_11eb_95e4_0ae0afee06d8row1_col3\" class=\"data row1 col3\" >0.13</td>\n",
       "                        <td id=\"T_1582958c_e3ee_11eb_95e4_0ae0afee06d8row1_col4\" class=\"data row1 col4\" >0.22</td>\n",
       "                        <td id=\"T_1582958c_e3ee_11eb_95e4_0ae0afee06d8row1_col5\" class=\"data row1 col5\" >0.17</td>\n",
       "            </tr>\n",
       "            <tr>\n",
       "                        <th id=\"T_1582958c_e3ee_11eb_95e4_0ae0afee06d8level0_row2\" class=\"row_heading level0 row2\" >pay_amt3</th>\n",
       "                        <td id=\"T_1582958c_e3ee_11eb_95e4_0ae0afee06d8row2_col0\" class=\"data row2 col0\" >0.16</td>\n",
       "                        <td id=\"T_1582958c_e3ee_11eb_95e4_0ae0afee06d8row2_col1\" class=\"data row2 col1\" >0.18</td>\n",
       "                        <td id=\"T_1582958c_e3ee_11eb_95e4_0ae0afee06d8row2_col2\" class=\"data row2 col2\" >1.00</td>\n",
       "                        <td id=\"T_1582958c_e3ee_11eb_95e4_0ae0afee06d8row2_col3\" class=\"data row2 col3\" >0.14</td>\n",
       "                        <td id=\"T_1582958c_e3ee_11eb_95e4_0ae0afee06d8row2_col4\" class=\"data row2 col4\" >0.15</td>\n",
       "                        <td id=\"T_1582958c_e3ee_11eb_95e4_0ae0afee06d8row2_col5\" class=\"data row2 col5\" >0.15</td>\n",
       "            </tr>\n",
       "            <tr>\n",
       "                        <th id=\"T_1582958c_e3ee_11eb_95e4_0ae0afee06d8level0_row3\" class=\"row_heading level0 row3\" >pay_amt4</th>\n",
       "                        <td id=\"T_1582958c_e3ee_11eb_95e4_0ae0afee06d8row3_col0\" class=\"data row3 col0\" >0.14</td>\n",
       "                        <td id=\"T_1582958c_e3ee_11eb_95e4_0ae0afee06d8row3_col1\" class=\"data row3 col1\" >0.13</td>\n",
       "                        <td id=\"T_1582958c_e3ee_11eb_95e4_0ae0afee06d8row3_col2\" class=\"data row3 col2\" >0.14</td>\n",
       "                        <td id=\"T_1582958c_e3ee_11eb_95e4_0ae0afee06d8row3_col3\" class=\"data row3 col3\" >1.00</td>\n",
       "                        <td id=\"T_1582958c_e3ee_11eb_95e4_0ae0afee06d8row3_col4\" class=\"data row3 col4\" >0.14</td>\n",
       "                        <td id=\"T_1582958c_e3ee_11eb_95e4_0ae0afee06d8row3_col5\" class=\"data row3 col5\" >0.14</td>\n",
       "            </tr>\n",
       "            <tr>\n",
       "                        <th id=\"T_1582958c_e3ee_11eb_95e4_0ae0afee06d8level0_row4\" class=\"row_heading level0 row4\" >pay_amt5</th>\n",
       "                        <td id=\"T_1582958c_e3ee_11eb_95e4_0ae0afee06d8row4_col0\" class=\"data row4 col0\" >0.17</td>\n",
       "                        <td id=\"T_1582958c_e3ee_11eb_95e4_0ae0afee06d8row4_col1\" class=\"data row4 col1\" >0.22</td>\n",
       "                        <td id=\"T_1582958c_e3ee_11eb_95e4_0ae0afee06d8row4_col2\" class=\"data row4 col2\" >0.15</td>\n",
       "                        <td id=\"T_1582958c_e3ee_11eb_95e4_0ae0afee06d8row4_col3\" class=\"data row4 col3\" >0.14</td>\n",
       "                        <td id=\"T_1582958c_e3ee_11eb_95e4_0ae0afee06d8row4_col4\" class=\"data row4 col4\" >1.00</td>\n",
       "                        <td id=\"T_1582958c_e3ee_11eb_95e4_0ae0afee06d8row4_col5\" class=\"data row4 col5\" >0.15</td>\n",
       "            </tr>\n",
       "            <tr>\n",
       "                        <th id=\"T_1582958c_e3ee_11eb_95e4_0ae0afee06d8level0_row5\" class=\"row_heading level0 row5\" >pay_amt6</th>\n",
       "                        <td id=\"T_1582958c_e3ee_11eb_95e4_0ae0afee06d8row5_col0\" class=\"data row5 col0\" >0.21</td>\n",
       "                        <td id=\"T_1582958c_e3ee_11eb_95e4_0ae0afee06d8row5_col1\" class=\"data row5 col1\" >0.17</td>\n",
       "                        <td id=\"T_1582958c_e3ee_11eb_95e4_0ae0afee06d8row5_col2\" class=\"data row5 col2\" >0.15</td>\n",
       "                        <td id=\"T_1582958c_e3ee_11eb_95e4_0ae0afee06d8row5_col3\" class=\"data row5 col3\" >0.14</td>\n",
       "                        <td id=\"T_1582958c_e3ee_11eb_95e4_0ae0afee06d8row5_col4\" class=\"data row5 col4\" >0.15</td>\n",
       "                        <td id=\"T_1582958c_e3ee_11eb_95e4_0ae0afee06d8row5_col5\" class=\"data row5 col5\" >1.00</td>\n",
       "            </tr>\n",
       "    </tbody></table>"
      ],
      "text/plain": [
       "<pandas.io.formats.style.Styler at 0x1cd4e166088>"
      ]
     },
     "execution_count": 141,
     "metadata": {},
     "output_type": "execute_result"
    }
   ],
   "source": [
    "corr = X_train[varpay].corr()\n",
    "corr.style.background_gradient(cmap='coolwarm').set_precision(2)"
   ]
  },
  {
   "cell_type": "code",
   "execution_count": 142,
   "metadata": {
    "ExecuteTime": {
     "end_time": "2021-07-13T15:22:07.599540Z",
     "start_time": "2021-07-13T15:22:06.771307Z"
    }
   },
   "outputs": [
    {
     "data": {
      "image/png": "[encoded data removed]",
      "text/plain": [
       "<Figure size 1584x288 with 6 Axes>"
      ]
     },
     "metadata": {
      "needs_background": "light"
     },
     "output_type": "display_data"
    }
   ],
   "source": [
    "fig, axi = plt.subplots(nrows = 2,ncols = 3, figsize = (22,4))\n",
    "\n",
    "for ax, col in zip(axi.flat, varpay):\n",
    "    X_train[col].hist(ax=ax)\n",
    "    ax.set_title(col)  \n",
    "# Display the figure object    \n",
    "\n",
    "fig.tight_layout();"
   ]
  },
  {
   "cell_type": "markdown",
   "metadata": {},
   "source": [
    "Note que para as variáveis $\\text{pay_amt1, ... , pay_amt6}$ de pagamento também há um comportamento assimétrico com cauda à direita porém não há negativos, iremos tratá-los.\n",
    "\n",
    "- Os valores discrepantes iremos substiuí-los pelo quantil 95 de cada variável "
   ]
  },
  {
   "cell_type": "code",
   "execution_count": 143,
   "metadata": {
    "ExecuteTime": {
     "end_time": "2021-07-13T15:22:07.662704Z",
     "start_time": "2021-07-13T15:22:07.601539Z"
    }
   },
   "outputs": [],
   "source": [
    "for i in varpay:\n",
    "    X_train.loc[X_train[i] > X_train[i].quantile(.95), i] = X_train[i].quantile(.95).round(2)    "
   ]
  },
  {
   "cell_type": "code",
   "execution_count": 144,
   "metadata": {
    "ExecuteTime": {
     "end_time": "2021-07-13T15:22:07.710172Z",
     "start_time": "2021-07-13T15:22:07.665201Z"
    }
   },
   "outputs": [
    {
     "data": {
      "text/html": [
       "<div>\n",
       "<style scoped>\n",
       "    .dataframe tbody tr th:only-of-type {\n",
       "        vertical-align: middle;\n",
       "    }\n",
       "\n",
       "    .dataframe tbody tr th {\n",
       "        vertical-align: top;\n",
       "    }\n",
       "\n",
       "    .dataframe thead th {\n",
       "        text-align: right;\n",
       "    }\n",
       "</style>\n",
       "<table border=\"1\" class=\"dataframe\">\n",
       "  <thead>\n",
       "    <tr style=\"text-align: right;\">\n",
       "      <th></th>\n",
       "      <th>pay_amt1</th>\n",
       "      <th>pay_amt2</th>\n",
       "      <th>pay_amt3</th>\n",
       "      <th>pay_amt4</th>\n",
       "      <th>pay_amt5</th>\n",
       "      <th>pay_amt6</th>\n",
       "    </tr>\n",
       "  </thead>\n",
       "  <tbody>\n",
       "    <tr>\n",
       "      <th>count</th>\n",
       "      <td>14700.000000</td>\n",
       "      <td>14700.000000</td>\n",
       "      <td>14700.000000</td>\n",
       "      <td>14700.000000</td>\n",
       "      <td>14700.000000</td>\n",
       "      <td>14700.000000</td>\n",
       "    </tr>\n",
       "    <tr>\n",
       "      <th>mean</th>\n",
       "      <td>3899.297398</td>\n",
       "      <td>3829.084728</td>\n",
       "      <td>3165.294864</td>\n",
       "      <td>3035.039150</td>\n",
       "      <td>3083.597194</td>\n",
       "      <td>3091.556939</td>\n",
       "    </tr>\n",
       "    <tr>\n",
       "      <th>std</th>\n",
       "      <td>4658.530039</td>\n",
       "      <td>4856.134628</td>\n",
       "      <td>4101.396117</td>\n",
       "      <td>4019.149798</td>\n",
       "      <td>4103.976382</td>\n",
       "      <td>4349.058465</td>\n",
       "    </tr>\n",
       "    <tr>\n",
       "      <th>min</th>\n",
       "      <td>0.000000</td>\n",
       "      <td>0.000000</td>\n",
       "      <td>0.000000</td>\n",
       "      <td>0.000000</td>\n",
       "      <td>0.000000</td>\n",
       "      <td>0.000000</td>\n",
       "    </tr>\n",
       "    <tr>\n",
       "      <th>25%</th>\n",
       "      <td>949.750000</td>\n",
       "      <td>770.750000</td>\n",
       "      <td>326.000000</td>\n",
       "      <td>247.000000</td>\n",
       "      <td>247.750000</td>\n",
       "      <td>18.000000</td>\n",
       "    </tr>\n",
       "    <tr>\n",
       "      <th>50%</th>\n",
       "      <td>2074.500000</td>\n",
       "      <td>2000.000000</td>\n",
       "      <td>1600.000000</td>\n",
       "      <td>1498.500000</td>\n",
       "      <td>1500.000000</td>\n",
       "      <td>1400.000000</td>\n",
       "    </tr>\n",
       "    <tr>\n",
       "      <th>75%</th>\n",
       "      <td>5000.000000</td>\n",
       "      <td>5000.000000</td>\n",
       "      <td>4060.500000</td>\n",
       "      <td>4000.000000</td>\n",
       "      <td>4000.000000</td>\n",
       "      <td>4000.000000</td>\n",
       "    </tr>\n",
       "    <tr>\n",
       "      <th>max</th>\n",
       "      <td>18006.250000</td>\n",
       "      <td>18987.500000</td>\n",
       "      <td>15500.700000</td>\n",
       "      <td>15150.900000</td>\n",
       "      <td>15620.050000</td>\n",
       "      <td>16992.400000</td>\n",
       "    </tr>\n",
       "  </tbody>\n",
       "</table>\n",
       "</div>"
      ],
      "text/plain": [
       "           pay_amt1      pay_amt2      pay_amt3      pay_amt4      pay_amt5  \\\n",
       "count  14700.000000  14700.000000  14700.000000  14700.000000  14700.000000   \n",
       "mean    3899.297398   3829.084728   3165.294864   3035.039150   3083.597194   \n",
       "std     4658.530039   4856.134628   4101.396117   4019.149798   4103.976382   \n",
       "min        0.000000      0.000000      0.000000      0.000000      0.000000   \n",
       "25%      949.750000    770.750000    326.000000    247.000000    247.750000   \n",
       "50%     2074.500000   2000.000000   1600.000000   1498.500000   1500.000000   \n",
       "75%     5000.000000   5000.000000   4060.500000   4000.000000   4000.000000   \n",
       "max    18006.250000  18987.500000  15500.700000  15150.900000  15620.050000   \n",
       "\n",
       "           pay_amt6  \n",
       "count  14700.000000  \n",
       "mean    3091.556939  \n",
       "std     4349.058465  \n",
       "min        0.000000  \n",
       "25%       18.000000  \n",
       "50%     1400.000000  \n",
       "75%     4000.000000  \n",
       "max    16992.400000  "
      ]
     },
     "execution_count": 144,
     "metadata": {},
     "output_type": "execute_result"
    }
   ],
   "source": [
    "X_train[varpay].describe()"
   ]
  },
  {
   "cell_type": "code",
   "execution_count": 145,
   "metadata": {
    "ExecuteTime": {
     "end_time": "2021-07-13T15:22:08.639686Z",
     "start_time": "2021-07-13T15:22:07.713170Z"
    }
   },
   "outputs": [
    {
     "data": {
      "image/png": "[encoded data removed]",
      "text/plain": [
       "<Figure size 1584x288 with 6 Axes>"
      ]
     },
     "metadata": {
      "needs_background": "light"
     },
     "output_type": "display_data"
    }
   ],
   "source": [
    "fig, axi = plt.subplots(nrows = 2,ncols = 3, figsize = (22,4))\n",
    "\n",
    "for ax, col in zip(axi.flat, varpay):\n",
    "    X_train[col].hist(ax=ax)\n",
    "    ax.set_title(col)  \n",
    "# Display the figure object    \n",
    "\n",
    "fig.tight_layout();"
   ]
  },
  {
   "cell_type": "code",
   "execution_count": 146,
   "metadata": {
    "ExecuteTime": {
     "end_time": "2021-07-13T15:22:08.655682Z",
     "start_time": "2021-07-13T15:22:08.641683Z"
    },
    "colab": {
     "base_uri": "https://localhost:8080/",
     "height": 145,
     "referenced_widgets": [
      "8ea534b312af4ffda27b4a3d21ec8083",
      "074b79b877de448a862bededcfd243eb",
      "81b5ace4f23342e3a5899277a01d4901",
      "7c1b0b91aa5745c293df41ff37cecba0",
      "69e6a6f5648a40ea8a248e112060a2f0",
      "49047763c46b4f0ea93dee7c36ed06c2",
      "e3a9145b3f0d48a580ac1699aca29126",
      "4c0dbc4b232d4cd0a2801a8e575114c5",
      "adc6d4a1cb5247f29716a82159258c33",
      "0337042b4e9440e59c936fd15bc0d895",
      "45f1209c1c674ba88ede1593f7a761d7",
      "6608910039104fb78f570c4de63ce7fc",
      "ab23326ecebd476090f34eb77c482edc",
      "e1d06430785f46659df38d643297b719",
      "b4d592caa6df4320ac026f8de231a190",
      "6b61fcb4c57149b1a89a62a50cec5bb9",
      "df38b3cd8b22401abdc2004bfe5c07c0",
      "9875c694c61f41b9bfeb534499c8c44d",
      "751cb89bad654aed861944ad378df874",
      "bafe063d60734bb08719eea794b35cd2",
      "650cd08d69734f68988b360420ed33e0",
      "1a8c2e103d784b0ba93803c80e6b48be",
      "bf8704b6846e41d5a109e16a48882940",
      "872f7d98d66f4e4e8aaa5b967b07b087",
      "7aa1f35c40e14195bd37a3b5353ff772",
      "1590ae68d33349fc9f463cfac148ca64",
      "f9af5e02312643fc82a5fa9c3c8800ef",
      "90040a3c7ebe4360bbd62614ab451875",
      "42ad0bade7e9439b8a29db1cb93cf4da",
      "665489286eb440c1a258de14fbf5a459",
      "8dd56f288e6242008e96d974ed7af789",
      "4aecfbce95cd4410a98f41894d19143e",
      "0ab5f5d549cc4c10aac7241654413a3c",
      "74ded1b72a9b4140a01ab8769a5e81ef",
      "0044cec8a2b54e6d94d6b4379a2d8203",
      "d95017fe9cee43d3be4613a6c31dc870",
      "8ae652f479334cc488e06a364f43980f",
      "3b78b23738634d19a18a6e97867f37ae",
      "9fb1a9287a0c437ca1d40de55189b83a",
      "391c8c725c7341dea117cbc474e89fcc",
      "4e48551106b0460a949a488d6f1f5ac8",
      "78fac2fd81a84003abf0d361fcc69b7b",
      "90ee4a39a7a84097a09824cd1850a12d",
      "c699ca39f3fc4a15a1446d5e7987b4b9"
     ]
    },
    "id": "vx6v_Oj2b41G",
    "outputId": "66377df3-3ba1-471b-e50b-976c6aa7719d"
   },
   "outputs": [],
   "source": [
    "# profile = ProfileReport(X_train,minimal=True)\n",
    "# profile.to_file(\"/content/drive/MyDrive/Curso_Logistica/descritiva2.html\")"
   ]
  },
  {
   "cell_type": "code",
   "execution_count": 147,
   "metadata": {
    "ExecuteTime": {
     "end_time": "2021-07-13T15:22:08.671666Z",
     "start_time": "2021-07-13T15:22:08.659673Z"
    },
    "id": "Y9JfVyLdkCEi"
   },
   "outputs": [],
   "source": [
    "X_train_trat = X_train.copy()"
   ]
  },
  {
   "cell_type": "code",
   "execution_count": 148,
   "metadata": {
    "ExecuteTime": {
     "end_time": "2021-07-13T15:22:08.703646Z",
     "start_time": "2021-07-13T15:22:08.673665Z"
    },
    "colab": {
     "base_uri": "https://localhost:8080/",
     "height": 224
    },
    "id": "WduxY-vLkK2z",
    "outputId": "09b90e22-3427-4284-ba7f-991fd5839f42"
   },
   "outputs": [
    {
     "data": {
      "text/html": [
       "<div>\n",
       "<style scoped>\n",
       "    .dataframe tbody tr th:only-of-type {\n",
       "        vertical-align: middle;\n",
       "    }\n",
       "\n",
       "    .dataframe tbody tr th {\n",
       "        vertical-align: top;\n",
       "    }\n",
       "\n",
       "    .dataframe thead th {\n",
       "        text-align: right;\n",
       "    }\n",
       "</style>\n",
       "<table border=\"1\" class=\"dataframe\">\n",
       "  <thead>\n",
       "    <tr style=\"text-align: right;\">\n",
       "      <th></th>\n",
       "      <th>id</th>\n",
       "      <th>y</th>\n",
       "      <th>safra</th>\n",
       "      <th>limit_bal</th>\n",
       "      <th>sex</th>\n",
       "      <th>education</th>\n",
       "      <th>marriage</th>\n",
       "      <th>age</th>\n",
       "      <th>pay_0</th>\n",
       "      <th>pay_2</th>\n",
       "      <th>...</th>\n",
       "      <th>pay_amt3</th>\n",
       "      <th>pay_amt4</th>\n",
       "      <th>pay_amt5</th>\n",
       "      <th>pay_amt6</th>\n",
       "      <th>sum_bill</th>\n",
       "      <th>avg_bill</th>\n",
       "      <th>max_bill</th>\n",
       "      <th>sum_bill.1</th>\n",
       "      <th>avg_bill.1</th>\n",
       "      <th>max_bill.1</th>\n",
       "    </tr>\n",
       "  </thead>\n",
       "  <tbody>\n",
       "    <tr>\n",
       "      <th>0</th>\n",
       "      <td>10911</td>\n",
       "      <td>1</td>\n",
       "      <td>200601</td>\n",
       "      <td>220000</td>\n",
       "      <td>2</td>\n",
       "      <td>2</td>\n",
       "      <td>1</td>\n",
       "      <td>53</td>\n",
       "      <td>0</td>\n",
       "      <td>0</td>\n",
       "      <td>...</td>\n",
       "      <td>6033.0</td>\n",
       "      <td>6247.0</td>\n",
       "      <td>6142.0</td>\n",
       "      <td>6146.0</td>\n",
       "      <td>1153692.0</td>\n",
       "      <td>192282.00</td>\n",
       "      <td>214669.0</td>\n",
       "      <td>39622.0</td>\n",
       "      <td>6603.67</td>\n",
       "      <td>8165.0</td>\n",
       "    </tr>\n",
       "    <tr>\n",
       "      <th>1</th>\n",
       "      <td>12564</td>\n",
       "      <td>0</td>\n",
       "      <td>200602</td>\n",
       "      <td>300000</td>\n",
       "      <td>2</td>\n",
       "      <td>1</td>\n",
       "      <td>2</td>\n",
       "      <td>31</td>\n",
       "      <td>0</td>\n",
       "      <td>0</td>\n",
       "      <td>...</td>\n",
       "      <td>658.0</td>\n",
       "      <td>662.0</td>\n",
       "      <td>0.0</td>\n",
       "      <td>0.0</td>\n",
       "      <td>17752.0</td>\n",
       "      <td>2958.67</td>\n",
       "      <td>11158.0</td>\n",
       "      <td>5020.0</td>\n",
       "      <td>836.67</td>\n",
       "      <td>2700.0</td>\n",
       "    </tr>\n",
       "    <tr>\n",
       "      <th>2</th>\n",
       "      <td>370</td>\n",
       "      <td>1</td>\n",
       "      <td>200510</td>\n",
       "      <td>20000</td>\n",
       "      <td>2</td>\n",
       "      <td>2</td>\n",
       "      <td>1</td>\n",
       "      <td>32</td>\n",
       "      <td>3</td>\n",
       "      <td>2</td>\n",
       "      <td>...</td>\n",
       "      <td>384.0</td>\n",
       "      <td>390.0</td>\n",
       "      <td>632.0</td>\n",
       "      <td>616.0</td>\n",
       "      <td>93331.0</td>\n",
       "      <td>15555.17</td>\n",
       "      <td>20631.0</td>\n",
       "      <td>3190.0</td>\n",
       "      <td>531.67</td>\n",
       "      <td>1168.0</td>\n",
       "    </tr>\n",
       "    <tr>\n",
       "      <th>3</th>\n",
       "      <td>7703</td>\n",
       "      <td>0</td>\n",
       "      <td>200512</td>\n",
       "      <td>410000</td>\n",
       "      <td>1</td>\n",
       "      <td>3</td>\n",
       "      <td>2</td>\n",
       "      <td>38</td>\n",
       "      <td>-1</td>\n",
       "      <td>-1</td>\n",
       "      <td>...</td>\n",
       "      <td>2558.0</td>\n",
       "      <td>2663.0</td>\n",
       "      <td>6303.0</td>\n",
       "      <td>12.0</td>\n",
       "      <td>18791.0</td>\n",
       "      <td>3131.83</td>\n",
       "      <td>6286.0</td>\n",
       "      <td>14035.0</td>\n",
       "      <td>2339.17</td>\n",
       "      <td>6303.0</td>\n",
       "    </tr>\n",
       "    <tr>\n",
       "      <th>4</th>\n",
       "      <td>7465</td>\n",
       "      <td>0</td>\n",
       "      <td>200512</td>\n",
       "      <td>100000</td>\n",
       "      <td>2</td>\n",
       "      <td>2</td>\n",
       "      <td>2</td>\n",
       "      <td>25</td>\n",
       "      <td>0</td>\n",
       "      <td>0</td>\n",
       "      <td>...</td>\n",
       "      <td>674.0</td>\n",
       "      <td>0.0</td>\n",
       "      <td>980.0</td>\n",
       "      <td>4413.0</td>\n",
       "      <td>15355.0</td>\n",
       "      <td>2559.17</td>\n",
       "      <td>8791.0</td>\n",
       "      <td>7067.0</td>\n",
       "      <td>1177.83</td>\n",
       "      <td>4413.0</td>\n",
       "    </tr>\n",
       "  </tbody>\n",
       "</table>\n",
       "<p>5 rows × 32 columns</p>\n",
       "</div>"
      ],
      "text/plain": [
       "      id  y   safra  limit_bal  sex  education  marriage  age  pay_0  pay_2  \\\n",
       "0  10911  1  200601     220000    2          2         1   53      0      0   \n",
       "1  12564  0  200602     300000    2          1         2   31      0      0   \n",
       "2    370  1  200510      20000    2          2         1   32      3      2   \n",
       "3   7703  0  200512     410000    1          3         2   38     -1     -1   \n",
       "4   7465  0  200512     100000    2          2         2   25      0      0   \n",
       "\n",
       "   ...  pay_amt3  pay_amt4  pay_amt5  pay_amt6   sum_bill   avg_bill  \\\n",
       "0  ...    6033.0    6247.0    6142.0    6146.0  1153692.0  192282.00   \n",
       "1  ...     658.0     662.0       0.0       0.0    17752.0    2958.67   \n",
       "2  ...     384.0     390.0     632.0     616.0    93331.0   15555.17   \n",
       "3  ...    2558.0    2663.0    6303.0      12.0    18791.0    3131.83   \n",
       "4  ...     674.0       0.0     980.0    4413.0    15355.0    2559.17   \n",
       "\n",
       "   max_bill  sum_bill.1  avg_bill.1  max_bill.1  \n",
       "0  214669.0     39622.0     6603.67      8165.0  \n",
       "1   11158.0      5020.0      836.67      2700.0  \n",
       "2   20631.0      3190.0      531.67      1168.0  \n",
       "3    6286.0     14035.0     2339.17      6303.0  \n",
       "4    8791.0      7067.0     1177.83      4413.0  \n",
       "\n",
       "[5 rows x 32 columns]"
      ]
     },
     "execution_count": 148,
     "metadata": {},
     "output_type": "execute_result"
    }
   ],
   "source": [
    "X_train_trat.head()"
   ]
  },
  {
   "cell_type": "code",
   "execution_count": 149,
   "metadata": {
    "ExecuteTime": {
     "end_time": "2021-07-13T15:22:08.734626Z",
     "start_time": "2021-07-13T15:22:08.705645Z"
    }
   },
   "outputs": [
    {
     "data": {
      "text/html": [
       "<div>\n",
       "<style scoped>\n",
       "    .dataframe tbody tr th:only-of-type {\n",
       "        vertical-align: middle;\n",
       "    }\n",
       "\n",
       "    .dataframe tbody tr th {\n",
       "        vertical-align: top;\n",
       "    }\n",
       "\n",
       "    .dataframe thead th {\n",
       "        text-align: right;\n",
       "    }\n",
       "</style>\n",
       "<table border=\"1\" class=\"dataframe\">\n",
       "  <thead>\n",
       "    <tr style=\"text-align: right;\">\n",
       "      <th></th>\n",
       "      <th>id</th>\n",
       "      <th>bill_amt1</th>\n",
       "      <th>bill_amt2</th>\n",
       "      <th>bill_amt3</th>\n",
       "      <th>bill_amt4</th>\n",
       "      <th>bill_amt5</th>\n",
       "      <th>bill_amt6</th>\n",
       "      <th>sum_bill</th>\n",
       "      <th>avg_bill</th>\n",
       "      <th>max_bill</th>\n",
       "      <th>sum_bill.1</th>\n",
       "      <th>avg_bill.1</th>\n",
       "      <th>max_bill.1</th>\n",
       "    </tr>\n",
       "  </thead>\n",
       "  <tbody>\n",
       "    <tr>\n",
       "      <th>0</th>\n",
       "      <td>10911</td>\n",
       "      <td>191879.05</td>\n",
       "      <td>186227.15</td>\n",
       "      <td>180484.2</td>\n",
       "      <td>168163.3</td>\n",
       "      <td>161342.0</td>\n",
       "      <td>158664.35</td>\n",
       "      <td>1153692.0</td>\n",
       "      <td>192282.00</td>\n",
       "      <td>214669.0</td>\n",
       "      <td>39622.0</td>\n",
       "      <td>6603.67</td>\n",
       "      <td>8165.0</td>\n",
       "    </tr>\n",
       "    <tr>\n",
       "      <th>1</th>\n",
       "      <td>12564</td>\n",
       "      <td>11158.00</td>\n",
       "      <td>1616.00</td>\n",
       "      <td>3658.0</td>\n",
       "      <td>658.0</td>\n",
       "      <td>662.0</td>\n",
       "      <td>0.00</td>\n",
       "      <td>17752.0</td>\n",
       "      <td>2958.67</td>\n",
       "      <td>11158.0</td>\n",
       "      <td>5020.0</td>\n",
       "      <td>836.67</td>\n",
       "      <td>2700.0</td>\n",
       "    </tr>\n",
       "    <tr>\n",
       "      <th>2</th>\n",
       "      <td>370</td>\n",
       "      <td>20631.00</td>\n",
       "      <td>20010.00</td>\n",
       "      <td>19703.0</td>\n",
       "      <td>11084.0</td>\n",
       "      <td>10918.0</td>\n",
       "      <td>10985.00</td>\n",
       "      <td>93331.0</td>\n",
       "      <td>15555.17</td>\n",
       "      <td>20631.0</td>\n",
       "      <td>3190.0</td>\n",
       "      <td>531.67</td>\n",
       "      <td>1168.0</td>\n",
       "    </tr>\n",
       "    <tr>\n",
       "      <th>3</th>\n",
       "      <td>7703</td>\n",
       "      <td>4822.00</td>\n",
       "      <td>232.00</td>\n",
       "      <td>2255.0</td>\n",
       "      <td>2546.0</td>\n",
       "      <td>2650.0</td>\n",
       "      <td>6286.00</td>\n",
       "      <td>18791.0</td>\n",
       "      <td>3131.83</td>\n",
       "      <td>6286.0</td>\n",
       "      <td>14035.0</td>\n",
       "      <td>2339.17</td>\n",
       "      <td>6303.0</td>\n",
       "    </tr>\n",
       "    <tr>\n",
       "      <th>4</th>\n",
       "      <td>7465</td>\n",
       "      <td>8791.00</td>\n",
       "      <td>4910.00</td>\n",
       "      <td>0.0</td>\n",
       "      <td>674.0</td>\n",
       "      <td>0.0</td>\n",
       "      <td>980.00</td>\n",
       "      <td>15355.0</td>\n",
       "      <td>2559.17</td>\n",
       "      <td>8791.0</td>\n",
       "      <td>7067.0</td>\n",
       "      <td>1177.83</td>\n",
       "      <td>4413.0</td>\n",
       "    </tr>\n",
       "    <tr>\n",
       "      <th>...</th>\n",
       "      <td>...</td>\n",
       "      <td>...</td>\n",
       "      <td>...</td>\n",
       "      <td>...</td>\n",
       "      <td>...</td>\n",
       "      <td>...</td>\n",
       "      <td>...</td>\n",
       "      <td>...</td>\n",
       "      <td>...</td>\n",
       "      <td>...</td>\n",
       "      <td>...</td>\n",
       "      <td>...</td>\n",
       "      <td>...</td>\n",
       "    </tr>\n",
       "    <tr>\n",
       "      <th>14695</th>\n",
       "      <td>7764</td>\n",
       "      <td>46891.00</td>\n",
       "      <td>48134.00</td>\n",
       "      <td>49331.0</td>\n",
       "      <td>50508.0</td>\n",
       "      <td>51543.0</td>\n",
       "      <td>52685.00</td>\n",
       "      <td>299092.0</td>\n",
       "      <td>49848.67</td>\n",
       "      <td>52685.0</td>\n",
       "      <td>12000.0</td>\n",
       "      <td>2000.00</td>\n",
       "      <td>2000.0</td>\n",
       "    </tr>\n",
       "    <tr>\n",
       "      <th>14696</th>\n",
       "      <td>15378</td>\n",
       "      <td>0.00</td>\n",
       "      <td>0.00</td>\n",
       "      <td>0.0</td>\n",
       "      <td>0.0</td>\n",
       "      <td>0.0</td>\n",
       "      <td>0.00</td>\n",
       "      <td>0.0</td>\n",
       "      <td>0.00</td>\n",
       "      <td>0.0</td>\n",
       "      <td>0.0</td>\n",
       "      <td>0.00</td>\n",
       "      <td>0.0</td>\n",
       "    </tr>\n",
       "    <tr>\n",
       "      <th>14697</th>\n",
       "      <td>17731</td>\n",
       "      <td>0.00</td>\n",
       "      <td>0.00</td>\n",
       "      <td>0.0</td>\n",
       "      <td>2580.0</td>\n",
       "      <td>2580.0</td>\n",
       "      <td>6941.00</td>\n",
       "      <td>12101.0</td>\n",
       "      <td>2016.83</td>\n",
       "      <td>6941.0</td>\n",
       "      <td>9521.0</td>\n",
       "      <td>1586.83</td>\n",
       "      <td>6941.0</td>\n",
       "    </tr>\n",
       "    <tr>\n",
       "      <th>14698</th>\n",
       "      <td>15726</td>\n",
       "      <td>28409.00</td>\n",
       "      <td>28530.00</td>\n",
       "      <td>29435.0</td>\n",
       "      <td>30841.0</td>\n",
       "      <td>29434.0</td>\n",
       "      <td>16565.00</td>\n",
       "      <td>163214.0</td>\n",
       "      <td>27202.33</td>\n",
       "      <td>30841.0</td>\n",
       "      <td>8096.0</td>\n",
       "      <td>1349.33</td>\n",
       "      <td>2000.0</td>\n",
       "    </tr>\n",
       "    <tr>\n",
       "      <th>14699</th>\n",
       "      <td>19967</td>\n",
       "      <td>2788.00</td>\n",
       "      <td>25790.00</td>\n",
       "      <td>3007.0</td>\n",
       "      <td>4246.0</td>\n",
       "      <td>3737.0</td>\n",
       "      <td>2290.00</td>\n",
       "      <td>41858.0</td>\n",
       "      <td>6976.33</td>\n",
       "      <td>25790.0</td>\n",
       "      <td>61392.0</td>\n",
       "      <td>10232.00</td>\n",
       "      <td>25794.0</td>\n",
       "    </tr>\n",
       "  </tbody>\n",
       "</table>\n",
       "<p>14700 rows × 13 columns</p>\n",
       "</div>"
      ],
      "text/plain": [
       "          id  bill_amt1  bill_amt2  bill_amt3  bill_amt4  bill_amt5  \\\n",
       "0      10911  191879.05  186227.15   180484.2   168163.3   161342.0   \n",
       "1      12564   11158.00    1616.00     3658.0      658.0      662.0   \n",
       "2        370   20631.00   20010.00    19703.0    11084.0    10918.0   \n",
       "3       7703    4822.00     232.00     2255.0     2546.0     2650.0   \n",
       "4       7465    8791.00    4910.00        0.0      674.0        0.0   \n",
       "...      ...        ...        ...        ...        ...        ...   \n",
       "14695   7764   46891.00   48134.00    49331.0    50508.0    51543.0   \n",
       "14696  15378       0.00       0.00        0.0        0.0        0.0   \n",
       "14697  17731       0.00       0.00        0.0     2580.0     2580.0   \n",
       "14698  15726   28409.00   28530.00    29435.0    30841.0    29434.0   \n",
       "14699  19967    2788.00   25790.00     3007.0     4246.0     3737.0   \n",
       "\n",
       "       bill_amt6   sum_bill   avg_bill  max_bill  sum_bill.1  avg_bill.1  \\\n",
       "0      158664.35  1153692.0  192282.00  214669.0     39622.0     6603.67   \n",
       "1           0.00    17752.0    2958.67   11158.0      5020.0      836.67   \n",
       "2       10985.00    93331.0   15555.17   20631.0      3190.0      531.67   \n",
       "3        6286.00    18791.0    3131.83    6286.0     14035.0     2339.17   \n",
       "4         980.00    15355.0    2559.17    8791.0      7067.0     1177.83   \n",
       "...          ...        ...        ...       ...         ...         ...   \n",
       "14695   52685.00   299092.0   49848.67   52685.0     12000.0     2000.00   \n",
       "14696       0.00        0.0       0.00       0.0         0.0        0.00   \n",
       "14697    6941.00    12101.0    2016.83    6941.0      9521.0     1586.83   \n",
       "14698   16565.00   163214.0   27202.33   30841.0      8096.0     1349.33   \n",
       "14699    2290.00    41858.0    6976.33   25790.0     61392.0    10232.00   \n",
       "\n",
       "       max_bill.1  \n",
       "0          8165.0  \n",
       "1          2700.0  \n",
       "2          1168.0  \n",
       "3          6303.0  \n",
       "4          4413.0  \n",
       "...           ...  \n",
       "14695      2000.0  \n",
       "14696         0.0  \n",
       "14697      6941.0  \n",
       "14698      2000.0  \n",
       "14699     25794.0  \n",
       "\n",
       "[14700 rows x 13 columns]"
      ]
     },
     "execution_count": 149,
     "metadata": {},
     "output_type": "execute_result"
    }
   ],
   "source": [
    "X_train_trat >> select('id',contains('bill'))"
   ]
  },
  {
   "cell_type": "markdown",
   "metadata": {},
   "source": [
    "# Save dataset"
   ]
  },
  {
   "cell_type": "code",
   "execution_count": 151,
   "metadata": {
    "ExecuteTime": {
     "end_time": "2021-07-13T15:22:35.564224Z",
     "start_time": "2021-07-13T15:22:35.214780Z"
    }
   },
   "outputs": [],
   "source": [
    "X_train_trat.to_csv('../output/X_train_trat.csv')"
   ]
  },
  {
   "cell_type": "code",
   "execution_count": null,
   "metadata": {},
   "outputs": [],
   "source": []
  }
 ],
 "metadata": {
  "kernelspec": {
   "display_name": "Python 3",
   "language": "python",
   "name": "python3"
  },
  "language_info": {
   "codemirror_mode": {
    "name": "ipython",
    "version": 3
   },
   "file_extension": ".py",
   "mimetype": "text/x-python",
   "name": "python",
   "nbconvert_exporter": "python",
   "pygments_lexer": "ipython3",
   "version": "3.7.6"
  },
  "nbTranslate": {
   "displayLangs": [
    "*"
   ],
   "hotkey": "alt-t",
   "langInMainMenu": true,
   "sourceLang": "en",
   "targetLang": "fr",
   "useGoogleTranslate": true
  },
  "toc": {
   "base_numbering": 1,
   "nav_menu": {},
   "number_sections": true,
   "sideBar": true,
   "skip_h1_title": false,
   "title_cell": "Table of Contents",
   "title_sidebar": "Contents",
   "toc_cell": false,
   "toc_position": {},
   "toc_section_display": true,
   "toc_window_display": true
  }
 },
 "nbformat": 4,
 "nbformat_minor": 4
}
