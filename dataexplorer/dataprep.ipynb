{
  "nbformat": 4,
  "nbformat_minor": 0,
  "metadata": {
    "colab": {
      "name": "dataprep.ipynb",
      "provenance": [],
      "collapsed_sections": [],
      "toc_visible": true,
      "authorship_tag": "ABX9TyMOpGMsdbu3KCkoAVtEOIHV",
      "include_colab_link": true
    },
    "kernelspec": {
      "name": "python3",
      "display_name": "Python 3"
    }
  },
  "cells": [
    {
      "cell_type": "markdown",
      "metadata": {
        "id": "view-in-github",
        "colab_type": "text"
      },
      "source": [
        "<a href=\"https://colab.research.google.com/github/sergiocarvalho-estatistico/credit_risk_with_python/blob/master/dataexplorer/dataprep.ipynb\" target=\"_parent\"><img src=\"https://colab.research.google.com/assets/colab-badge.svg\" alt=\"Open In Colab\"/></a>"
      ]
    },
    {
      "cell_type": "markdown",
      "metadata": {
        "id": "rGDt646X6FCc",
        "colab_type": "text"
      },
      "source": [
        "# Concessão de Crédito\n",
        "\n",
        "##### Preparação, Manipualação e Exploração dos dados"
      ]
    },
    {
      "cell_type": "markdown",
      "metadata": {
        "id": "23St7lXn6RNf",
        "colab_type": "text"
      },
      "source": [
        "## Objetivos\n",
        "\n",
        "* Tipo de variáveis\n",
        "    * Inteiras ou discretas:\n",
        "    * Numéricas ou double\n",
        "    * Categóricas\n",
        "    * Qualitativas\n",
        "\n",
        "* Qualidade dos dados\n",
        "    * Quantidade de NA’s por variável\n",
        "    * Criação de novas variáveis, se precisar\n",
        "    * Transformação das variáveis, se precisar"
      ]
    },
    {
      "cell_type": "code",
      "metadata": {
        "id": "kwJ4-mux5CHM",
        "colab_type": "code",
        "colab": {}
      },
      "source": [
        ""
      ],
      "execution_count": 0,
      "outputs": []
    }
  ]
}