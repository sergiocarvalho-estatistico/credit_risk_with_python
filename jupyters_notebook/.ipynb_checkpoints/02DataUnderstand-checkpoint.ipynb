{
 "cells": [
  {
   "cell_type": "markdown",
   "metadata": {
    "colab_type": "text",
    "id": "rGDt646X6FCc"
   },
   "source": [
    "# Descriptive and Exploratory Data Analysis"
   ]
  },
  {
   "cell_type": "code",
   "execution_count": 1,
   "metadata": {
    "ExecuteTime": {
     "end_time": "2021-07-08T18:13:31.629209Z",
     "start_time": "2021-07-08T18:13:31.616217Z"
    }
   },
   "outputs": [],
   "source": [
    "# %config Completer.use_jedi = False"
   ]
  },
  {
   "cell_type": "markdown",
   "metadata": {},
   "source": [
    "## Install packages"
   ]
  },
  {
   "cell_type": "code",
   "execution_count": 2,
   "metadata": {
    "ExecuteTime": {
     "end_time": "2021-07-08T18:13:32.251956Z",
     "start_time": "2021-07-08T18:13:32.239964Z"
    }
   },
   "outputs": [],
   "source": [
    "# !pip install https://github.com/pandas-profiling/pandas-profiling/archive/master.zip\n",
    "# Installing via pip\n",
    "# !pip install -U pandas-profiling[notebook]\n",
    "# Enable the widget extension in Jupyter\n",
    "# jupyter nbextension enable --py widgetsnbextension"
   ]
  },
  {
   "cell_type": "markdown",
   "metadata": {
    "colab_type": "text",
    "id": "PlwixP-p8RK8"
   },
   "source": [
    "## Import Libraries"
   ]
  },
  {
   "cell_type": "code",
   "execution_count": 3,
   "metadata": {
    "ExecuteTime": {
     "end_time": "2021-07-08T18:13:38.240337Z",
     "start_time": "2021-07-08T18:13:32.992107Z"
    },
    "colab": {},
    "colab_type": "code",
    "id": "6ZuW87w99lw5"
   },
   "outputs": [
    {
     "data": {
      "application/javascript": [
       "\n",
       "console.log('Starting front end url_querystring_target comm target');\n",
       "const comm = Jupyter.notebook.kernel.comm_manager.new_comm('url_querystring_target', {'init': 1});\n",
       "comm.send({'ipyparams_browser_url': window.location.href});\n",
       "console.log('Sent window.location.href on url_querystring_target comm target');\n",
       "\n",
       "comm.on_msg(function(msg) {\n",
       "    console.log(msg.content.data);\n",
       "});\n"
      ],
      "text/plain": [
       "<IPython.core.display.Javascript object>"
      ]
     },
     "metadata": {},
     "output_type": "display_data"
    }
   ],
   "source": [
    "## Data manipulation\n",
    "from dfply import *\n",
    "import pandas as pd\n",
    "\n",
    "## Numerical computing\n",
    "import numpy as np\n",
    "import sklearn\n",
    "import warnings\n",
    "\n",
    "## Plots Graphics \n",
    "import matplotlib.pyplot as plt\n",
    "import seaborn as sns\n",
    "\n",
    "## firulas em python\n",
    "# import pandas_profiling\n",
    "from IPython import get_ipython\n",
    "\n",
    "## work dir\n",
    "import os\n",
    "\n",
    "# set parametors\n",
    "import ipyparams\n",
    "currentNotebook = ipyparams.notebook_name\n",
    "\n",
    "## \n",
    "warnings.filterwarnings('ignore')\n",
    "plt.rcParams[\"patch.force_edgecolor\"] = True\n",
    "%matplotlib inline"
   ]
  },
  {
   "cell_type": "code",
   "execution_count": 4,
   "metadata": {
    "ExecuteTime": {
     "end_time": "2021-07-08T18:13:38.255331Z",
     "start_time": "2021-07-08T18:13:38.242348Z"
    }
   },
   "outputs": [],
   "source": [
    "# get_ipython().magic('reset -sf') "
   ]
  },
  {
   "cell_type": "code",
   "execution_count": 5,
   "metadata": {
    "ExecuteTime": {
     "end_time": "2021-07-08T18:13:38.271320Z",
     "start_time": "2021-07-08T18:13:38.258328Z"
    }
   },
   "outputs": [
    {
     "data": {
      "text/html": [
       "<style>.container { width:75% !important; }</style>"
      ],
      "text/plain": [
       "<IPython.core.display.HTML object>"
      ]
     },
     "metadata": {},
     "output_type": "display_data"
    }
   ],
   "source": [
    "from IPython.core.display import display, HTML\n",
    "display(HTML(\"<style>.container { width:75% !important; }</style>\"))"
   ]
  },
  {
   "cell_type": "markdown",
   "metadata": {},
   "source": [
    "# Read Dataset"
   ]
  },
  {
   "cell_type": "code",
   "execution_count": 205,
   "metadata": {
    "ExecuteTime": {
     "end_time": "2021-07-08T21:00:34.361609Z",
     "start_time": "2021-07-08T21:00:34.222045Z"
    }
   },
   "outputs": [],
   "source": [
    "X_train = pd.concat([pd.read_csv('../output/X_train.csv')['id'],\n",
    "                     pd.read_csv('../output/y_train.csv').drop(['Unnamed: 0'],axis = 1),\n",
    "                     pd.read_csv('../output/X_train.csv').drop(['id','Unnamed: 0'],axis = 1)],axis=1)"
   ]
  },
  {
   "cell_type": "code",
   "execution_count": 206,
   "metadata": {
    "ExecuteTime": {
     "end_time": "2021-07-08T21:00:34.594471Z",
     "start_time": "2021-07-08T21:00:34.560100Z"
    }
   },
   "outputs": [
    {
     "data": {
      "text/html": [
       "<div>\n",
       "<style scoped>\n",
       "    .dataframe tbody tr th:only-of-type {\n",
       "        vertical-align: middle;\n",
       "    }\n",
       "\n",
       "    .dataframe tbody tr th {\n",
       "        vertical-align: top;\n",
       "    }\n",
       "\n",
       "    .dataframe thead th {\n",
       "        text-align: right;\n",
       "    }\n",
       "</style>\n",
       "<table border=\"1\" class=\"dataframe\">\n",
       "  <thead>\n",
       "    <tr style=\"text-align: right;\">\n",
       "      <th></th>\n",
       "      <th>id</th>\n",
       "      <th>y</th>\n",
       "      <th>safra</th>\n",
       "      <th>limit_bal</th>\n",
       "      <th>sex</th>\n",
       "      <th>education</th>\n",
       "      <th>marriage</th>\n",
       "      <th>age</th>\n",
       "      <th>pay_0</th>\n",
       "      <th>pay_2</th>\n",
       "      <th>...</th>\n",
       "      <th>pay_amt3</th>\n",
       "      <th>pay_amt4</th>\n",
       "      <th>pay_amt5</th>\n",
       "      <th>pay_amt6</th>\n",
       "      <th>sum_bill</th>\n",
       "      <th>avg_bill</th>\n",
       "      <th>max_bill</th>\n",
       "      <th>sum_pay</th>\n",
       "      <th>avg_pay</th>\n",
       "      <th>max_pay</th>\n",
       "    </tr>\n",
       "  </thead>\n",
       "  <tbody>\n",
       "    <tr>\n",
       "      <th>0</th>\n",
       "      <td>10911</td>\n",
       "      <td>1</td>\n",
       "      <td>200601</td>\n",
       "      <td>220000</td>\n",
       "      <td>2</td>\n",
       "      <td>2</td>\n",
       "      <td>1</td>\n",
       "      <td>53</td>\n",
       "      <td>0</td>\n",
       "      <td>0</td>\n",
       "      <td>...</td>\n",
       "      <td>6033</td>\n",
       "      <td>6247</td>\n",
       "      <td>6142</td>\n",
       "      <td>6146</td>\n",
       "      <td>1153692.0</td>\n",
       "      <td>192282.000000</td>\n",
       "      <td>214669.0</td>\n",
       "      <td>39622.0</td>\n",
       "      <td>6603.666667</td>\n",
       "      <td>8165.0</td>\n",
       "    </tr>\n",
       "    <tr>\n",
       "      <th>1</th>\n",
       "      <td>12564</td>\n",
       "      <td>0</td>\n",
       "      <td>200602</td>\n",
       "      <td>300000</td>\n",
       "      <td>2</td>\n",
       "      <td>1</td>\n",
       "      <td>2</td>\n",
       "      <td>31</td>\n",
       "      <td>0</td>\n",
       "      <td>0</td>\n",
       "      <td>...</td>\n",
       "      <td>658</td>\n",
       "      <td>662</td>\n",
       "      <td>0</td>\n",
       "      <td>0</td>\n",
       "      <td>17752.0</td>\n",
       "      <td>2958.666667</td>\n",
       "      <td>11158.0</td>\n",
       "      <td>5020.0</td>\n",
       "      <td>836.666667</td>\n",
       "      <td>2700.0</td>\n",
       "    </tr>\n",
       "    <tr>\n",
       "      <th>2</th>\n",
       "      <td>370</td>\n",
       "      <td>1</td>\n",
       "      <td>200510</td>\n",
       "      <td>20000</td>\n",
       "      <td>2</td>\n",
       "      <td>2</td>\n",
       "      <td>1</td>\n",
       "      <td>32</td>\n",
       "      <td>3</td>\n",
       "      <td>2</td>\n",
       "      <td>...</td>\n",
       "      <td>384</td>\n",
       "      <td>390</td>\n",
       "      <td>632</td>\n",
       "      <td>616</td>\n",
       "      <td>93331.0</td>\n",
       "      <td>15555.166667</td>\n",
       "      <td>20631.0</td>\n",
       "      <td>3190.0</td>\n",
       "      <td>531.666667</td>\n",
       "      <td>1168.0</td>\n",
       "    </tr>\n",
       "    <tr>\n",
       "      <th>3</th>\n",
       "      <td>7703</td>\n",
       "      <td>0</td>\n",
       "      <td>200512</td>\n",
       "      <td>410000</td>\n",
       "      <td>1</td>\n",
       "      <td>3</td>\n",
       "      <td>2</td>\n",
       "      <td>38</td>\n",
       "      <td>-1</td>\n",
       "      <td>-1</td>\n",
       "      <td>...</td>\n",
       "      <td>2558</td>\n",
       "      <td>2663</td>\n",
       "      <td>6303</td>\n",
       "      <td>12</td>\n",
       "      <td>18791.0</td>\n",
       "      <td>3131.833333</td>\n",
       "      <td>6286.0</td>\n",
       "      <td>14035.0</td>\n",
       "      <td>2339.166667</td>\n",
       "      <td>6303.0</td>\n",
       "    </tr>\n",
       "    <tr>\n",
       "      <th>4</th>\n",
       "      <td>7465</td>\n",
       "      <td>0</td>\n",
       "      <td>200512</td>\n",
       "      <td>100000</td>\n",
       "      <td>2</td>\n",
       "      <td>2</td>\n",
       "      <td>2</td>\n",
       "      <td>25</td>\n",
       "      <td>0</td>\n",
       "      <td>0</td>\n",
       "      <td>...</td>\n",
       "      <td>674</td>\n",
       "      <td>0</td>\n",
       "      <td>980</td>\n",
       "      <td>4413</td>\n",
       "      <td>15355.0</td>\n",
       "      <td>2559.166667</td>\n",
       "      <td>8791.0</td>\n",
       "      <td>7067.0</td>\n",
       "      <td>1177.833333</td>\n",
       "      <td>4413.0</td>\n",
       "    </tr>\n",
       "  </tbody>\n",
       "</table>\n",
       "<p>5 rows × 32 columns</p>\n",
       "</div>"
      ],
      "text/plain": [
       "      id  y   safra  limit_bal  sex  education  marriage  age  pay_0  pay_2  \\\n",
       "0  10911  1  200601     220000    2          2         1   53      0      0   \n",
       "1  12564  0  200602     300000    2          1         2   31      0      0   \n",
       "2    370  1  200510      20000    2          2         1   32      3      2   \n",
       "3   7703  0  200512     410000    1          3         2   38     -1     -1   \n",
       "4   7465  0  200512     100000    2          2         2   25      0      0   \n",
       "\n",
       "   ...  pay_amt3  pay_amt4  pay_amt5  pay_amt6   sum_bill       avg_bill  \\\n",
       "0  ...      6033      6247      6142      6146  1153692.0  192282.000000   \n",
       "1  ...       658       662         0         0    17752.0    2958.666667   \n",
       "2  ...       384       390       632       616    93331.0   15555.166667   \n",
       "3  ...      2558      2663      6303        12    18791.0    3131.833333   \n",
       "4  ...       674         0       980      4413    15355.0    2559.166667   \n",
       "\n",
       "   max_bill  sum_pay      avg_pay  max_pay  \n",
       "0  214669.0  39622.0  6603.666667   8165.0  \n",
       "1   11158.0   5020.0   836.666667   2700.0  \n",
       "2   20631.0   3190.0   531.666667   1168.0  \n",
       "3    6286.0  14035.0  2339.166667   6303.0  \n",
       "4    8791.0   7067.0  1177.833333   4413.0  \n",
       "\n",
       "[5 rows x 32 columns]"
      ]
     },
     "execution_count": 206,
     "metadata": {},
     "output_type": "execute_result"
    }
   ],
   "source": [
    "X_train.head()"
   ]
  },
  {
   "cell_type": "markdown",
   "metadata": {
    "id": "8e55CbXVNric"
   },
   "source": [
    "# Análise Descritiva e Exploratória"
   ]
  },
  {
   "cell_type": "markdown",
   "metadata": {},
   "source": [
    "## Using pandas profiling"
   ]
  },
  {
   "cell_type": "markdown",
   "metadata": {},
   "source": [
    "### Intalação do Pandas Profilling: https://github.com/pandas-profiling/pandas-profiling"
   ]
  },
  {
   "cell_type": "code",
   "execution_count": 207,
   "metadata": {
    "ExecuteTime": {
     "end_time": "2021-07-08T21:00:35.959650Z",
     "start_time": "2021-07-08T21:00:35.941662Z"
    },
    "id": "FlyGuyQHxzJL"
   },
   "outputs": [],
   "source": [
    "# !pip install https://github.com/pandas-profiling/pandas-profiling/archive/master.zip"
   ]
  },
  {
   "cell_type": "markdown",
   "metadata": {},
   "source": [
    "### import"
   ]
  },
  {
   "cell_type": "code",
   "execution_count": 208,
   "metadata": {
    "ExecuteTime": {
     "end_time": "2021-07-08T21:00:37.594454Z",
     "start_time": "2021-07-08T21:00:36.621603Z"
    },
    "id": "hAcC2QIkO0U5"
   },
   "outputs": [],
   "source": [
    "from pandas_profiling import ProfileReport "
   ]
  },
  {
   "cell_type": "markdown",
   "metadata": {},
   "source": [
    "### Generator Report \n",
    "\n",
    "Dont't work "
   ]
  },
  {
   "cell_type": "code",
   "execution_count": 209,
   "metadata": {
    "ExecuteTime": {
     "end_time": "2021-07-08T21:00:37.609930Z",
     "start_time": "2021-07-08T21:00:37.594454Z"
    }
   },
   "outputs": [],
   "source": [
    "# profile = ProfileReport(X_train,minimal=True)"
   ]
  },
  {
   "cell_type": "code",
   "execution_count": 210,
   "metadata": {
    "ExecuteTime": {
     "end_time": "2021-07-08T21:00:38.711869Z",
     "start_time": "2021-07-08T21:00:38.701875Z"
    },
    "colab": {
     "base_uri": "https://localhost:8080/",
     "height": 145,
     "referenced_widgets": [
      "626a769b70fc4280b4b3ce4ef45e3fd5",
      "a4be085a11d345cdbde2ed34e7087985",
      "66b407e8d336485ab588c778a6ae2d1e",
      "4214f703bd884031a6501e30d0823515",
      "c6dbc8ac013344579cc8875e3e891553",
      "6613ef228f52481eb3f864a48856276a",
      "8091f4f0ed814e828ab08a295db9654c",
      "0dbc772063b743d0b0e23ce7ac523f7d",
      "ac863dfadbb645a48b261bc70c0a6aa4",
      "dc9eab58727940d3bdb30005ae62ad93",
      "76cb4a4f597b45b3afe49794fef3990e",
      "32e8725087054e5297ab6fb70b83e659",
      "a736a1815cdf4408b981046b656002f2",
      "8b0e8612de45456a8b154bf10d8bc737",
      "a43f75213e854f59ab9c6fa09f55b3dd",
      "1acede85c2c940359aa3c6498723e53a",
      "553ec9fecc294da0abd1af2422aad42b",
      "0bd8c11d6390495492ac48db0b5f079f",
      "ae3f4496508e4fc4bcb78f829c2fa2c6",
      "037f8d91acb449b58d6e62eb43d76ea9",
      "716f33956475487999db6f859f9c872d",
      "215fd1eee654429dbf94e2c4916f0305",
      "125c6d128f9f4276b20ec51ee7086343",
      "ec6ca06e40cb41489f9174c60029c70f",
      "8fb282c29ec946cb9304fcda5d94d377",
      "53027e4cc55a47e79a4ac163a81e9cd6",
      "38d993b92ec04929bc9f11d6aa3489d1",
      "ce1372f5e801454fb2e5787f5dfe8c0a",
      "096a50d3d9634b26912a2abcd467449f",
      "7272aa1bc3cd458b8494ddc373f46344",
      "5ec861cf734d4952abb7356f53041272",
      "9ae0a959cb5145a78c4ef75bdf6c25f2",
      "e9e14083111041449f4e48466e61138d",
      "77ec4350551542ca860cc46c4dacb8f1",
      "9191a45f058b4d83a3a1872031a485c8",
      "eeefdc2d774b48869793cbcf7162895a",
      "2ea908c19f324ef4b08f0d427844ae39",
      "3586a7e54a8745909b58116c7d4494e4",
      "ed6a71c210d24386865358f668441080",
      "517c5fe065eb43bca18d97c7e1b2300a",
      "c7037b6cb4524d0baae8a6eb50f33004",
      "be8bfb8427144ea39b9134d2c8ed8ef7",
      "16928c3ae22d4d1f95971274860ac41c",
      "ca1605d4ab704e69ad69a78cc4610d1c"
     ]
    },
    "id": "FvnNx0QOPEDJ",
    "outputId": "04a15a17-0063-4c03-cc32-869d4004ddee"
   },
   "outputs": [],
   "source": [
    "# profile.to_file(\"/content/drive/MyDrive/Curso_Logistica/descritiva.html\")"
   ]
  },
  {
   "cell_type": "markdown",
   "metadata": {},
   "source": [
    "##  Descriptive Analysis Variables "
   ]
  },
  {
   "cell_type": "markdown",
   "metadata": {
    "ExecuteTime": {
     "end_time": "2021-07-08T13:55:34.192815Z",
     "start_time": "2021-07-08T13:55:34.088206Z"
    }
   },
   "source": [
    "Particularmente eu gosto de avaliar o comportamento das covariáveis sempre olhando para a variável resposta, no nosso caso, Y."
   ]
  },
  {
   "cell_type": "code",
   "execution_count": 211,
   "metadata": {
    "ExecuteTime": {
     "end_time": "2021-07-08T21:00:41.355772Z",
     "start_time": "2021-07-08T21:00:41.037493Z"
    }
   },
   "outputs": [
    {
     "data": {
      "image/png": "[encoded data removed]",
      "text/plain": [
       "<Figure size 1584x576 with 1 Axes>"
      ]
     },
     "metadata": {},
     "output_type": "display_data"
    }
   ],
   "source": [
    "sns.set_style('darkgrid')\n",
    "\n",
    "ct = pd.crosstab(pd.qcut(X_train['bill_amt1'], q=5),X_train['y']).apply(lambda r: r/sum(r), axis=0)\n",
    "\n",
    "fig, ax = plt.subplots(nrows = 1, ncols = 1, figsize = (22,8))\n",
    "\n",
    "dfct = pd.melt(ct.reset_index().reset_index(),id_vars= ['bill_amt1'], value_vars=(0,1),var_name='y')\n",
    "# plot grouped bar chart\n",
    "ax.set_ylabel('P(intervalor|y)')\n",
    "\n",
    "\n",
    "sns.barplot(y='value',x='bill_amt1', hue='y', data = dfct,orient = 'v');"
   ]
  },
  {
   "cell_type": "code",
   "execution_count": 212,
   "metadata": {
    "ExecuteTime": {
     "end_time": "2021-07-08T21:00:42.533824Z",
     "start_time": "2021-07-08T21:00:42.294226Z"
    }
   },
   "outputs": [
    {
     "data": {
      "image/png": "[encoded data removed]",
      "text/plain": [
       "<Figure size 1296x864 with 1 Axes>"
      ]
     },
     "metadata": {},
     "output_type": "display_data"
    }
   ],
   "source": [
    "plt.figure(figsize=(18,12))\n",
    "sns.heatmap(ct.T,cmap=\"YlGnBu\", annot=True, cbar=False);"
   ]
  },
  {
   "cell_type": "code",
   "execution_count": 213,
   "metadata": {
    "ExecuteTime": {
     "end_time": "2021-07-08T21:00:48.754874Z",
     "start_time": "2021-07-08T21:00:48.729885Z"
    },
    "id": "KQQ-Opc9ZpKV"
   },
   "outputs": [],
   "source": [
    "X_train.loc[X_train['bill_amt1'] < 0, 'bill_amt1'] = -1\n",
    "X_train.loc[X_train['bill_amt2'] < 0, 'bill_amt2'] = -1\n",
    "X_train.loc[X_train['bill_amt3'] < 0, 'bill_amt3'] = -1\n",
    "X_train.loc[X_train['bill_amt4'] < 0, 'bill_amt4'] = -1\n",
    "X_train.loc[X_train['bill_amt5'] < 0, 'bill_amt5'] = -1\n",
    "X_train.loc[X_train['bill_amt6'] < 0, 'bill_amt6'] = -1"
   ]
  },
  {
   "cell_type": "code",
   "execution_count": 214,
   "metadata": {
    "ExecuteTime": {
     "end_time": "2021-07-08T21:00:49.634565Z",
     "start_time": "2021-07-08T21:00:49.609581Z"
    },
    "colab": {
     "base_uri": "https://localhost:8080/"
    },
    "id": "qIkxSL9oal7A",
    "outputId": "64d2db12-416a-4c3c-9886-ab83453be822"
   },
   "outputs": [
    {
     "data": {
      "text/plain": [
       "count     14700.000000\n",
       "mean      47800.835102\n",
       "std       68385.272659\n",
       "min          -1.000000\n",
       "25%        3158.500000\n",
       "50%       21085.500000\n",
       "75%       62051.250000\n",
       "max      646770.000000\n",
       "Name: bill_amt2, dtype: float64"
      ]
     },
     "execution_count": 214,
     "metadata": {},
     "output_type": "execute_result"
    }
   ],
   "source": [
    "X_train['bill_amt2'].describe()"
   ]
  },
  {
   "cell_type": "code",
   "execution_count": 215,
   "metadata": {
    "ExecuteTime": {
     "end_time": "2021-07-08T21:00:50.672934Z",
     "start_time": "2021-07-08T21:00:50.633957Z"
    },
    "id": "pszc6lnnbgUj"
   },
   "outputs": [],
   "source": [
    "X_train.loc[X_train['pay_amt1'] > 18006.25 , 'pay_amt1'] = 18006.25\n",
    "X_train.loc[X_train['pay_amt2'] > 18987.5  , 'pay_amt2'] = 18987.5\n",
    "X_train.loc[X_train['pay_amt3'] > 15500.7 , 'pay_amt3'] = 15500.7\n",
    "X_train.loc[X_train['pay_amt4'] > 15150.9 , 'pay_amt4'] = 15150.9\n",
    "X_train.loc[X_train['pay_amt5'] > 15620.05 , 'pay_amt5'] = 15620.05\n",
    "X_train.loc[X_train['pay_amt6'] > 16992.4 , 'pay_amt6'] = 16992.4"
   ]
  },
  {
   "cell_type": "code",
   "execution_count": 216,
   "metadata": {
    "ExecuteTime": {
     "end_time": "2021-07-08T21:00:51.249516Z",
     "start_time": "2021-07-08T21:00:51.226533Z"
    },
    "colab": {
     "base_uri": "https://localhost:8080/"
    },
    "id": "eOJO7llsbq6M",
    "outputId": "9981050b-1622-45d2-b6bc-c41d4a3b32f8"
   },
   "outputs": [
    {
     "data": {
      "text/plain": [
       "count    14700.000000\n",
       "mean      3083.597194\n",
       "std       4103.976382\n",
       "min          0.000000\n",
       "25%        247.750000\n",
       "50%       1500.000000\n",
       "75%       4000.000000\n",
       "max      15620.050000\n",
       "Name: pay_amt5, dtype: float64"
      ]
     },
     "execution_count": 216,
     "metadata": {},
     "output_type": "execute_result"
    }
   ],
   "source": [
    "X_train['pay_amt5'].describe()"
   ]
  },
  {
   "cell_type": "code",
   "execution_count": 200,
   "metadata": {
    "ExecuteTime": {
     "end_time": "2021-07-08T20:59:00.692507Z",
     "start_time": "2021-07-08T20:59:00.667523Z"
    },
    "colab": {
     "base_uri": "https://localhost:8080/",
     "height": 145,
     "referenced_widgets": [
      "8ea534b312af4ffda27b4a3d21ec8083",
      "074b79b877de448a862bededcfd243eb",
      "81b5ace4f23342e3a5899277a01d4901",
      "7c1b0b91aa5745c293df41ff37cecba0",
      "69e6a6f5648a40ea8a248e112060a2f0",
      "49047763c46b4f0ea93dee7c36ed06c2",
      "e3a9145b3f0d48a580ac1699aca29126",
      "4c0dbc4b232d4cd0a2801a8e575114c5",
      "adc6d4a1cb5247f29716a82159258c33",
      "0337042b4e9440e59c936fd15bc0d895",
      "45f1209c1c674ba88ede1593f7a761d7",
      "6608910039104fb78f570c4de63ce7fc",
      "ab23326ecebd476090f34eb77c482edc",
      "e1d06430785f46659df38d643297b719",
      "b4d592caa6df4320ac026f8de231a190",
      "6b61fcb4c57149b1a89a62a50cec5bb9",
      "df38b3cd8b22401abdc2004bfe5c07c0",
      "9875c694c61f41b9bfeb534499c8c44d",
      "751cb89bad654aed861944ad378df874",
      "bafe063d60734bb08719eea794b35cd2",
      "650cd08d69734f68988b360420ed33e0",
      "1a8c2e103d784b0ba93803c80e6b48be",
      "bf8704b6846e41d5a109e16a48882940",
      "872f7d98d66f4e4e8aaa5b967b07b087",
      "7aa1f35c40e14195bd37a3b5353ff772",
      "1590ae68d33349fc9f463cfac148ca64",
      "f9af5e02312643fc82a5fa9c3c8800ef",
      "90040a3c7ebe4360bbd62614ab451875",
      "42ad0bade7e9439b8a29db1cb93cf4da",
      "665489286eb440c1a258de14fbf5a459",
      "8dd56f288e6242008e96d974ed7af789",
      "4aecfbce95cd4410a98f41894d19143e",
      "0ab5f5d549cc4c10aac7241654413a3c",
      "74ded1b72a9b4140a01ab8769a5e81ef",
      "0044cec8a2b54e6d94d6b4379a2d8203",
      "d95017fe9cee43d3be4613a6c31dc870",
      "8ae652f479334cc488e06a364f43980f",
      "3b78b23738634d19a18a6e97867f37ae",
      "9fb1a9287a0c437ca1d40de55189b83a",
      "391c8c725c7341dea117cbc474e89fcc",
      "4e48551106b0460a949a488d6f1f5ac8",
      "78fac2fd81a84003abf0d361fcc69b7b",
      "90ee4a39a7a84097a09824cd1850a12d",
      "c699ca39f3fc4a15a1446d5e7987b4b9"
     ]
    },
    "id": "vx6v_Oj2b41G",
    "outputId": "66377df3-3ba1-471b-e50b-976c6aa7719d"
   },
   "outputs": [
    {
     "ename": "NameError",
     "evalue": "name 'ProfileReport' is not defined",
     "output_type": "error",
     "traceback": [
      "\u001b[1;31m---------------------------------------------------------------------------\u001b[0m",
      "\u001b[1;31mNameError\u001b[0m                                 Traceback (most recent call last)",
      "\u001b[1;32m<ipython-input-200-d4bb361acea1>\u001b[0m in \u001b[0;36m<module>\u001b[1;34m\u001b[0m\n\u001b[1;32m----> 1\u001b[1;33m \u001b[0mprofile\u001b[0m \u001b[1;33m=\u001b[0m \u001b[0mProfileReport\u001b[0m\u001b[1;33m(\u001b[0m\u001b[0mX_train\u001b[0m\u001b[1;33m,\u001b[0m\u001b[0mminimal\u001b[0m\u001b[1;33m=\u001b[0m\u001b[1;32mTrue\u001b[0m\u001b[1;33m)\u001b[0m\u001b[1;33m\u001b[0m\u001b[1;33m\u001b[0m\u001b[0m\n\u001b[0m\u001b[0;32m      2\u001b[0m \u001b[0mprofile\u001b[0m\u001b[1;33m.\u001b[0m\u001b[0mto_file\u001b[0m\u001b[1;33m(\u001b[0m\u001b[1;34m\"/content/drive/MyDrive/Curso_Logistica/descritiva2.html\"\u001b[0m\u001b[1;33m)\u001b[0m\u001b[1;33m\u001b[0m\u001b[1;33m\u001b[0m\u001b[0m\n",
      "\u001b[1;31mNameError\u001b[0m: name 'ProfileReport' is not defined"
     ]
    }
   ],
   "source": [
    "profile = ProfileReport(X_train,minimal=True)\n",
    "profile.to_file(\"/content/drive/MyDrive/Curso_Logistica/descritiva2.html\")"
   ]
  },
  {
   "cell_type": "code",
   "execution_count": 217,
   "metadata": {
    "ExecuteTime": {
     "end_time": "2021-07-08T21:00:57.000236Z",
     "start_time": "2021-07-08T21:00:56.993241Z"
    },
    "id": "Y9JfVyLdkCEi"
   },
   "outputs": [],
   "source": [
    "X_train_trat = X_train.copy()"
   ]
  },
  {
   "cell_type": "code",
   "execution_count": 218,
   "metadata": {
    "ExecuteTime": {
     "end_time": "2021-07-08T21:00:58.040734Z",
     "start_time": "2021-07-08T21:00:58.009755Z"
    },
    "colab": {
     "base_uri": "https://localhost:8080/",
     "height": 224
    },
    "id": "WduxY-vLkK2z",
    "outputId": "09b90e22-3427-4284-ba7f-991fd5839f42"
   },
   "outputs": [
    {
     "data": {
      "text/html": [
       "<div>\n",
       "<style scoped>\n",
       "    .dataframe tbody tr th:only-of-type {\n",
       "        vertical-align: middle;\n",
       "    }\n",
       "\n",
       "    .dataframe tbody tr th {\n",
       "        vertical-align: top;\n",
       "    }\n",
       "\n",
       "    .dataframe thead th {\n",
       "        text-align: right;\n",
       "    }\n",
       "</style>\n",
       "<table border=\"1\" class=\"dataframe\">\n",
       "  <thead>\n",
       "    <tr style=\"text-align: right;\">\n",
       "      <th></th>\n",
       "      <th>id</th>\n",
       "      <th>y</th>\n",
       "      <th>safra</th>\n",
       "      <th>limit_bal</th>\n",
       "      <th>sex</th>\n",
       "      <th>education</th>\n",
       "      <th>marriage</th>\n",
       "      <th>age</th>\n",
       "      <th>pay_0</th>\n",
       "      <th>pay_2</th>\n",
       "      <th>...</th>\n",
       "      <th>pay_amt3</th>\n",
       "      <th>pay_amt4</th>\n",
       "      <th>pay_amt5</th>\n",
       "      <th>pay_amt6</th>\n",
       "      <th>sum_bill</th>\n",
       "      <th>avg_bill</th>\n",
       "      <th>max_bill</th>\n",
       "      <th>sum_pay</th>\n",
       "      <th>avg_pay</th>\n",
       "      <th>max_pay</th>\n",
       "    </tr>\n",
       "  </thead>\n",
       "  <tbody>\n",
       "    <tr>\n",
       "      <th>0</th>\n",
       "      <td>10911</td>\n",
       "      <td>1</td>\n",
       "      <td>200601</td>\n",
       "      <td>220000</td>\n",
       "      <td>2</td>\n",
       "      <td>2</td>\n",
       "      <td>1</td>\n",
       "      <td>53</td>\n",
       "      <td>0</td>\n",
       "      <td>0</td>\n",
       "      <td>...</td>\n",
       "      <td>6033.0</td>\n",
       "      <td>6247.0</td>\n",
       "      <td>6142.0</td>\n",
       "      <td>6146.0</td>\n",
       "      <td>1153692.0</td>\n",
       "      <td>192282.000000</td>\n",
       "      <td>214669.0</td>\n",
       "      <td>39622.0</td>\n",
       "      <td>6603.666667</td>\n",
       "      <td>8165.0</td>\n",
       "    </tr>\n",
       "    <tr>\n",
       "      <th>1</th>\n",
       "      <td>12564</td>\n",
       "      <td>0</td>\n",
       "      <td>200602</td>\n",
       "      <td>300000</td>\n",
       "      <td>2</td>\n",
       "      <td>1</td>\n",
       "      <td>2</td>\n",
       "      <td>31</td>\n",
       "      <td>0</td>\n",
       "      <td>0</td>\n",
       "      <td>...</td>\n",
       "      <td>658.0</td>\n",
       "      <td>662.0</td>\n",
       "      <td>0.0</td>\n",
       "      <td>0.0</td>\n",
       "      <td>17752.0</td>\n",
       "      <td>2958.666667</td>\n",
       "      <td>11158.0</td>\n",
       "      <td>5020.0</td>\n",
       "      <td>836.666667</td>\n",
       "      <td>2700.0</td>\n",
       "    </tr>\n",
       "    <tr>\n",
       "      <th>2</th>\n",
       "      <td>370</td>\n",
       "      <td>1</td>\n",
       "      <td>200510</td>\n",
       "      <td>20000</td>\n",
       "      <td>2</td>\n",
       "      <td>2</td>\n",
       "      <td>1</td>\n",
       "      <td>32</td>\n",
       "      <td>3</td>\n",
       "      <td>2</td>\n",
       "      <td>...</td>\n",
       "      <td>384.0</td>\n",
       "      <td>390.0</td>\n",
       "      <td>632.0</td>\n",
       "      <td>616.0</td>\n",
       "      <td>93331.0</td>\n",
       "      <td>15555.166667</td>\n",
       "      <td>20631.0</td>\n",
       "      <td>3190.0</td>\n",
       "      <td>531.666667</td>\n",
       "      <td>1168.0</td>\n",
       "    </tr>\n",
       "    <tr>\n",
       "      <th>3</th>\n",
       "      <td>7703</td>\n",
       "      <td>0</td>\n",
       "      <td>200512</td>\n",
       "      <td>410000</td>\n",
       "      <td>1</td>\n",
       "      <td>3</td>\n",
       "      <td>2</td>\n",
       "      <td>38</td>\n",
       "      <td>-1</td>\n",
       "      <td>-1</td>\n",
       "      <td>...</td>\n",
       "      <td>2558.0</td>\n",
       "      <td>2663.0</td>\n",
       "      <td>6303.0</td>\n",
       "      <td>12.0</td>\n",
       "      <td>18791.0</td>\n",
       "      <td>3131.833333</td>\n",
       "      <td>6286.0</td>\n",
       "      <td>14035.0</td>\n",
       "      <td>2339.166667</td>\n",
       "      <td>6303.0</td>\n",
       "    </tr>\n",
       "    <tr>\n",
       "      <th>4</th>\n",
       "      <td>7465</td>\n",
       "      <td>0</td>\n",
       "      <td>200512</td>\n",
       "      <td>100000</td>\n",
       "      <td>2</td>\n",
       "      <td>2</td>\n",
       "      <td>2</td>\n",
       "      <td>25</td>\n",
       "      <td>0</td>\n",
       "      <td>0</td>\n",
       "      <td>...</td>\n",
       "      <td>674.0</td>\n",
       "      <td>0.0</td>\n",
       "      <td>980.0</td>\n",
       "      <td>4413.0</td>\n",
       "      <td>15355.0</td>\n",
       "      <td>2559.166667</td>\n",
       "      <td>8791.0</td>\n",
       "      <td>7067.0</td>\n",
       "      <td>1177.833333</td>\n",
       "      <td>4413.0</td>\n",
       "    </tr>\n",
       "  </tbody>\n",
       "</table>\n",
       "<p>5 rows × 32 columns</p>\n",
       "</div>"
      ],
      "text/plain": [
       "      id  y   safra  limit_bal  sex  education  marriage  age  pay_0  pay_2  \\\n",
       "0  10911  1  200601     220000    2          2         1   53      0      0   \n",
       "1  12564  0  200602     300000    2          1         2   31      0      0   \n",
       "2    370  1  200510      20000    2          2         1   32      3      2   \n",
       "3   7703  0  200512     410000    1          3         2   38     -1     -1   \n",
       "4   7465  0  200512     100000    2          2         2   25      0      0   \n",
       "\n",
       "   ...  pay_amt3  pay_amt4  pay_amt5  pay_amt6   sum_bill       avg_bill  \\\n",
       "0  ...    6033.0    6247.0    6142.0    6146.0  1153692.0  192282.000000   \n",
       "1  ...     658.0     662.0       0.0       0.0    17752.0    2958.666667   \n",
       "2  ...     384.0     390.0     632.0     616.0    93331.0   15555.166667   \n",
       "3  ...    2558.0    2663.0    6303.0      12.0    18791.0    3131.833333   \n",
       "4  ...     674.0       0.0     980.0    4413.0    15355.0    2559.166667   \n",
       "\n",
       "   max_bill  sum_pay      avg_pay  max_pay  \n",
       "0  214669.0  39622.0  6603.666667   8165.0  \n",
       "1   11158.0   5020.0   836.666667   2700.0  \n",
       "2   20631.0   3190.0   531.666667   1168.0  \n",
       "3    6286.0  14035.0  2339.166667   6303.0  \n",
       "4    8791.0   7067.0  1177.833333   4413.0  \n",
       "\n",
       "[5 rows x 32 columns]"
      ]
     },
     "execution_count": 218,
     "metadata": {},
     "output_type": "execute_result"
    }
   ],
   "source": [
    "X_train_trat.head()"
   ]
  },
  {
   "cell_type": "code",
   "execution_count": null,
   "metadata": {},
   "outputs": [],
   "source": [
    "X_train_trat.head()"
   ]
  },
  {
   "cell_type": "code",
   "execution_count": null,
   "metadata": {},
   "outputs": [],
   "source": []
  }
 ],
 "metadata": {
  "kernelspec": {
   "display_name": "Python 3",
   "language": "python",
   "name": "python3"
  },
  "language_info": {
   "codemirror_mode": {
    "name": "ipython",
    "version": 3
   },
   "file_extension": ".py",
   "mimetype": "text/x-python",
   "name": "python",
   "nbconvert_exporter": "python",
   "pygments_lexer": "ipython3",
   "version": "3.7.6"
  },
  "nbTranslate": {
   "displayLangs": [
    "*"
   ],
   "hotkey": "alt-t",
   "langInMainMenu": true,
   "sourceLang": "en",
   "targetLang": "fr",
   "useGoogleTranslate": true
  },
  "toc": {
   "base_numbering": 1,
   "nav_menu": {},
   "number_sections": true,
   "sideBar": true,
   "skip_h1_title": false,
   "title_cell": "Table of Contents",
   "title_sidebar": "Contents",
   "toc_cell": false,
   "toc_position": {},
   "toc_section_display": true,
   "toc_window_display": true
  }
 },
 "nbformat": 4,
 "nbformat_minor": 4
}
