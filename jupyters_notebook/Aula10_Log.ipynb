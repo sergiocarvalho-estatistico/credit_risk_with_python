{
  "nbformat": 4,
  "nbformat_minor": 0,
  "metadata": {
    "colab": {
      "name": "Log_Aula10.ipynb",
      "provenance": [],
      "collapsed_sections": [],
      "toc_visible": true
    },
    "kernelspec": {
      "name": "python3",
      "display_name": "Python 3"
    },
    "language_info": {
      "name": "python"
    }
  },
  "cells": [
    {
      "cell_type": "markdown",
      "metadata": {
        "id": "2YzlkdbnyM2v"
      },
      "source": [
        "\n",
        "## Aula 10: Modelo Final"
      ]
    },
    {
      "cell_type": "markdown",
      "metadata": {
        "id": "EuBo6c4frNCv"
      },
      "source": [
        "\n",
        "\n",
        "```\n",
        "=============================================================================================================\n",
        "Model:                              Logit                          Pseudo R-squared:               0.161     \n",
        "Dependent Variable:                 y['default']                   AIC:                            13326.6483\n",
        "Date:                               2021-03-25 14:57               BIC:                            13425.3911\n",
        "No. Observations:                   14700                          Log-Likelihood:                 -6650.3   \n",
        "Df Model:                           12                             LL-Null:                        -7923.7   \n",
        "Df Residuals:                       14687                          LLR p-value:                    0.0000    \n",
        "Converged:                          1.0000                         Scale:                          1.0000    \n",
        "No. Iterations:                     6.0000                                                                   \n",
        "-------------------------------------------------------------------------------------------------------------\n",
        "                                                               Coef.  Std.Err.    z    P>|z|   [0.025  0.975]\n",
        "-------------------------------------------------------------------------------------------------------------\n",
        "Intercept                                                     -0.8007   0.0832 -9.6239 0.0000 -0.9637 -0.6376\n",
        "C(PAY_AMT1, Treatment(reference=0))[T.[21.50, 4902.50)]       -0.1828   0.0632 -2.8935 0.0038 -0.3067 -0.0590\n",
        "C(PAY_AMT1, Treatment(reference=0))[T.[4902.50, inf)]         -0.3593   0.0828 -4.3407 0.0000 -0.5215 -0.1971\n",
        "C(LIMIT_BAL, Treatment(reference=0))[T.[125000.00, inf)]      -0.4282   0.0654 -6.5517 0.0000 -0.5563 -0.3001\n",
        "C(LIMIT_BAL, Treatment(reference=0))[T.[45000.00, 125000.00)] -0.2545   0.0631 -4.0331 0.0001 -0.3782 -0.1308\n",
        "C(PAY_0, Treatment(reference=0))[T.[1]]                        0.8283   0.0639 12.9682 0.0000  0.7031  0.9535\n",
        "C(PAY_0, Treatment(reference=0))[T.[6 5 8 4 2 3 7]]            2.4122   0.0623 38.6975 0.0000  2.2900  2.5344\n",
        "C(PAY_AMT2, Treatment(reference=0))[T.[4966.50, inf)]         -0.1472   0.0814 -1.8076 0.0707 -0.3069  0.0124\n",
        "C(PAY_AMT2, Treatment(reference=0))[T.[91.00, 4966.50)]       -0.1332   0.0599 -2.2236 0.0262 -0.2506 -0.0158\n",
        "C(PAY_AMT3, Treatment(reference=0))[T.[1.50, 2918.50)]        -0.2373   0.0609 -3.8982 0.0001 -0.3566 -0.1180\n",
        "C(PAY_AMT3, Treatment(reference=0))[T.[2918.50, inf)]         -0.1920   0.0736 -2.6074 0.0091 -0.3363 -0.0477\n",
        "C(AVG_PAY, Treatment(reference=0))[T.[10116.92, inf)]         -0.6714   0.1071 -6.2716 0.0000 -0.8812 -0.4616\n",
        "C(AVG_PAY, Treatment(reference=0))[T.[2217.08, 10116.92)]     -0.2621   0.0639 -4.0988 0.0000 -0.3874 -0.1368\n",
        "=============================================================================================================\n",
        "```\n",
        "\n"
      ]
    },
    {
      "cell_type": "code",
      "metadata": {
        "id": "vL9rnII3yUBV"
      },
      "source": [
        "import pandas as pd"
      ],
      "execution_count": 1,
      "outputs": []
    },
    {
      "cell_type": "code",
      "metadata": {
        "colab": {
          "base_uri": "https://localhost:8080/"
        },
        "id": "Jm1QTKCXnUXF",
        "outputId": "adafa756-da71-4cbd-c23c-ecb95bf2c436"
      },
      "source": [
        "from google.colab import drive\n",
        "drive.mount('/content/drive')"
      ],
      "execution_count": 2,
      "outputs": [
        {
          "output_type": "stream",
          "text": [
            "Mounted at /content/drive\n"
          ],
          "name": "stdout"
        }
      ]
    },
    {
      "cell_type": "code",
      "metadata": {
        "colab": {
          "base_uri": "https://localhost:8080/",
          "height": 224
        },
        "id": "Bhofj3R6nkAl",
        "outputId": "6d5c425d-b6c7-47eb-f9d4-08028c867d53"
      },
      "source": [
        "df = pd.read_csv('/content/drive/MyDrive/Curso_Logistica/dataset_trat.csv',sep=';')\n",
        "df.head()"
      ],
      "execution_count": 36,
      "outputs": [
        {
          "output_type": "execute_result",
          "data": {
            "text/html": [
              "<div>\n",
              "<style scoped>\n",
              "    .dataframe tbody tr th:only-of-type {\n",
              "        vertical-align: middle;\n",
              "    }\n",
              "\n",
              "    .dataframe tbody tr th {\n",
              "        vertical-align: top;\n",
              "    }\n",
              "\n",
              "    .dataframe thead th {\n",
              "        text-align: right;\n",
              "    }\n",
              "</style>\n",
              "<table border=\"1\" class=\"dataframe\">\n",
              "  <thead>\n",
              "    <tr style=\"text-align: right;\">\n",
              "      <th></th>\n",
              "      <th>ID</th>\n",
              "      <th>SAFRA</th>\n",
              "      <th>LIMIT_BAL</th>\n",
              "      <th>SEX</th>\n",
              "      <th>EDUCATION</th>\n",
              "      <th>MARRIAGE</th>\n",
              "      <th>AGE</th>\n",
              "      <th>PAY_0</th>\n",
              "      <th>PAY_2</th>\n",
              "      <th>PAY_3</th>\n",
              "      <th>PAY_4</th>\n",
              "      <th>PAY_5</th>\n",
              "      <th>PAY_6</th>\n",
              "      <th>BILL_AMT1</th>\n",
              "      <th>BILL_AMT2</th>\n",
              "      <th>BILL_AMT3</th>\n",
              "      <th>BILL_AMT4</th>\n",
              "      <th>BILL_AMT5</th>\n",
              "      <th>BILL_AMT6</th>\n",
              "      <th>PAY_AMT1</th>\n",
              "      <th>PAY_AMT2</th>\n",
              "      <th>PAY_AMT3</th>\n",
              "      <th>PAY_AMT4</th>\n",
              "      <th>PAY_AMT5</th>\n",
              "      <th>PAY_AMT6</th>\n",
              "      <th>default</th>\n",
              "    </tr>\n",
              "  </thead>\n",
              "  <tbody>\n",
              "    <tr>\n",
              "      <th>0</th>\n",
              "      <td>1</td>\n",
              "      <td>200510</td>\n",
              "      <td>20000</td>\n",
              "      <td>2</td>\n",
              "      <td>2</td>\n",
              "      <td>1</td>\n",
              "      <td>24</td>\n",
              "      <td>2</td>\n",
              "      <td>2</td>\n",
              "      <td>-1</td>\n",
              "      <td>-1</td>\n",
              "      <td>-2</td>\n",
              "      <td>-2</td>\n",
              "      <td>3913</td>\n",
              "      <td>3102</td>\n",
              "      <td>689</td>\n",
              "      <td>0</td>\n",
              "      <td>0</td>\n",
              "      <td>0</td>\n",
              "      <td>0</td>\n",
              "      <td>689</td>\n",
              "      <td>0</td>\n",
              "      <td>0</td>\n",
              "      <td>0</td>\n",
              "      <td>0</td>\n",
              "      <td>1</td>\n",
              "    </tr>\n",
              "    <tr>\n",
              "      <th>1</th>\n",
              "      <td>2</td>\n",
              "      <td>200510</td>\n",
              "      <td>120000</td>\n",
              "      <td>2</td>\n",
              "      <td>2</td>\n",
              "      <td>2</td>\n",
              "      <td>26</td>\n",
              "      <td>-1</td>\n",
              "      <td>2</td>\n",
              "      <td>0</td>\n",
              "      <td>0</td>\n",
              "      <td>0</td>\n",
              "      <td>2</td>\n",
              "      <td>2682</td>\n",
              "      <td>1725</td>\n",
              "      <td>2682</td>\n",
              "      <td>3272</td>\n",
              "      <td>3455</td>\n",
              "      <td>3261</td>\n",
              "      <td>0</td>\n",
              "      <td>1000</td>\n",
              "      <td>1000</td>\n",
              "      <td>1000</td>\n",
              "      <td>0</td>\n",
              "      <td>2000</td>\n",
              "      <td>1</td>\n",
              "    </tr>\n",
              "    <tr>\n",
              "      <th>2</th>\n",
              "      <td>3</td>\n",
              "      <td>200510</td>\n",
              "      <td>90000</td>\n",
              "      <td>2</td>\n",
              "      <td>2</td>\n",
              "      <td>2</td>\n",
              "      <td>34</td>\n",
              "      <td>0</td>\n",
              "      <td>0</td>\n",
              "      <td>0</td>\n",
              "      <td>0</td>\n",
              "      <td>0</td>\n",
              "      <td>0</td>\n",
              "      <td>29239</td>\n",
              "      <td>14027</td>\n",
              "      <td>13559</td>\n",
              "      <td>14331</td>\n",
              "      <td>14948</td>\n",
              "      <td>15549</td>\n",
              "      <td>1518</td>\n",
              "      <td>1500</td>\n",
              "      <td>1000</td>\n",
              "      <td>1000</td>\n",
              "      <td>1000</td>\n",
              "      <td>5000</td>\n",
              "      <td>0</td>\n",
              "    </tr>\n",
              "    <tr>\n",
              "      <th>3</th>\n",
              "      <td>4</td>\n",
              "      <td>200510</td>\n",
              "      <td>50000</td>\n",
              "      <td>2</td>\n",
              "      <td>2</td>\n",
              "      <td>1</td>\n",
              "      <td>37</td>\n",
              "      <td>0</td>\n",
              "      <td>0</td>\n",
              "      <td>0</td>\n",
              "      <td>0</td>\n",
              "      <td>0</td>\n",
              "      <td>0</td>\n",
              "      <td>46990</td>\n",
              "      <td>48233</td>\n",
              "      <td>49291</td>\n",
              "      <td>28314</td>\n",
              "      <td>28959</td>\n",
              "      <td>29547</td>\n",
              "      <td>2000</td>\n",
              "      <td>2019</td>\n",
              "      <td>1200</td>\n",
              "      <td>1100</td>\n",
              "      <td>1069</td>\n",
              "      <td>1000</td>\n",
              "      <td>0</td>\n",
              "    </tr>\n",
              "    <tr>\n",
              "      <th>4</th>\n",
              "      <td>5</td>\n",
              "      <td>200510</td>\n",
              "      <td>50000</td>\n",
              "      <td>1</td>\n",
              "      <td>2</td>\n",
              "      <td>1</td>\n",
              "      <td>57</td>\n",
              "      <td>-1</td>\n",
              "      <td>0</td>\n",
              "      <td>-1</td>\n",
              "      <td>0</td>\n",
              "      <td>0</td>\n",
              "      <td>0</td>\n",
              "      <td>8617</td>\n",
              "      <td>5670</td>\n",
              "      <td>35835</td>\n",
              "      <td>20940</td>\n",
              "      <td>19146</td>\n",
              "      <td>19131</td>\n",
              "      <td>2000</td>\n",
              "      <td>36681</td>\n",
              "      <td>10000</td>\n",
              "      <td>9000</td>\n",
              "      <td>689</td>\n",
              "      <td>679</td>\n",
              "      <td>0</td>\n",
              "    </tr>\n",
              "  </tbody>\n",
              "</table>\n",
              "</div>"
            ],
            "text/plain": [
              "   ID   SAFRA  LIMIT_BAL  SEX  ...  PAY_AMT4  PAY_AMT5  PAY_AMT6  default\n",
              "0   1  200510      20000    2  ...         0         0         0        1\n",
              "1   2  200510     120000    2  ...      1000         0      2000        1\n",
              "2   3  200510      90000    2  ...      1000      1000      5000        0\n",
              "3   4  200510      50000    2  ...      1100      1069      1000        0\n",
              "4   5  200510      50000    1  ...      9000       689       679        0\n",
              "\n",
              "[5 rows x 26 columns]"
            ]
          },
          "metadata": {
            "tags": []
          },
          "execution_count": 36
        }
      ]
    },
    {
      "cell_type": "markdown",
      "metadata": {
        "id": "GvVyGHvPtT0H"
      },
      "source": [
        "### Transformações"
      ]
    },
    {
      "cell_type": "code",
      "metadata": {
        "id": "XmQDjJz_tGJ3"
      },
      "source": [
        "df['AVG_PAY'] =  (df['PAY_AMT1'] + df['PAY_AMT2'] + df['PAY_AMT3'] + df['PAY_AMT4'] + df['PAY_AMT5'] + df['PAY_AMT6'])/ 6\n",
        "\n",
        "df.loc[df['PAY_AMT2'] > 18987.5 , 'PAY_AMT2'] = 18987.5\n",
        "df.loc[df['PAY_AMT3'] > 15500.7 , 'PAY_AMT3'] = 15500.7"
      ],
      "execution_count": 37,
      "outputs": []
    },
    {
      "cell_type": "markdown",
      "metadata": {
        "id": "amkxZ3rSnW5h"
      },
      "source": [
        "### Manter apenas as variáveis finais no conjunto de dados"
      ]
    },
    {
      "cell_type": "code",
      "metadata": {
        "colab": {
          "base_uri": "https://localhost:8080/",
          "height": 204
        },
        "id": "o7DrDj-ouTnE",
        "outputId": "12aa0fa9-a95d-4822-c605-9ff4479560d7"
      },
      "source": [
        "df=df[['ID','SAFRA','LIMIT_BAL','PAY_0','AVG_PAY','PAY_AMT1','PAY_AMT2','PAY_AMT3','default']]\n",
        "df.head()"
      ],
      "execution_count": 38,
      "outputs": [
        {
          "output_type": "execute_result",
          "data": {
            "text/html": [
              "<div>\n",
              "<style scoped>\n",
              "    .dataframe tbody tr th:only-of-type {\n",
              "        vertical-align: middle;\n",
              "    }\n",
              "\n",
              "    .dataframe tbody tr th {\n",
              "        vertical-align: top;\n",
              "    }\n",
              "\n",
              "    .dataframe thead th {\n",
              "        text-align: right;\n",
              "    }\n",
              "</style>\n",
              "<table border=\"1\" class=\"dataframe\">\n",
              "  <thead>\n",
              "    <tr style=\"text-align: right;\">\n",
              "      <th></th>\n",
              "      <th>ID</th>\n",
              "      <th>SAFRA</th>\n",
              "      <th>LIMIT_BAL</th>\n",
              "      <th>PAY_0</th>\n",
              "      <th>AVG_PAY</th>\n",
              "      <th>PAY_AMT1</th>\n",
              "      <th>PAY_AMT2</th>\n",
              "      <th>PAY_AMT3</th>\n",
              "      <th>default</th>\n",
              "    </tr>\n",
              "  </thead>\n",
              "  <tbody>\n",
              "    <tr>\n",
              "      <th>0</th>\n",
              "      <td>1</td>\n",
              "      <td>200510</td>\n",
              "      <td>20000</td>\n",
              "      <td>2</td>\n",
              "      <td>114.833333</td>\n",
              "      <td>0</td>\n",
              "      <td>689.0</td>\n",
              "      <td>0.0</td>\n",
              "      <td>1</td>\n",
              "    </tr>\n",
              "    <tr>\n",
              "      <th>1</th>\n",
              "      <td>2</td>\n",
              "      <td>200510</td>\n",
              "      <td>120000</td>\n",
              "      <td>-1</td>\n",
              "      <td>833.333333</td>\n",
              "      <td>0</td>\n",
              "      <td>1000.0</td>\n",
              "      <td>1000.0</td>\n",
              "      <td>1</td>\n",
              "    </tr>\n",
              "    <tr>\n",
              "      <th>2</th>\n",
              "      <td>3</td>\n",
              "      <td>200510</td>\n",
              "      <td>90000</td>\n",
              "      <td>0</td>\n",
              "      <td>1836.333333</td>\n",
              "      <td>1518</td>\n",
              "      <td>1500.0</td>\n",
              "      <td>1000.0</td>\n",
              "      <td>0</td>\n",
              "    </tr>\n",
              "    <tr>\n",
              "      <th>3</th>\n",
              "      <td>4</td>\n",
              "      <td>200510</td>\n",
              "      <td>50000</td>\n",
              "      <td>0</td>\n",
              "      <td>1398.000000</td>\n",
              "      <td>2000</td>\n",
              "      <td>2019.0</td>\n",
              "      <td>1200.0</td>\n",
              "      <td>0</td>\n",
              "    </tr>\n",
              "    <tr>\n",
              "      <th>4</th>\n",
              "      <td>5</td>\n",
              "      <td>200510</td>\n",
              "      <td>50000</td>\n",
              "      <td>-1</td>\n",
              "      <td>9841.500000</td>\n",
              "      <td>2000</td>\n",
              "      <td>18987.5</td>\n",
              "      <td>10000.0</td>\n",
              "      <td>0</td>\n",
              "    </tr>\n",
              "  </tbody>\n",
              "</table>\n",
              "</div>"
            ],
            "text/plain": [
              "   ID   SAFRA  LIMIT_BAL  PAY_0  ...  PAY_AMT1  PAY_AMT2  PAY_AMT3  default\n",
              "0   1  200510      20000      2  ...         0     689.0       0.0        1\n",
              "1   2  200510     120000     -1  ...         0    1000.0    1000.0        1\n",
              "2   3  200510      90000      0  ...      1518    1500.0    1000.0        0\n",
              "3   4  200510      50000      0  ...      2000    2019.0    1200.0        0\n",
              "4   5  200510      50000     -1  ...      2000   18987.5   10000.0        0\n",
              "\n",
              "[5 rows x 9 columns]"
            ]
          },
          "metadata": {
            "tags": []
          },
          "execution_count": 38
        }
      ]
    },
    {
      "cell_type": "markdown",
      "metadata": {
        "id": "cyhb0Bi4vNZs"
      },
      "source": [
        "### Transformações Finais"
      ]
    },
    {
      "cell_type": "code",
      "metadata": {
        "id": "pBqpcXCJvUAF"
      },
      "source": [
        "df.loc[df['LIMIT_BAL'] < 45000.00 , 'LIMIT_BAL_trat'] = 'C0'\n",
        "df.loc[(df['LIMIT_BAL'] >= 45000.00) & (df['LIMIT_BAL'] < 125000.00), 'LIMIT_BAL_trat'] = 'C1'\n",
        "df.loc[df['LIMIT_BAL'] >= 125000.00, 'LIMIT_BAL_trat'] = 'C2'"
      ],
      "execution_count": 29,
      "outputs": []
    },
    {
      "cell_type": "code",
      "metadata": {
        "colab": {
          "base_uri": "https://localhost:8080/"
        },
        "id": "qMQn0WuNvUKb",
        "outputId": "dca99cb3-77bd-4abf-c0e3-26a6ea710ed6"
      },
      "source": [
        "df['LIMIT_BAL_trat'].value_counts()"
      ],
      "execution_count": 34,
      "outputs": [
        {
          "output_type": "execute_result",
          "data": {
            "text/plain": [
              "C2    16188\n",
              "C1     9501\n",
              "C0     4311\n",
              "Name: LIMIT_BAL_trat, dtype: int64"
            ]
          },
          "metadata": {
            "tags": []
          },
          "execution_count": 34
        }
      ]
    },
    {
      "cell_type": "code",
      "metadata": {
        "id": "Y23tRSDmytCr"
      },
      "source": [
        "df.loc[df['PAY_AMT1'] < 21.50 , 'PAY_AMT1_trat'] = 'C0'\n",
        "df.loc[(df['PAY_AMT1'] >= 21.50) & (df['PAY_AMT1'] < 4902.50), 'PAY_AMT1_trat'] = 'C1'\n",
        "df.loc[df['PAY_AMT1'] >= 4902.50, 'PAY_AMT1_trat'] = 'C2'\n"
      ],
      "execution_count": 39,
      "outputs": []
    },
    {
      "cell_type": "code",
      "metadata": {
        "colab": {
          "base_uri": "https://localhost:8080/"
        },
        "id": "tvIwBgB_ytGK",
        "outputId": "87f0f9d6-f265-4244-8205-5ace2eefb170"
      },
      "source": [
        "df['PAY_AMT1_trat'].value_counts()"
      ],
      "execution_count": 41,
      "outputs": [
        {
          "output_type": "execute_result",
          "data": {
            "text/plain": [
              "C1    16255\n",
              "C2     8334\n",
              "C0     5411\n",
              "Name: PAY_AMT1_trat, dtype: int64"
            ]
          },
          "metadata": {
            "tags": []
          },
          "execution_count": 41
        }
      ]
    },
    {
      "cell_type": "code",
      "metadata": {
        "id": "GDHoPetbytIy"
      },
      "source": [
        "df.loc[df['PAY_AMT2'] < 91.00 , 'PAY_AMT2_trat'] = 'C0'\n",
        "df.loc[(df['PAY_AMT2'] >= 91.00) & (df['PAY_AMT2'] < 4966.50), 'PAY_AMT2_trat'] = 'C1'\n",
        "df.loc[df['PAY_AMT2'] >= 4966.50, 'PAY_AMT2_trat'] = 'C2'"
      ],
      "execution_count": 42,
      "outputs": []
    },
    {
      "cell_type": "code",
      "metadata": {
        "colab": {
          "base_uri": "https://localhost:8080/"
        },
        "id": "nRgS7S5pytLZ",
        "outputId": "99edb720-bab8-4f0b-aea7-8cf4934b51d0"
      },
      "source": [
        "df['PAY_AMT2_trat'].value_counts()"
      ],
      "execution_count": 43,
      "outputs": [
        {
          "output_type": "execute_result",
          "data": {
            "text/plain": [
              "C1    16351\n",
              "C2     7984\n",
              "C0     5665\n",
              "Name: PAY_AMT2_trat, dtype: int64"
            ]
          },
          "metadata": {
            "tags": []
          },
          "execution_count": 43
        }
      ]
    },
    {
      "cell_type": "code",
      "metadata": {
        "id": "TgXtupZ_ytN7"
      },
      "source": [
        "df.loc[df['PAY_AMT3'] < 1.50 , 'PAY_AMT3_trat'] = 'C0'\n",
        "df.loc[(df['PAY_AMT3'] >= 1.50) & (df['PAY_AMT3'] < 2918.50), 'PAY_AMT3_trat'] = 'C1'\n",
        "df.loc[df['PAY_AMT3'] >= 2918.50, 'PAY_AMT3_trat'] = 'C2'"
      ],
      "execution_count": 44,
      "outputs": []
    },
    {
      "cell_type": "code",
      "metadata": {
        "colab": {
          "base_uri": "https://localhost:8080/"
        },
        "id": "-KdPgr7o2CWT",
        "outputId": "94fa8422-99f4-4996-d436-f9e7d7be7c06"
      },
      "source": [
        "df['PAY_AMT3_trat'].value_counts()"
      ],
      "execution_count": 45,
      "outputs": [
        {
          "output_type": "execute_result",
          "data": {
            "text/plain": [
              "C1    12937\n",
              "C2    11082\n",
              "C0     5981\n",
              "Name: PAY_AMT3_trat, dtype: int64"
            ]
          },
          "metadata": {
            "tags": []
          },
          "execution_count": 45
        }
      ]
    },
    {
      "cell_type": "code",
      "metadata": {
        "id": "e11x02I92Ccz"
      },
      "source": [
        "df.loc[df['AVG_PAY'] < 2217.08 , 'AVG_PAY_trat'] = 'C0'\n",
        "df.loc[(df['AVG_PAY'] >= 2217.08) & (df['AVG_PAY'] < 10116.92), 'AVG_PAY_trat'] = 'C1'\n",
        "df.loc[df['AVG_PAY'] >= 10116.92, 'AVG_PAY_trat'] = 'C2'"
      ],
      "execution_count": 46,
      "outputs": []
    },
    {
      "cell_type": "code",
      "metadata": {
        "colab": {
          "base_uri": "https://localhost:8080/"
        },
        "id": "ORzGRjjd2ChV",
        "outputId": "667a0fdc-520c-4673-b9ad-1e5cba51f2d2"
      },
      "source": [
        "df['AVG_PAY_trat'].value_counts()"
      ],
      "execution_count": 47,
      "outputs": [
        {
          "output_type": "execute_result",
          "data": {
            "text/plain": [
              "C0    14316\n",
              "C1    11982\n",
              "C2     3702\n",
              "Name: AVG_PAY_trat, dtype: int64"
            ]
          },
          "metadata": {
            "tags": []
          },
          "execution_count": 47
        }
      ]
    },
    {
      "cell_type": "code",
      "metadata": {
        "colab": {
          "base_uri": "https://localhost:8080/"
        },
        "id": "MgNEMQ892CpK",
        "outputId": "3f7f7edd-679c-41ca-9152-a0334c25b6db"
      },
      "source": [
        "df['PAY_0'].value_counts()"
      ],
      "execution_count": 48,
      "outputs": [
        {
          "output_type": "execute_result",
          "data": {
            "text/plain": [
              " 0    14737\n",
              "-1     5686\n",
              " 1     3688\n",
              "-2     2759\n",
              " 2     2667\n",
              " 3      322\n",
              " 4       76\n",
              " 5       26\n",
              " 8       19\n",
              " 6       11\n",
              " 7        9\n",
              "Name: PAY_0, dtype: int64"
            ]
          },
          "metadata": {
            "tags": []
          },
          "execution_count": 48
        }
      ]
    },
    {
      "cell_type": "code",
      "metadata": {
        "id": "ZdPbY2CR3DiL"
      },
      "source": [
        "df.loc[df['PAY_0']   < 1  , 'PAY_0_trat'] = 'C0'\n",
        "df.loc[df['PAY_0'] == 1, 'PAY_0_trat'] = 'C1'\n",
        "df.loc[df['PAY_0']   > 1  , 'PAY_0_trat'] = 'C2'"
      ],
      "execution_count": 50,
      "outputs": []
    },
    {
      "cell_type": "code",
      "metadata": {
        "colab": {
          "base_uri": "https://localhost:8080/"
        },
        "id": "RFjZSE7I23ic",
        "outputId": "35b70811-cffa-418d-cf95-82dfaffcdca1"
      },
      "source": [
        "df['PAY_0_trat'].value_counts()"
      ],
      "execution_count": 51,
      "outputs": [
        {
          "output_type": "execute_result",
          "data": {
            "text/plain": [
              "C0    23182\n",
              "C1     3688\n",
              "C2     3130\n",
              "Name: PAY_0_trat, dtype: int64"
            ]
          },
          "metadata": {
            "tags": []
          },
          "execution_count": 51
        }
      ]
    },
    {
      "cell_type": "code",
      "metadata": {
        "colab": {
          "base_uri": "https://localhost:8080/",
          "height": 224
        },
        "id": "Gbl_bkWL3gdU",
        "outputId": "a3f5d3b5-60ab-4786-95f5-2100a48afa8c"
      },
      "source": [
        "df.head()"
      ],
      "execution_count": 52,
      "outputs": [
        {
          "output_type": "execute_result",
          "data": {
            "text/html": [
              "<div>\n",
              "<style scoped>\n",
              "    .dataframe tbody tr th:only-of-type {\n",
              "        vertical-align: middle;\n",
              "    }\n",
              "\n",
              "    .dataframe tbody tr th {\n",
              "        vertical-align: top;\n",
              "    }\n",
              "\n",
              "    .dataframe thead th {\n",
              "        text-align: right;\n",
              "    }\n",
              "</style>\n",
              "<table border=\"1\" class=\"dataframe\">\n",
              "  <thead>\n",
              "    <tr style=\"text-align: right;\">\n",
              "      <th></th>\n",
              "      <th>ID</th>\n",
              "      <th>SAFRA</th>\n",
              "      <th>LIMIT_BAL</th>\n",
              "      <th>PAY_0</th>\n",
              "      <th>AVG_PAY</th>\n",
              "      <th>PAY_AMT1</th>\n",
              "      <th>PAY_AMT2</th>\n",
              "      <th>PAY_AMT3</th>\n",
              "      <th>default</th>\n",
              "      <th>PAY_AMT1_trat</th>\n",
              "      <th>PAY_AMT2_trat</th>\n",
              "      <th>PAY_AMT3_trat</th>\n",
              "      <th>AVG_PAY_trat</th>\n",
              "      <th>PAY_0_trat</th>\n",
              "    </tr>\n",
              "  </thead>\n",
              "  <tbody>\n",
              "    <tr>\n",
              "      <th>0</th>\n",
              "      <td>1</td>\n",
              "      <td>200510</td>\n",
              "      <td>20000</td>\n",
              "      <td>2</td>\n",
              "      <td>114.833333</td>\n",
              "      <td>0</td>\n",
              "      <td>689.0</td>\n",
              "      <td>0.0</td>\n",
              "      <td>1</td>\n",
              "      <td>C0</td>\n",
              "      <td>C1</td>\n",
              "      <td>C0</td>\n",
              "      <td>C0</td>\n",
              "      <td>C2</td>\n",
              "    </tr>\n",
              "    <tr>\n",
              "      <th>1</th>\n",
              "      <td>2</td>\n",
              "      <td>200510</td>\n",
              "      <td>120000</td>\n",
              "      <td>-1</td>\n",
              "      <td>833.333333</td>\n",
              "      <td>0</td>\n",
              "      <td>1000.0</td>\n",
              "      <td>1000.0</td>\n",
              "      <td>1</td>\n",
              "      <td>C0</td>\n",
              "      <td>C1</td>\n",
              "      <td>C1</td>\n",
              "      <td>C0</td>\n",
              "      <td>C0</td>\n",
              "    </tr>\n",
              "    <tr>\n",
              "      <th>2</th>\n",
              "      <td>3</td>\n",
              "      <td>200510</td>\n",
              "      <td>90000</td>\n",
              "      <td>0</td>\n",
              "      <td>1836.333333</td>\n",
              "      <td>1518</td>\n",
              "      <td>1500.0</td>\n",
              "      <td>1000.0</td>\n",
              "      <td>0</td>\n",
              "      <td>C1</td>\n",
              "      <td>C1</td>\n",
              "      <td>C1</td>\n",
              "      <td>C0</td>\n",
              "      <td>C0</td>\n",
              "    </tr>\n",
              "    <tr>\n",
              "      <th>3</th>\n",
              "      <td>4</td>\n",
              "      <td>200510</td>\n",
              "      <td>50000</td>\n",
              "      <td>0</td>\n",
              "      <td>1398.000000</td>\n",
              "      <td>2000</td>\n",
              "      <td>2019.0</td>\n",
              "      <td>1200.0</td>\n",
              "      <td>0</td>\n",
              "      <td>C1</td>\n",
              "      <td>C1</td>\n",
              "      <td>C1</td>\n",
              "      <td>C0</td>\n",
              "      <td>C0</td>\n",
              "    </tr>\n",
              "    <tr>\n",
              "      <th>4</th>\n",
              "      <td>5</td>\n",
              "      <td>200510</td>\n",
              "      <td>50000</td>\n",
              "      <td>-1</td>\n",
              "      <td>9841.500000</td>\n",
              "      <td>2000</td>\n",
              "      <td>18987.5</td>\n",
              "      <td>10000.0</td>\n",
              "      <td>0</td>\n",
              "      <td>C1</td>\n",
              "      <td>C2</td>\n",
              "      <td>C2</td>\n",
              "      <td>C1</td>\n",
              "      <td>C0</td>\n",
              "    </tr>\n",
              "  </tbody>\n",
              "</table>\n",
              "</div>"
            ],
            "text/plain": [
              "   ID   SAFRA  LIMIT_BAL  ...  PAY_AMT3_trat  AVG_PAY_trat  PAY_0_trat\n",
              "0   1  200510      20000  ...             C0            C0          C2\n",
              "1   2  200510     120000  ...             C1            C0          C0\n",
              "2   3  200510      90000  ...             C1            C0          C0\n",
              "3   4  200510      50000  ...             C1            C0          C0\n",
              "4   5  200510      50000  ...             C2            C1          C0\n",
              "\n",
              "[5 rows x 14 columns]"
            ]
          },
          "metadata": {
            "tags": []
          },
          "execution_count": 52
        }
      ]
    },
    {
      "cell_type": "code",
      "metadata": {
        "id": "u6-nd7H63jhl"
      },
      "source": [
        "df=df[['ID','SAFRA','default', 'PAY_AMT1_trat','PAY_AMT2_trat','PAY_AMT3_trat','AVG_PAY_trat','PAY_0_trat']]"
      ],
      "execution_count": 53,
      "outputs": []
    },
    {
      "cell_type": "code",
      "metadata": {
        "colab": {
          "base_uri": "https://localhost:8080/",
          "height": 204
        },
        "id": "YzajPXrR30Qw",
        "outputId": "e0237608-afc7-40e4-e0fc-430a04bfa480"
      },
      "source": [
        "df.head()"
      ],
      "execution_count": 54,
      "outputs": [
        {
          "output_type": "execute_result",
          "data": {
            "text/html": [
              "<div>\n",
              "<style scoped>\n",
              "    .dataframe tbody tr th:only-of-type {\n",
              "        vertical-align: middle;\n",
              "    }\n",
              "\n",
              "    .dataframe tbody tr th {\n",
              "        vertical-align: top;\n",
              "    }\n",
              "\n",
              "    .dataframe thead th {\n",
              "        text-align: right;\n",
              "    }\n",
              "</style>\n",
              "<table border=\"1\" class=\"dataframe\">\n",
              "  <thead>\n",
              "    <tr style=\"text-align: right;\">\n",
              "      <th></th>\n",
              "      <th>ID</th>\n",
              "      <th>SAFRA</th>\n",
              "      <th>default</th>\n",
              "      <th>PAY_AMT1_trat</th>\n",
              "      <th>PAY_AMT2_trat</th>\n",
              "      <th>PAY_AMT3_trat</th>\n",
              "      <th>AVG_PAY_trat</th>\n",
              "      <th>PAY_0_trat</th>\n",
              "    </tr>\n",
              "  </thead>\n",
              "  <tbody>\n",
              "    <tr>\n",
              "      <th>0</th>\n",
              "      <td>1</td>\n",
              "      <td>200510</td>\n",
              "      <td>1</td>\n",
              "      <td>C0</td>\n",
              "      <td>C1</td>\n",
              "      <td>C0</td>\n",
              "      <td>C0</td>\n",
              "      <td>C2</td>\n",
              "    </tr>\n",
              "    <tr>\n",
              "      <th>1</th>\n",
              "      <td>2</td>\n",
              "      <td>200510</td>\n",
              "      <td>1</td>\n",
              "      <td>C0</td>\n",
              "      <td>C1</td>\n",
              "      <td>C1</td>\n",
              "      <td>C0</td>\n",
              "      <td>C0</td>\n",
              "    </tr>\n",
              "    <tr>\n",
              "      <th>2</th>\n",
              "      <td>3</td>\n",
              "      <td>200510</td>\n",
              "      <td>0</td>\n",
              "      <td>C1</td>\n",
              "      <td>C1</td>\n",
              "      <td>C1</td>\n",
              "      <td>C0</td>\n",
              "      <td>C0</td>\n",
              "    </tr>\n",
              "    <tr>\n",
              "      <th>3</th>\n",
              "      <td>4</td>\n",
              "      <td>200510</td>\n",
              "      <td>0</td>\n",
              "      <td>C1</td>\n",
              "      <td>C1</td>\n",
              "      <td>C1</td>\n",
              "      <td>C0</td>\n",
              "      <td>C0</td>\n",
              "    </tr>\n",
              "    <tr>\n",
              "      <th>4</th>\n",
              "      <td>5</td>\n",
              "      <td>200510</td>\n",
              "      <td>0</td>\n",
              "      <td>C1</td>\n",
              "      <td>C2</td>\n",
              "      <td>C2</td>\n",
              "      <td>C1</td>\n",
              "      <td>C0</td>\n",
              "    </tr>\n",
              "  </tbody>\n",
              "</table>\n",
              "</div>"
            ],
            "text/plain": [
              "   ID   SAFRA  default  ... PAY_AMT3_trat AVG_PAY_trat PAY_0_trat\n",
              "0   1  200510        1  ...            C0           C0         C2\n",
              "1   2  200510        1  ...            C1           C0         C0\n",
              "2   3  200510        0  ...            C1           C0         C0\n",
              "3   4  200510        0  ...            C1           C0         C0\n",
              "4   5  200510        0  ...            C2           C1         C0\n",
              "\n",
              "[5 rows x 8 columns]"
            ]
          },
          "metadata": {
            "tags": []
          },
          "execution_count": 54
        }
      ]
    },
    {
      "cell_type": "markdown",
      "metadata": {
        "id": "qLdXpBqAp7uq"
      },
      "source": [
        "## Divisão do conjunto de dados"
      ]
    },
    {
      "cell_type": "code",
      "metadata": {
        "id": "HQawyXqToE_N",
        "colab": {
          "base_uri": "https://localhost:8080/"
        },
        "outputId": "d475c769-e368-459f-ffd3-90adb8f887ba"
      },
      "source": [
        "OOT = df.loc[df['SAFRA'] >= 200605 ]\n",
        "OOT['SAFRA'].groupby(OOT['SAFRA']).count()"
      ],
      "execution_count": 74,
      "outputs": [
        {
          "output_type": "execute_result",
          "data": {
            "text/plain": [
              "SAFRA\n",
              "200605    3000\n",
              "200606    3000\n",
              "200607    3000\n",
              "Name: SAFRA, dtype: int64"
            ]
          },
          "metadata": {
            "tags": []
          },
          "execution_count": 74
        }
      ]
    },
    {
      "cell_type": "code",
      "metadata": {
        "colab": {
          "base_uri": "https://localhost:8080/"
        },
        "id": "jgZ5spzexQJ3",
        "outputId": "d2c9e232-e550-4362-b4a0-a143ce94e2c5"
      },
      "source": [
        "DEV = df.loc[df['SAFRA'] < 200605 ]\n",
        "DEV['SAFRA'].groupby(DEV['SAFRA']).count()"
      ],
      "execution_count": 75,
      "outputs": [
        {
          "output_type": "execute_result",
          "data": {
            "text/plain": [
              "SAFRA\n",
              "200510    3000\n",
              "200511    3000\n",
              "200512    3000\n",
              "200601    3000\n",
              "200602    3000\n",
              "200603    3000\n",
              "200604    3000\n",
              "Name: SAFRA, dtype: int64"
            ]
          },
          "metadata": {
            "tags": []
          },
          "execution_count": 75
        }
      ]
    },
    {
      "cell_type": "code",
      "metadata": {
        "id": "KuvlF3VpwVvD"
      },
      "source": [
        "from sklearn.model_selection import train_test_split\n",
        "\n",
        "X_train, X_test = train_test_split(DEV ,test_size=0.3, random_state=123)"
      ],
      "execution_count": 69,
      "outputs": []
    },
    {
      "cell_type": "code",
      "metadata": {
        "colab": {
          "base_uri": "https://localhost:8080/",
          "height": 204
        },
        "id": "aSj4E6SGwcV2",
        "outputId": "f6bc1072-4dee-47d2-a412-824e1ffe7e81"
      },
      "source": [
        "X_train.head()"
      ],
      "execution_count": 70,
      "outputs": [
        {
          "output_type": "execute_result",
          "data": {
            "text/html": [
              "<div>\n",
              "<style scoped>\n",
              "    .dataframe tbody tr th:only-of-type {\n",
              "        vertical-align: middle;\n",
              "    }\n",
              "\n",
              "    .dataframe tbody tr th {\n",
              "        vertical-align: top;\n",
              "    }\n",
              "\n",
              "    .dataframe thead th {\n",
              "        text-align: right;\n",
              "    }\n",
              "</style>\n",
              "<table border=\"1\" class=\"dataframe\">\n",
              "  <thead>\n",
              "    <tr style=\"text-align: right;\">\n",
              "      <th></th>\n",
              "      <th>ID</th>\n",
              "      <th>SAFRA</th>\n",
              "      <th>default</th>\n",
              "      <th>PAY_AMT1_trat</th>\n",
              "      <th>PAY_AMT2_trat</th>\n",
              "      <th>PAY_AMT3_trat</th>\n",
              "      <th>AVG_PAY_trat</th>\n",
              "      <th>PAY_0_trat</th>\n",
              "    </tr>\n",
              "  </thead>\n",
              "  <tbody>\n",
              "    <tr>\n",
              "      <th>10910</th>\n",
              "      <td>10911</td>\n",
              "      <td>200601</td>\n",
              "      <td>1</td>\n",
              "      <td>C2</td>\n",
              "      <td>C2</td>\n",
              "      <td>C2</td>\n",
              "      <td>C1</td>\n",
              "      <td>C0</td>\n",
              "    </tr>\n",
              "    <tr>\n",
              "      <th>12563</th>\n",
              "      <td>12564</td>\n",
              "      <td>200602</td>\n",
              "      <td>0</td>\n",
              "      <td>C1</td>\n",
              "      <td>C1</td>\n",
              "      <td>C1</td>\n",
              "      <td>C0</td>\n",
              "      <td>C0</td>\n",
              "    </tr>\n",
              "    <tr>\n",
              "      <th>369</th>\n",
              "      <td>370</td>\n",
              "      <td>200510</td>\n",
              "      <td>1</td>\n",
              "      <td>C0</td>\n",
              "      <td>C1</td>\n",
              "      <td>C1</td>\n",
              "      <td>C0</td>\n",
              "      <td>C2</td>\n",
              "    </tr>\n",
              "    <tr>\n",
              "      <th>7702</th>\n",
              "      <td>7703</td>\n",
              "      <td>200512</td>\n",
              "      <td>0</td>\n",
              "      <td>C1</td>\n",
              "      <td>C1</td>\n",
              "      <td>C1</td>\n",
              "      <td>C1</td>\n",
              "      <td>C0</td>\n",
              "    </tr>\n",
              "    <tr>\n",
              "      <th>7464</th>\n",
              "      <td>7465</td>\n",
              "      <td>200512</td>\n",
              "      <td>0</td>\n",
              "      <td>C1</td>\n",
              "      <td>C0</td>\n",
              "      <td>C1</td>\n",
              "      <td>C0</td>\n",
              "      <td>C0</td>\n",
              "    </tr>\n",
              "  </tbody>\n",
              "</table>\n",
              "</div>"
            ],
            "text/plain": [
              "          ID   SAFRA  default  ... PAY_AMT3_trat AVG_PAY_trat PAY_0_trat\n",
              "10910  10911  200601        1  ...            C2           C1         C0\n",
              "12563  12564  200602        0  ...            C1           C0         C0\n",
              "369      370  200510        1  ...            C1           C0         C2\n",
              "7702    7703  200512        0  ...            C1           C1         C0\n",
              "7464    7465  200512        0  ...            C1           C0         C0\n",
              "\n",
              "[5 rows x 8 columns]"
            ]
          },
          "metadata": {
            "tags": []
          },
          "execution_count": 70
        }
      ]
    },
    {
      "cell_type": "code",
      "metadata": {
        "id": "FdoJW0PJTH6R"
      },
      "source": [
        "X_train.to_csv('/content/drive/MyDrive/Curso_Logistica/X_train_cat.csv',index=None)\n",
        "X_test.to_csv('/content/drive/MyDrive/Curso_Logistica/X_test_cat.csv',index=None)"
      ],
      "execution_count": 76,
      "outputs": []
    }
  ]
}