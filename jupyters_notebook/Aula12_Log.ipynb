{
  "nbformat": 4,
  "nbformat_minor": 0,
  "metadata": {
    "colab": {
      "name": "Log_Aula12.ipynb",
      "provenance": [],
      "collapsed_sections": [],
      "toc_visible": true
    },
    "kernelspec": {
      "name": "python3",
      "display_name": "Python 3"
    },
    "language_info": {
      "name": "python"
    }
  },
  "cells": [
    {
      "cell_type": "markdown",
      "metadata": {
        "id": "2YzlkdbnyM2v"
      },
      "source": [
        "## Reajustar modelo, devido inversão na variável PAY_AMT3"
      ]
    },
    {
      "cell_type": "code",
      "metadata": {
        "id": "vL9rnII3yUBV"
      },
      "source": [
        "import pandas as pd"
      ],
      "execution_count": 1,
      "outputs": []
    },
    {
      "cell_type": "code",
      "metadata": {
        "colab": {
          "base_uri": "https://localhost:8080/"
        },
        "id": "Jm1QTKCXnUXF",
        "outputId": "2d2710cf-56a2-4181-fb38-97cbe622a19a"
      },
      "source": [
        "from google.colab import drive\n",
        "drive.mount('/content/drive')"
      ],
      "execution_count": 2,
      "outputs": [
        {
          "output_type": "stream",
          "text": [
            "Drive already mounted at /content/drive; to attempt to forcibly remount, call drive.mount(\"/content/drive\", force_remount=True).\n"
          ],
          "name": "stdout"
        }
      ]
    },
    {
      "cell_type": "code",
      "metadata": {
        "colab": {
          "base_uri": "https://localhost:8080/",
          "height": 224
        },
        "id": "Bhofj3R6nkAl",
        "outputId": "b8623a8f-1397-40ab-d6b7-41eedc799874"
      },
      "source": [
        "df = pd.read_csv('/content/drive/MyDrive/Curso_Logistica/dataset_trat.csv',sep=';')\n",
        "df.head()"
      ],
      "execution_count": 3,
      "outputs": [
        {
          "output_type": "execute_result",
          "data": {
            "text/html": [
              "<div>\n",
              "<style scoped>\n",
              "    .dataframe tbody tr th:only-of-type {\n",
              "        vertical-align: middle;\n",
              "    }\n",
              "\n",
              "    .dataframe tbody tr th {\n",
              "        vertical-align: top;\n",
              "    }\n",
              "\n",
              "    .dataframe thead th {\n",
              "        text-align: right;\n",
              "    }\n",
              "</style>\n",
              "<table border=\"1\" class=\"dataframe\">\n",
              "  <thead>\n",
              "    <tr style=\"text-align: right;\">\n",
              "      <th></th>\n",
              "      <th>ID</th>\n",
              "      <th>SAFRA</th>\n",
              "      <th>LIMIT_BAL</th>\n",
              "      <th>SEX</th>\n",
              "      <th>EDUCATION</th>\n",
              "      <th>MARRIAGE</th>\n",
              "      <th>AGE</th>\n",
              "      <th>PAY_0</th>\n",
              "      <th>PAY_2</th>\n",
              "      <th>PAY_3</th>\n",
              "      <th>PAY_4</th>\n",
              "      <th>PAY_5</th>\n",
              "      <th>PAY_6</th>\n",
              "      <th>BILL_AMT1</th>\n",
              "      <th>BILL_AMT2</th>\n",
              "      <th>BILL_AMT3</th>\n",
              "      <th>BILL_AMT4</th>\n",
              "      <th>BILL_AMT5</th>\n",
              "      <th>BILL_AMT6</th>\n",
              "      <th>PAY_AMT1</th>\n",
              "      <th>PAY_AMT2</th>\n",
              "      <th>PAY_AMT3</th>\n",
              "      <th>PAY_AMT4</th>\n",
              "      <th>PAY_AMT5</th>\n",
              "      <th>PAY_AMT6</th>\n",
              "      <th>default</th>\n",
              "    </tr>\n",
              "  </thead>\n",
              "  <tbody>\n",
              "    <tr>\n",
              "      <th>0</th>\n",
              "      <td>1</td>\n",
              "      <td>200510</td>\n",
              "      <td>20000</td>\n",
              "      <td>2</td>\n",
              "      <td>2</td>\n",
              "      <td>1</td>\n",
              "      <td>24</td>\n",
              "      <td>2</td>\n",
              "      <td>2</td>\n",
              "      <td>-1</td>\n",
              "      <td>-1</td>\n",
              "      <td>-2</td>\n",
              "      <td>-2</td>\n",
              "      <td>3913</td>\n",
              "      <td>3102</td>\n",
              "      <td>689</td>\n",
              "      <td>0</td>\n",
              "      <td>0</td>\n",
              "      <td>0</td>\n",
              "      <td>0</td>\n",
              "      <td>689</td>\n",
              "      <td>0</td>\n",
              "      <td>0</td>\n",
              "      <td>0</td>\n",
              "      <td>0</td>\n",
              "      <td>1</td>\n",
              "    </tr>\n",
              "    <tr>\n",
              "      <th>1</th>\n",
              "      <td>2</td>\n",
              "      <td>200510</td>\n",
              "      <td>120000</td>\n",
              "      <td>2</td>\n",
              "      <td>2</td>\n",
              "      <td>2</td>\n",
              "      <td>26</td>\n",
              "      <td>-1</td>\n",
              "      <td>2</td>\n",
              "      <td>0</td>\n",
              "      <td>0</td>\n",
              "      <td>0</td>\n",
              "      <td>2</td>\n",
              "      <td>2682</td>\n",
              "      <td>1725</td>\n",
              "      <td>2682</td>\n",
              "      <td>3272</td>\n",
              "      <td>3455</td>\n",
              "      <td>3261</td>\n",
              "      <td>0</td>\n",
              "      <td>1000</td>\n",
              "      <td>1000</td>\n",
              "      <td>1000</td>\n",
              "      <td>0</td>\n",
              "      <td>2000</td>\n",
              "      <td>1</td>\n",
              "    </tr>\n",
              "    <tr>\n",
              "      <th>2</th>\n",
              "      <td>3</td>\n",
              "      <td>200510</td>\n",
              "      <td>90000</td>\n",
              "      <td>2</td>\n",
              "      <td>2</td>\n",
              "      <td>2</td>\n",
              "      <td>34</td>\n",
              "      <td>0</td>\n",
              "      <td>0</td>\n",
              "      <td>0</td>\n",
              "      <td>0</td>\n",
              "      <td>0</td>\n",
              "      <td>0</td>\n",
              "      <td>29239</td>\n",
              "      <td>14027</td>\n",
              "      <td>13559</td>\n",
              "      <td>14331</td>\n",
              "      <td>14948</td>\n",
              "      <td>15549</td>\n",
              "      <td>1518</td>\n",
              "      <td>1500</td>\n",
              "      <td>1000</td>\n",
              "      <td>1000</td>\n",
              "      <td>1000</td>\n",
              "      <td>5000</td>\n",
              "      <td>0</td>\n",
              "    </tr>\n",
              "    <tr>\n",
              "      <th>3</th>\n",
              "      <td>4</td>\n",
              "      <td>200510</td>\n",
              "      <td>50000</td>\n",
              "      <td>2</td>\n",
              "      <td>2</td>\n",
              "      <td>1</td>\n",
              "      <td>37</td>\n",
              "      <td>0</td>\n",
              "      <td>0</td>\n",
              "      <td>0</td>\n",
              "      <td>0</td>\n",
              "      <td>0</td>\n",
              "      <td>0</td>\n",
              "      <td>46990</td>\n",
              "      <td>48233</td>\n",
              "      <td>49291</td>\n",
              "      <td>28314</td>\n",
              "      <td>28959</td>\n",
              "      <td>29547</td>\n",
              "      <td>2000</td>\n",
              "      <td>2019</td>\n",
              "      <td>1200</td>\n",
              "      <td>1100</td>\n",
              "      <td>1069</td>\n",
              "      <td>1000</td>\n",
              "      <td>0</td>\n",
              "    </tr>\n",
              "    <tr>\n",
              "      <th>4</th>\n",
              "      <td>5</td>\n",
              "      <td>200510</td>\n",
              "      <td>50000</td>\n",
              "      <td>1</td>\n",
              "      <td>2</td>\n",
              "      <td>1</td>\n",
              "      <td>57</td>\n",
              "      <td>-1</td>\n",
              "      <td>0</td>\n",
              "      <td>-1</td>\n",
              "      <td>0</td>\n",
              "      <td>0</td>\n",
              "      <td>0</td>\n",
              "      <td>8617</td>\n",
              "      <td>5670</td>\n",
              "      <td>35835</td>\n",
              "      <td>20940</td>\n",
              "      <td>19146</td>\n",
              "      <td>19131</td>\n",
              "      <td>2000</td>\n",
              "      <td>36681</td>\n",
              "      <td>10000</td>\n",
              "      <td>9000</td>\n",
              "      <td>689</td>\n",
              "      <td>679</td>\n",
              "      <td>0</td>\n",
              "    </tr>\n",
              "  </tbody>\n",
              "</table>\n",
              "</div>"
            ],
            "text/plain": [
              "   ID   SAFRA  LIMIT_BAL  SEX  ...  PAY_AMT4  PAY_AMT5  PAY_AMT6  default\n",
              "0   1  200510      20000    2  ...         0         0         0        1\n",
              "1   2  200510     120000    2  ...      1000         0      2000        1\n",
              "2   3  200510      90000    2  ...      1000      1000      5000        0\n",
              "3   4  200510      50000    2  ...      1100      1069      1000        0\n",
              "4   5  200510      50000    1  ...      9000       689       679        0\n",
              "\n",
              "[5 rows x 26 columns]"
            ]
          },
          "metadata": {
            "tags": []
          },
          "execution_count": 3
        }
      ]
    },
    {
      "cell_type": "markdown",
      "metadata": {
        "id": "amkxZ3rSnW5h"
      },
      "source": [
        "## Transformações"
      ]
    },
    {
      "cell_type": "code",
      "metadata": {
        "id": "dmM2_enVlnDV"
      },
      "source": [
        "df['SUM_BILL'] = df['BILL_AMT1'] + df['BILL_AMT2'] + df['BILL_AMT3'] + df['BILL_AMT4'] + df['BILL_AMT5'] + df['BILL_AMT6']   \n",
        "df['AVG_BILL'] = df['SUM_BILL'] / 6\n",
        "df['max_BILL'] = df[['BILL_AMT1', 'BILL_AMT2', 'BILL_AMT3', 'BILL_AMT4', 'BILL_AMT5', 'BILL_AMT6']].max(axis=1)\n",
        "\n",
        "df['SUM_PAY'] = df['PAY_AMT1'] + df['PAY_AMT2'] + df['PAY_AMT3'] + df['PAY_AMT4'] + df['PAY_AMT5'] + df['PAY_AMT6']\n",
        "df['AVG_PAY'] = df['SUM_PAY'] / 6\n",
        "df['max_PAY'] = df[['PAY_AMT1', 'PAY_AMT2', 'PAY_AMT2', 'PAY_AMT3', 'PAY_AMT4', 'PAY_AMT5','PAY_AMT6']].max(axis=1)"
      ],
      "execution_count": 4,
      "outputs": []
    },
    {
      "cell_type": "markdown",
      "metadata": {
        "id": "qLdXpBqAp7uq"
      },
      "source": [
        "## Divisão do conjunto de dados"
      ]
    },
    {
      "cell_type": "code",
      "metadata": {
        "id": "HQawyXqToE_N",
        "colab": {
          "base_uri": "https://localhost:8080/"
        },
        "outputId": "0d728b39-c2d0-4e99-fe40-d74a17120d85"
      },
      "source": [
        "OOT = df.loc[df['SAFRA'] >= 200605 ]\n",
        "OOT['SAFRA'].groupby(OOT['SAFRA']).count()"
      ],
      "execution_count": 5,
      "outputs": [
        {
          "output_type": "execute_result",
          "data": {
            "text/plain": [
              "SAFRA\n",
              "200605    3000\n",
              "200606    3000\n",
              "200607    3000\n",
              "Name: SAFRA, dtype: int64"
            ]
          },
          "metadata": {
            "tags": []
          },
          "execution_count": 5
        }
      ]
    },
    {
      "cell_type": "code",
      "metadata": {
        "colab": {
          "base_uri": "https://localhost:8080/"
        },
        "id": "jgZ5spzexQJ3",
        "outputId": "fcd3733b-6cd3-4136-f0f9-4fac79bc1566"
      },
      "source": [
        "DEV = df.loc[df['SAFRA'] < 200605 ]\n",
        "DEV['SAFRA'].groupby(DEV['SAFRA']).count()"
      ],
      "execution_count": 6,
      "outputs": [
        {
          "output_type": "execute_result",
          "data": {
            "text/plain": [
              "SAFRA\n",
              "200510    3000\n",
              "200511    3000\n",
              "200512    3000\n",
              "200601    3000\n",
              "200602    3000\n",
              "200603    3000\n",
              "200604    3000\n",
              "Name: SAFRA, dtype: int64"
            ]
          },
          "metadata": {
            "tags": []
          },
          "execution_count": 6
        }
      ]
    },
    {
      "cell_type": "code",
      "metadata": {
        "id": "KuvlF3VpwVvD"
      },
      "source": [
        "from sklearn.model_selection import train_test_split\n",
        "\n",
        "X_train, X_test, y_train, y_test = train_test_split(DEV.drop(columns=['default']), DEV['default'] ,test_size=0.3, random_state=123)"
      ],
      "execution_count": 7,
      "outputs": []
    },
    {
      "cell_type": "code",
      "metadata": {
        "colab": {
          "base_uri": "https://localhost:8080/"
        },
        "id": "aSj4E6SGwcV2",
        "outputId": "c781b52e-60af-4c72-cba6-26f4ec1745a8"
      },
      "source": [
        "X_train['SAFRA'].groupby(X_train['SAFRA']).count()"
      ],
      "execution_count": 8,
      "outputs": [
        {
          "output_type": "execute_result",
          "data": {
            "text/plain": [
              "SAFRA\n",
              "200510    2103\n",
              "200511    2124\n",
              "200512    2110\n",
              "200601    2081\n",
              "200602    2075\n",
              "200603    2102\n",
              "200604    2105\n",
              "Name: SAFRA, dtype: int64"
            ]
          },
          "metadata": {
            "tags": []
          },
          "execution_count": 8
        }
      ]
    },
    {
      "cell_type": "code",
      "metadata": {
        "colab": {
          "base_uri": "https://localhost:8080/"
        },
        "id": "LIKffmuhwqfe",
        "outputId": "d789ad38-0c71-4cab-b2bf-05abf7a4d7b6"
      },
      "source": [
        "X_test['SAFRA'].groupby(X_test['SAFRA']).count()"
      ],
      "execution_count": 9,
      "outputs": [
        {
          "output_type": "execute_result",
          "data": {
            "text/plain": [
              "SAFRA\n",
              "200510    897\n",
              "200511    876\n",
              "200512    890\n",
              "200601    919\n",
              "200602    925\n",
              "200603    898\n",
              "200604    895\n",
              "Name: SAFRA, dtype: int64"
            ]
          },
          "metadata": {
            "tags": []
          },
          "execution_count": 9
        }
      ]
    },
    {
      "cell_type": "code",
      "metadata": {
        "id": "KQQ-Opc9ZpKV"
      },
      "source": [
        "X_train.loc[X_train['BILL_AMT1'] < 0, 'BILL_AMT1'] = -1\n",
        "X_train.loc[X_train['BILL_AMT2'] < 0, 'BILL_AMT2'] = -1\n",
        "X_train.loc[X_train['BILL_AMT3'] < 0, 'BILL_AMT3'] = -1\n",
        "X_train.loc[X_train['BILL_AMT4'] < 0, 'BILL_AMT4'] = -1\n",
        "X_train.loc[X_train['BILL_AMT5'] < 0, 'BILL_AMT5'] = -1\n",
        "X_train.loc[X_train['BILL_AMT6'] < 0, 'BILL_AMT6'] = -1\n"
      ],
      "execution_count": 10,
      "outputs": []
    },
    {
      "cell_type": "code",
      "metadata": {
        "id": "pszc6lnnbgUj"
      },
      "source": [
        "X_train.loc[X_train['PAY_AMT1'] > 18006.25 , 'PAY_AMT1'] = 18006.25\n",
        "X_train.loc[X_train['PAY_AMT2'] > 18987.5  , 'PAY_AMT2'] = 18987.5\n",
        "X_train.loc[X_train['PAY_AMT3'] > \t15500.7 , 'PAY_AMT3'] = \t15500.7\n",
        "X_train.loc[X_train['PAY_AMT4'] > \t15150.9 , 'PAY_AMT4'] = \t15150.9\n",
        "X_train.loc[X_train['PAY_AMT5'] > 15620.05 , 'PAY_AMT5'] = 15620.05\n",
        "X_train.loc[X_train['PAY_AMT6'] > 16992.4 , 'PAY_AMT6'] = 16992.4\n"
      ],
      "execution_count": 11,
      "outputs": []
    },
    {
      "cell_type": "code",
      "metadata": {
        "id": "Y9JfVyLdkCEi"
      },
      "source": [
        "X_train_trat = X_train.copy()"
      ],
      "execution_count": 12,
      "outputs": []
    },
    {
      "cell_type": "code",
      "metadata": {
        "id": "WduxY-vLkK2z",
        "colab": {
          "base_uri": "https://localhost:8080/",
          "height": 224
        },
        "outputId": "7d510492-72d7-481a-dcb4-911240a74b14"
      },
      "source": [
        "X_train_trat.head()"
      ],
      "execution_count": 13,
      "outputs": [
        {
          "output_type": "execute_result",
          "data": {
            "text/html": [
              "<div>\n",
              "<style scoped>\n",
              "    .dataframe tbody tr th:only-of-type {\n",
              "        vertical-align: middle;\n",
              "    }\n",
              "\n",
              "    .dataframe tbody tr th {\n",
              "        vertical-align: top;\n",
              "    }\n",
              "\n",
              "    .dataframe thead th {\n",
              "        text-align: right;\n",
              "    }\n",
              "</style>\n",
              "<table border=\"1\" class=\"dataframe\">\n",
              "  <thead>\n",
              "    <tr style=\"text-align: right;\">\n",
              "      <th></th>\n",
              "      <th>ID</th>\n",
              "      <th>SAFRA</th>\n",
              "      <th>LIMIT_BAL</th>\n",
              "      <th>SEX</th>\n",
              "      <th>EDUCATION</th>\n",
              "      <th>MARRIAGE</th>\n",
              "      <th>AGE</th>\n",
              "      <th>PAY_0</th>\n",
              "      <th>PAY_2</th>\n",
              "      <th>PAY_3</th>\n",
              "      <th>PAY_4</th>\n",
              "      <th>PAY_5</th>\n",
              "      <th>PAY_6</th>\n",
              "      <th>BILL_AMT1</th>\n",
              "      <th>BILL_AMT2</th>\n",
              "      <th>BILL_AMT3</th>\n",
              "      <th>BILL_AMT4</th>\n",
              "      <th>BILL_AMT5</th>\n",
              "      <th>BILL_AMT6</th>\n",
              "      <th>PAY_AMT1</th>\n",
              "      <th>PAY_AMT2</th>\n",
              "      <th>PAY_AMT3</th>\n",
              "      <th>PAY_AMT4</th>\n",
              "      <th>PAY_AMT5</th>\n",
              "      <th>PAY_AMT6</th>\n",
              "      <th>SUM_BILL</th>\n",
              "      <th>AVG_BILL</th>\n",
              "      <th>max_BILL</th>\n",
              "      <th>SUM_PAY</th>\n",
              "      <th>AVG_PAY</th>\n",
              "      <th>max_PAY</th>\n",
              "    </tr>\n",
              "  </thead>\n",
              "  <tbody>\n",
              "    <tr>\n",
              "      <th>10910</th>\n",
              "      <td>10911</td>\n",
              "      <td>200601</td>\n",
              "      <td>220000</td>\n",
              "      <td>2</td>\n",
              "      <td>2</td>\n",
              "      <td>1</td>\n",
              "      <td>53</td>\n",
              "      <td>0</td>\n",
              "      <td>0</td>\n",
              "      <td>0</td>\n",
              "      <td>0</td>\n",
              "      <td>0</td>\n",
              "      <td>0</td>\n",
              "      <td>207592</td>\n",
              "      <td>212099</td>\n",
              "      <td>214669</td>\n",
              "      <td>173187</td>\n",
              "      <td>176496</td>\n",
              "      <td>169649</td>\n",
              "      <td>8165.0</td>\n",
              "      <td>6889.0</td>\n",
              "      <td>6033.0</td>\n",
              "      <td>6247.0</td>\n",
              "      <td>6142.0</td>\n",
              "      <td>6146.0</td>\n",
              "      <td>1153692</td>\n",
              "      <td>192282.000000</td>\n",
              "      <td>214669</td>\n",
              "      <td>39622</td>\n",
              "      <td>6603.666667</td>\n",
              "      <td>8165</td>\n",
              "    </tr>\n",
              "    <tr>\n",
              "      <th>12563</th>\n",
              "      <td>12564</td>\n",
              "      <td>200602</td>\n",
              "      <td>300000</td>\n",
              "      <td>2</td>\n",
              "      <td>1</td>\n",
              "      <td>2</td>\n",
              "      <td>31</td>\n",
              "      <td>0</td>\n",
              "      <td>0</td>\n",
              "      <td>0</td>\n",
              "      <td>-1</td>\n",
              "      <td>-1</td>\n",
              "      <td>-1</td>\n",
              "      <td>11158</td>\n",
              "      <td>1616</td>\n",
              "      <td>3658</td>\n",
              "      <td>658</td>\n",
              "      <td>662</td>\n",
              "      <td>0</td>\n",
              "      <td>1000.0</td>\n",
              "      <td>2700.0</td>\n",
              "      <td>658.0</td>\n",
              "      <td>662.0</td>\n",
              "      <td>0.0</td>\n",
              "      <td>0.0</td>\n",
              "      <td>17752</td>\n",
              "      <td>2958.666667</td>\n",
              "      <td>11158</td>\n",
              "      <td>5020</td>\n",
              "      <td>836.666667</td>\n",
              "      <td>2700</td>\n",
              "    </tr>\n",
              "    <tr>\n",
              "      <th>369</th>\n",
              "      <td>370</td>\n",
              "      <td>200510</td>\n",
              "      <td>20000</td>\n",
              "      <td>2</td>\n",
              "      <td>2</td>\n",
              "      <td>1</td>\n",
              "      <td>32</td>\n",
              "      <td>3</td>\n",
              "      <td>2</td>\n",
              "      <td>0</td>\n",
              "      <td>0</td>\n",
              "      <td>0</td>\n",
              "      <td>0</td>\n",
              "      <td>20631</td>\n",
              "      <td>20010</td>\n",
              "      <td>19703</td>\n",
              "      <td>11084</td>\n",
              "      <td>10918</td>\n",
              "      <td>10985</td>\n",
              "      <td>0.0</td>\n",
              "      <td>1168.0</td>\n",
              "      <td>384.0</td>\n",
              "      <td>390.0</td>\n",
              "      <td>632.0</td>\n",
              "      <td>616.0</td>\n",
              "      <td>93331</td>\n",
              "      <td>15555.166667</td>\n",
              "      <td>20631</td>\n",
              "      <td>3190</td>\n",
              "      <td>531.666667</td>\n",
              "      <td>1168</td>\n",
              "    </tr>\n",
              "    <tr>\n",
              "      <th>7702</th>\n",
              "      <td>7703</td>\n",
              "      <td>200512</td>\n",
              "      <td>410000</td>\n",
              "      <td>1</td>\n",
              "      <td>3</td>\n",
              "      <td>2</td>\n",
              "      <td>38</td>\n",
              "      <td>-1</td>\n",
              "      <td>-1</td>\n",
              "      <td>-1</td>\n",
              "      <td>-1</td>\n",
              "      <td>-1</td>\n",
              "      <td>-1</td>\n",
              "      <td>4822</td>\n",
              "      <td>232</td>\n",
              "      <td>2255</td>\n",
              "      <td>2546</td>\n",
              "      <td>2650</td>\n",
              "      <td>6286</td>\n",
              "      <td>233.0</td>\n",
              "      <td>2266.0</td>\n",
              "      <td>2558.0</td>\n",
              "      <td>2663.0</td>\n",
              "      <td>6303.0</td>\n",
              "      <td>12.0</td>\n",
              "      <td>18791</td>\n",
              "      <td>3131.833333</td>\n",
              "      <td>6286</td>\n",
              "      <td>14035</td>\n",
              "      <td>2339.166667</td>\n",
              "      <td>6303</td>\n",
              "    </tr>\n",
              "    <tr>\n",
              "      <th>7464</th>\n",
              "      <td>7465</td>\n",
              "      <td>200512</td>\n",
              "      <td>100000</td>\n",
              "      <td>2</td>\n",
              "      <td>2</td>\n",
              "      <td>2</td>\n",
              "      <td>25</td>\n",
              "      <td>0</td>\n",
              "      <td>0</td>\n",
              "      <td>0</td>\n",
              "      <td>-1</td>\n",
              "      <td>-1</td>\n",
              "      <td>-1</td>\n",
              "      <td>8791</td>\n",
              "      <td>4910</td>\n",
              "      <td>0</td>\n",
              "      <td>674</td>\n",
              "      <td>0</td>\n",
              "      <td>980</td>\n",
              "      <td>1000.0</td>\n",
              "      <td>0.0</td>\n",
              "      <td>674.0</td>\n",
              "      <td>0.0</td>\n",
              "      <td>980.0</td>\n",
              "      <td>4413.0</td>\n",
              "      <td>15355</td>\n",
              "      <td>2559.166667</td>\n",
              "      <td>8791</td>\n",
              "      <td>7067</td>\n",
              "      <td>1177.833333</td>\n",
              "      <td>4413</td>\n",
              "    </tr>\n",
              "  </tbody>\n",
              "</table>\n",
              "</div>"
            ],
            "text/plain": [
              "          ID   SAFRA  LIMIT_BAL  SEX  ...  max_BILL  SUM_PAY      AVG_PAY  max_PAY\n",
              "10910  10911  200601     220000    2  ...    214669    39622  6603.666667     8165\n",
              "12563  12564  200602     300000    2  ...     11158     5020   836.666667     2700\n",
              "369      370  200510      20000    2  ...     20631     3190   531.666667     1168\n",
              "7702    7703  200512     410000    1  ...      6286    14035  2339.166667     6303\n",
              "7464    7465  200512     100000    2  ...      8791     7067  1177.833333     4413\n",
              "\n",
              "[5 rows x 31 columns]"
            ]
          },
          "metadata": {
            "tags": []
          },
          "execution_count": 13
        }
      ]
    },
    {
      "cell_type": "markdown",
      "metadata": {
        "id": "pcwSn3--eeXs"
      },
      "source": [
        "## Avaliação da relevância e redundância dos atributos"
      ]
    },
    {
      "cell_type": "code",
      "metadata": {
        "id": "n8FSKib_POLJ"
      },
      "source": [
        "## Instalação do optbinning: http://gnpalencia.org/optbinning/installation.html\n",
        "#! pip install optbinning"
      ],
      "execution_count": 14,
      "outputs": []
    },
    {
      "cell_type": "code",
      "metadata": {
        "id": "obHUFPmwevBh"
      },
      "source": [
        "from optbinning import OptimalBinning\n",
        "from optbinning import BinningProcess"
      ],
      "execution_count": 15,
      "outputs": []
    },
    {
      "cell_type": "markdown",
      "metadata": {
        "id": "G0ahl1heZu_A"
      },
      "source": [
        "## Modelagem"
      ]
    },
    {
      "cell_type": "markdown",
      "metadata": {
        "id": "DiRmJzkGZDwd"
      },
      "source": [
        "### Trabalhar com variáveis categóricas"
      ]
    },
    {
      "cell_type": "code",
      "metadata": {
        "id": "cC1dDPlzUld5"
      },
      "source": [
        "import pickle\n",
        "from optbinning import OptimalBinning\n",
        "from optbinning import BinningProcess\n",
        "\n",
        "with open('/content/drive/MyDrive/Curso_Logistica/binning_process.pickle', 'rb') as handle:\n",
        "  binning_process = pickle.load(handle)"
      ],
      "execution_count": 16,
      "outputs": []
    },
    {
      "cell_type": "code",
      "metadata": {
        "colab": {
          "base_uri": "https://localhost:8080/"
        },
        "id": "3VESQFVUZJkl",
        "outputId": "d43df5ea-98f6-4674-ceb2-1a7167812372"
      },
      "source": [
        "binning_process"
      ],
      "execution_count": 17,
      "outputs": [
        {
          "output_type": "execute_result",
          "data": {
            "text/plain": [
              "BinningProcess(binning_fit_params=None, binning_transform_params=None,\n",
              "               categorical_variables=['SEX', 'EDUCATION', 'MARRIAGE', 'PAY_0',\n",
              "                                      'PAY_2', 'PAY_3', 'PAY_4', 'PAY_5',\n",
              "                                      'PAY_6'],\n",
              "               max_bin_size=None, max_n_bins=3, max_n_prebins=20,\n",
              "               max_pvalue=None, max_pvalue_policy='consecutive',\n",
              "               min_bin_size=None, min_n_bins=None, min_prebin_size=0.1,\n",
              "               n_jobs=None, selection_criteria...None,\n",
              "               split_digits=None,\n",
              "               variable_names=['LIMIT_BAL', 'SEX', 'EDUCATION', 'MARRIAGE',\n",
              "                               'AGE', 'PAY_0', 'PAY_2', 'PAY_3', 'PAY_4',\n",
              "                               'PAY_5', 'PAY_6', 'BILL_AMT1', 'BILL_AMT2',\n",
              "                               'BILL_AMT3', 'BILL_AMT4', 'BILL_AMT5',\n",
              "                               'BILL_AMT6', 'PAY_AMT1', 'PAY_AMT2', 'PAY_AMT3',\n",
              "                               'PAY_AMT4', 'PAY_AMT5', 'PAY_AMT6', 'SUM_BILL',\n",
              "                               'AVG_BILL', 'max_BILL', 'SUM_PAY', 'AVG_PAY',\n",
              "                               'max_PAY'],\n",
              "               verbose=False)"
            ]
          },
          "metadata": {
            "tags": []
          },
          "execution_count": 17
        }
      ]
    },
    {
      "cell_type": "code",
      "metadata": {
        "id": "c4e3iYlxaJlk"
      },
      "source": [
        "X_train_transf = binning_process.transform(X_train_trat,metric='bins')"
      ],
      "execution_count": 18,
      "outputs": []
    },
    {
      "cell_type": "code",
      "metadata": {
        "colab": {
          "base_uri": "https://localhost:8080/",
          "height": 326
        },
        "id": "ZmomZsYYaTpF",
        "outputId": "3ffe404b-411f-4290-bf4c-6623a65f2512"
      },
      "source": [
        "X_train_transf.head()"
      ],
      "execution_count": 19,
      "outputs": [
        {
          "output_type": "execute_result",
          "data": {
            "text/html": [
              "<div>\n",
              "<style scoped>\n",
              "    .dataframe tbody tr th:only-of-type {\n",
              "        vertical-align: middle;\n",
              "    }\n",
              "\n",
              "    .dataframe tbody tr th {\n",
              "        vertical-align: top;\n",
              "    }\n",
              "\n",
              "    .dataframe thead th {\n",
              "        text-align: right;\n",
              "    }\n",
              "</style>\n",
              "<table border=\"1\" class=\"dataframe\">\n",
              "  <thead>\n",
              "    <tr style=\"text-align: right;\">\n",
              "      <th></th>\n",
              "      <th>LIMIT_BAL</th>\n",
              "      <th>SEX</th>\n",
              "      <th>EDUCATION</th>\n",
              "      <th>MARRIAGE</th>\n",
              "      <th>AGE</th>\n",
              "      <th>PAY_0</th>\n",
              "      <th>PAY_2</th>\n",
              "      <th>PAY_3</th>\n",
              "      <th>PAY_4</th>\n",
              "      <th>PAY_5</th>\n",
              "      <th>PAY_6</th>\n",
              "      <th>BILL_AMT1</th>\n",
              "      <th>BILL_AMT2</th>\n",
              "      <th>BILL_AMT3</th>\n",
              "      <th>BILL_AMT4</th>\n",
              "      <th>BILL_AMT5</th>\n",
              "      <th>BILL_AMT6</th>\n",
              "      <th>PAY_AMT1</th>\n",
              "      <th>PAY_AMT2</th>\n",
              "      <th>PAY_AMT3</th>\n",
              "      <th>PAY_AMT4</th>\n",
              "      <th>PAY_AMT5</th>\n",
              "      <th>PAY_AMT6</th>\n",
              "      <th>SUM_BILL</th>\n",
              "      <th>AVG_BILL</th>\n",
              "      <th>max_BILL</th>\n",
              "      <th>SUM_PAY</th>\n",
              "      <th>AVG_PAY</th>\n",
              "      <th>max_PAY</th>\n",
              "    </tr>\n",
              "  </thead>\n",
              "  <tbody>\n",
              "    <tr>\n",
              "      <th>0</th>\n",
              "      <td>[125000.00, inf)</td>\n",
              "      <td>[2]</td>\n",
              "      <td>[2]</td>\n",
              "      <td>[1 3]</td>\n",
              "      <td>[41.50, inf)</td>\n",
              "      <td>[ 0 -2 -1]</td>\n",
              "      <td>[ 8  0  1 -1]</td>\n",
              "      <td>[-1  0]</td>\n",
              "      <td>[ 0 -2  6]</td>\n",
              "      <td>[ 0 -2]</td>\n",
              "      <td>[ 0 -2]</td>\n",
              "      <td>[65968.50, inf)</td>\n",
              "      <td>[35166.00, inf)</td>\n",
              "      <td>[32102.00, inf)</td>\n",
              "      <td>[8438.00, inf)</td>\n",
              "      <td>[8150.50, inf)</td>\n",
              "      <td>[5865.00, inf)</td>\n",
              "      <td>[4902.50, inf)</td>\n",
              "      <td>[4966.50, inf)</td>\n",
              "      <td>[2918.50, inf)</td>\n",
              "      <td>[2851.50, inf)</td>\n",
              "      <td>[3997.50, inf)</td>\n",
              "      <td>[3781.00, inf)</td>\n",
              "      <td>[290629.00, inf)</td>\n",
              "      <td>[48438.17, inf)</td>\n",
              "      <td>[35558.00, inf)</td>\n",
              "      <td>[13302.50, 60701.50)</td>\n",
              "      <td>[2217.08, 10116.92)</td>\n",
              "      <td>[4873.50, 24396.00)</td>\n",
              "    </tr>\n",
              "    <tr>\n",
              "      <th>1</th>\n",
              "      <td>[125000.00, inf)</td>\n",
              "      <td>[2]</td>\n",
              "      <td>[0 4 6 5 1]</td>\n",
              "      <td>[0 2]</td>\n",
              "      <td>[25.50, 41.50)</td>\n",
              "      <td>[ 0 -2 -1]</td>\n",
              "      <td>[ 8  0  1 -1]</td>\n",
              "      <td>[-1  0]</td>\n",
              "      <td>[-1]</td>\n",
              "      <td>[-1]</td>\n",
              "      <td>[-1]</td>\n",
              "      <td>[781.50, 65968.50)</td>\n",
              "      <td>[-inf, 11880.50)</td>\n",
              "      <td>[-inf, 12238.00)</td>\n",
              "      <td>[-inf, 2509.00)</td>\n",
              "      <td>[-inf, 1326.50)</td>\n",
              "      <td>[-inf, 399.50)</td>\n",
              "      <td>[21.50, 4902.50)</td>\n",
              "      <td>[91.00, 4966.50)</td>\n",
              "      <td>[1.50, 2918.50)</td>\n",
              "      <td>[11.50, 2851.50)</td>\n",
              "      <td>[-inf, 0.50)</td>\n",
              "      <td>[-inf, 941.50)</td>\n",
              "      <td>[8633.00, 290629.00)</td>\n",
              "      <td>[1438.83, 48438.17)</td>\n",
              "      <td>[2984.50, 35558.00)</td>\n",
              "      <td>[-inf, 13302.50)</td>\n",
              "      <td>[-inf, 2217.08)</td>\n",
              "      <td>[-inf, 4873.50)</td>\n",
              "    </tr>\n",
              "    <tr>\n",
              "      <th>2</th>\n",
              "      <td>[-inf, 45000.00)</td>\n",
              "      <td>[2]</td>\n",
              "      <td>[2]</td>\n",
              "      <td>[1 3]</td>\n",
              "      <td>[25.50, 41.50)</td>\n",
              "      <td>[6 5 8 4 2 3 7]</td>\n",
              "      <td>[4 2 7 3 5 6]</td>\n",
              "      <td>[-1  0]</td>\n",
              "      <td>[ 0 -2  6]</td>\n",
              "      <td>[ 0 -2]</td>\n",
              "      <td>[ 0 -2]</td>\n",
              "      <td>[781.50, 65968.50)</td>\n",
              "      <td>[11880.50, 35166.00)</td>\n",
              "      <td>[12238.00, 32102.00)</td>\n",
              "      <td>[8438.00, inf)</td>\n",
              "      <td>[8150.50, inf)</td>\n",
              "      <td>[5865.00, inf)</td>\n",
              "      <td>[-inf, 21.50)</td>\n",
              "      <td>[91.00, 4966.50)</td>\n",
              "      <td>[1.50, 2918.50)</td>\n",
              "      <td>[11.50, 2851.50)</td>\n",
              "      <td>[0.50, 3997.50)</td>\n",
              "      <td>[-inf, 941.50)</td>\n",
              "      <td>[8633.00, 290629.00)</td>\n",
              "      <td>[1438.83, 48438.17)</td>\n",
              "      <td>[2984.50, 35558.00)</td>\n",
              "      <td>[-inf, 13302.50)</td>\n",
              "      <td>[-inf, 2217.08)</td>\n",
              "      <td>[-inf, 4873.50)</td>\n",
              "    </tr>\n",
              "    <tr>\n",
              "      <th>3</th>\n",
              "      <td>[125000.00, inf)</td>\n",
              "      <td>[1]</td>\n",
              "      <td>[3]</td>\n",
              "      <td>[0 2]</td>\n",
              "      <td>[25.50, 41.50)</td>\n",
              "      <td>[ 0 -2 -1]</td>\n",
              "      <td>[ 8  0  1 -1]</td>\n",
              "      <td>[-1  0]</td>\n",
              "      <td>[-1]</td>\n",
              "      <td>[-1]</td>\n",
              "      <td>[-1]</td>\n",
              "      <td>[781.50, 65968.50)</td>\n",
              "      <td>[-inf, 11880.50)</td>\n",
              "      <td>[-inf, 12238.00)</td>\n",
              "      <td>[2509.00, 8438.00)</td>\n",
              "      <td>[1326.50, 8150.50)</td>\n",
              "      <td>[5865.00, inf)</td>\n",
              "      <td>[21.50, 4902.50)</td>\n",
              "      <td>[91.00, 4966.50)</td>\n",
              "      <td>[1.50, 2918.50)</td>\n",
              "      <td>[11.50, 2851.50)</td>\n",
              "      <td>[3997.50, inf)</td>\n",
              "      <td>[-inf, 941.50)</td>\n",
              "      <td>[8633.00, 290629.00)</td>\n",
              "      <td>[1438.83, 48438.17)</td>\n",
              "      <td>[2984.50, 35558.00)</td>\n",
              "      <td>[13302.50, 60701.50)</td>\n",
              "      <td>[2217.08, 10116.92)</td>\n",
              "      <td>[4873.50, 24396.00)</td>\n",
              "    </tr>\n",
              "    <tr>\n",
              "      <th>4</th>\n",
              "      <td>[45000.00, 125000.00)</td>\n",
              "      <td>[2]</td>\n",
              "      <td>[2]</td>\n",
              "      <td>[0 2]</td>\n",
              "      <td>[-inf, 25.50)</td>\n",
              "      <td>[ 0 -2 -1]</td>\n",
              "      <td>[ 8  0  1 -1]</td>\n",
              "      <td>[-1  0]</td>\n",
              "      <td>[-1]</td>\n",
              "      <td>[-1]</td>\n",
              "      <td>[-1]</td>\n",
              "      <td>[781.50, 65968.50)</td>\n",
              "      <td>[-inf, 11880.50)</td>\n",
              "      <td>[-inf, 12238.00)</td>\n",
              "      <td>[-inf, 2509.00)</td>\n",
              "      <td>[-inf, 1326.50)</td>\n",
              "      <td>[399.50, 5865.00)</td>\n",
              "      <td>[21.50, 4902.50)</td>\n",
              "      <td>[-inf, 91.00)</td>\n",
              "      <td>[1.50, 2918.50)</td>\n",
              "      <td>[-inf, 11.50)</td>\n",
              "      <td>[0.50, 3997.50)</td>\n",
              "      <td>[3781.00, inf)</td>\n",
              "      <td>[8633.00, 290629.00)</td>\n",
              "      <td>[1438.83, 48438.17)</td>\n",
              "      <td>[2984.50, 35558.00)</td>\n",
              "      <td>[-inf, 13302.50)</td>\n",
              "      <td>[-inf, 2217.08)</td>\n",
              "      <td>[-inf, 4873.50)</td>\n",
              "    </tr>\n",
              "  </tbody>\n",
              "</table>\n",
              "</div>"
            ],
            "text/plain": [
              "               LIMIT_BAL  SEX  ...              AVG_PAY              max_PAY\n",
              "0       [125000.00, inf)  [2]  ...  [2217.08, 10116.92)  [4873.50, 24396.00)\n",
              "1       [125000.00, inf)  [2]  ...      [-inf, 2217.08)      [-inf, 4873.50)\n",
              "2       [-inf, 45000.00)  [2]  ...      [-inf, 2217.08)      [-inf, 4873.50)\n",
              "3       [125000.00, inf)  [1]  ...  [2217.08, 10116.92)  [4873.50, 24396.00)\n",
              "4  [45000.00, 125000.00)  [2]  ...      [-inf, 2217.08)      [-inf, 4873.50)\n",
              "\n",
              "[5 rows x 29 columns]"
            ]
          },
          "metadata": {
            "tags": []
          },
          "execution_count": 19
        }
      ]
    },
    {
      "cell_type": "code",
      "metadata": {
        "id": "1U9hw4W4bpF1"
      },
      "source": [
        "y = y_train.reset_index()"
      ],
      "execution_count": 20,
      "outputs": []
    },
    {
      "cell_type": "code",
      "metadata": {
        "colab": {
          "base_uri": "https://localhost:8080/",
          "height": 204
        },
        "id": "ycRe09zVbrvi",
        "outputId": "4534d8a7-e29b-4ead-f568-166252c93633"
      },
      "source": [
        "y.head()"
      ],
      "execution_count": 21,
      "outputs": [
        {
          "output_type": "execute_result",
          "data": {
            "text/html": [
              "<div>\n",
              "<style scoped>\n",
              "    .dataframe tbody tr th:only-of-type {\n",
              "        vertical-align: middle;\n",
              "    }\n",
              "\n",
              "    .dataframe tbody tr th {\n",
              "        vertical-align: top;\n",
              "    }\n",
              "\n",
              "    .dataframe thead th {\n",
              "        text-align: right;\n",
              "    }\n",
              "</style>\n",
              "<table border=\"1\" class=\"dataframe\">\n",
              "  <thead>\n",
              "    <tr style=\"text-align: right;\">\n",
              "      <th></th>\n",
              "      <th>index</th>\n",
              "      <th>default</th>\n",
              "    </tr>\n",
              "  </thead>\n",
              "  <tbody>\n",
              "    <tr>\n",
              "      <th>0</th>\n",
              "      <td>10910</td>\n",
              "      <td>1</td>\n",
              "    </tr>\n",
              "    <tr>\n",
              "      <th>1</th>\n",
              "      <td>12563</td>\n",
              "      <td>0</td>\n",
              "    </tr>\n",
              "    <tr>\n",
              "      <th>2</th>\n",
              "      <td>369</td>\n",
              "      <td>1</td>\n",
              "    </tr>\n",
              "    <tr>\n",
              "      <th>3</th>\n",
              "      <td>7702</td>\n",
              "      <td>0</td>\n",
              "    </tr>\n",
              "    <tr>\n",
              "      <th>4</th>\n",
              "      <td>7464</td>\n",
              "      <td>0</td>\n",
              "    </tr>\n",
              "  </tbody>\n",
              "</table>\n",
              "</div>"
            ],
            "text/plain": [
              "   index  default\n",
              "0  10910        1\n",
              "1  12563        0\n",
              "2    369        1\n",
              "3   7702        0\n",
              "4   7464        0"
            ]
          },
          "metadata": {
            "tags": []
          },
          "execution_count": 21
        }
      ]
    },
    {
      "cell_type": "code",
      "metadata": {
        "colab": {
          "base_uri": "https://localhost:8080/"
        },
        "id": "9eL95LEGafEk",
        "outputId": "112158d4-9e83-4b48-e9a4-66d68597d3c3"
      },
      "source": [
        "import statsmodels.formula.api as smf\n",
        "log_reg = smf.logit(formula = \" y['default'] ~ C(LIMIT_BAL, Treatment(reference=0)) + \\\n",
        "                                          C(PAY_0, Treatment(reference=0)) + \\\n",
        "                                          C(PAY_AMT1, Treatment(reference=0)) + \\\n",
        "                                          C(AVG_PAY, Treatment(reference=0))  \\\n",
        "                                     \", data=X_train_transf).fit()"
      ],
      "execution_count": 28,
      "outputs": [
        {
          "output_type": "stream",
          "text": [
            "Optimization terminated successfully.\n",
            "         Current function value: 0.453352\n",
            "         Iterations 6\n"
          ],
          "name": "stdout"
        }
      ]
    },
    {
      "cell_type": "code",
      "metadata": {
        "colab": {
          "base_uri": "https://localhost:8080/"
        },
        "id": "xfsfiu2vbUMF",
        "outputId": "1abe71fc-4561-4a72-a50d-4518a01bffa4"
      },
      "source": [
        "print(log_reg.summary2())"
      ],
      "execution_count": 29,
      "outputs": [
        {
          "output_type": "stream",
          "text": [
            "                                                Results: Logit\n",
            "==============================================================================================================\n",
            "Model:                             Logit                           Pseudo R-squared:                0.159     \n",
            "Dependent Variable:                y['default']                    AIC:                             13346.5452\n",
            "Date:                              2021-03-26 18:07                BIC:                             13414.9056\n",
            "No. Observations:                  14700                           Log-Likelihood:                  -6664.3   \n",
            "Df Model:                          8                               LL-Null:                         -7923.7   \n",
            "Df Residuals:                      14691                           LLR p-value:                     0.0000    \n",
            "Converged:                         1.0000                          Scale:                           1.0000    \n",
            "No. Iterations:                    6.0000                                                                     \n",
            "--------------------------------------------------------------------------------------------------------------\n",
            "                                                               Coef.  Std.Err.    z     P>|z|   [0.025  0.975]\n",
            "--------------------------------------------------------------------------------------------------------------\n",
            "Intercept                                                     -0.9964   0.0741 -13.4536 0.0000 -1.1416 -0.8513\n",
            "C(LIMIT_BAL, Treatment(reference=0))[T.[125000.00, inf)]      -0.3884   0.0644  -6.0283 0.0000 -0.5147 -0.2621\n",
            "C(LIMIT_BAL, Treatment(reference=0))[T.[45000.00, 125000.00)] -0.2507   0.0630  -3.9763 0.0001 -0.3743 -0.1271\n",
            "C(PAY_0, Treatment(reference=0))[T.[1]]                        0.8618   0.0637  13.5341 0.0000  0.7370  0.9866\n",
            "C(PAY_0, Treatment(reference=0))[T.[6 5 8 4 2 3 7]]            2.4296   0.0621  39.1450 0.0000  2.3080  2.5513\n",
            "C(PAY_AMT1, Treatment(reference=0))[T.[21.50, 4902.50)]       -0.2906   0.0598  -4.8606 0.0000 -0.4078 -0.1734\n",
            "C(PAY_AMT1, Treatment(reference=0))[T.[4902.50, inf)]         -0.4409   0.0803  -5.4872 0.0000 -0.5984 -0.2834\n",
            "C(AVG_PAY, Treatment(reference=0))[T.[10116.92, inf)]         -0.7438   0.0981  -7.5837 0.0000 -0.9360 -0.5516\n",
            "C(AVG_PAY, Treatment(reference=0))[T.[2217.08, 10116.92)]     -0.3201   0.0549  -5.8319 0.0000 -0.4277 -0.2125\n",
            "==============================================================================================================\n",
            "\n"
          ],
          "name": "stdout"
        }
      ]
    },
    {
      "cell_type": "markdown",
      "metadata": {
        "id": "U2ShAWB0jik1"
      },
      "source": [
        "### Modelo FInal"
      ]
    },
    {
      "cell_type": "markdown",
      "metadata": {
        "id": "JVX8YC4Mjk39"
      },
      "source": [
        "\n",
        "\n",
        "```\n",
        "\n",
        "\n",
        "\n",
        "==============================================================================================================\n",
        "Model:                             Logit                           Pseudo R-squared:                0.159     \n",
        "Dependent Variable:                y['default']                    AIC:                             13346.5452\n",
        "Date:                              2021-03-26 12:41                BIC:                             13414.9056\n",
        "No. Observations:                  14700                           Log-Likelihood:                  -6664.3   \n",
        "Df Model:                          8                               LL-Null:                         -7923.7   \n",
        "Df Residuals:                      14691                           LLR p-value:                     0.0000    \n",
        "Converged:                         1.0000                          Scale:                           1.0000    \n",
        "No. Iterations:                    6.0000                                                                     \n",
        "--------------------------------------------------------------------------------------------------------------\n",
        "                                                               Coef.  Std.Err.    z     P>|z|   [0.025  0.975]\n",
        "--------------------------------------------------------------------------------------------------------------\n",
        "Intercept                                                     -0.9964   0.0741 -13.4536 0.0000 -1.1416 -0.8513\n",
        "C(LIMIT_BAL, Treatment(reference=0))[T.[125000.00, inf)]      -0.3884   0.0644  -6.0283 0.0000 -0.5147 -0.2621\n",
        "C(LIMIT_BAL, Treatment(reference=0))[T.[45000.00, 125000.00)] -0.2507   0.0630  -3.9763 0.0001 -0.3743 -0.1271\n",
        "C(PAY_0, Treatment(reference=0))[T.[1]]                        0.8618   0.0637  13.5341 0.0000  0.7370  0.9866\n",
        "C(PAY_0, Treatment(reference=0))[T.[6 5 8 4 2 3 7]]            2.4296   0.0621  39.1450 0.0000  2.3080  2.5513\n",
        "C(PAY_AMT1, Treatment(reference=0))[T.[21.50, 4902.50)]       -0.2906   0.0598  -4.8606 0.0000 -0.4078 -0.1734\n",
        "C(PAY_AMT1, Treatment(reference=0))[T.[4902.50, inf)]         -0.4409   0.0803  -5.4872 0.0000 -0.5984 -0.2834\n",
        "C(AVG_PAY, Treatment(reference=0))[T.[10116.92, inf)]         -0.7438   0.0981  -7.5837 0.0000 -0.9360 -0.5516\n",
        "C(AVG_PAY, Treatment(reference=0))[T.[2217.08, 10116.92)]     -0.3201   0.0549  -5.8319 0.0000 -0.4277 -0.2125\n",
        "==============================================================================================================\n",
        "\n",
        "```"
      ]
    }
  ]
}