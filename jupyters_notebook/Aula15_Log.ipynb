{
  "nbformat": 4,
  "nbformat_minor": 0,
  "metadata": {
    "colab": {
      "name": "Log_Aula15.ipynb",
      "provenance": [],
      "collapsed_sections": [],
      "toc_visible": true
    },
    "kernelspec": {
      "name": "python3",
      "display_name": "Python 3"
    },
    "language_info": {
      "name": "python"
    }
  },
  "cells": [
    {
      "cell_type": "markdown",
      "metadata": {
        "id": "2YzlkdbnyM2v"
      },
      "source": [
        "## Aula 15: Avaliação do conjunto OOT"
      ]
    },
    {
      "cell_type": "markdown",
      "metadata": {
        "id": "U2ShAWB0jik1"
      },
      "source": [
        "### Modelo FInal"
      ]
    },
    {
      "cell_type": "markdown",
      "metadata": {
        "id": "JVX8YC4Mjk39"
      },
      "source": [
        "\n",
        "\n",
        "```\n",
        "\n",
        "\n",
        "\n",
        "==============================================================================================================\n",
        "Model:                             Logit                           Pseudo R-squared:                0.159     \n",
        "Dependent Variable:                y['default']                    AIC:                             13346.5452\n",
        "Date:                              2021-03-26 12:41                BIC:                             13414.9056\n",
        "No. Observations:                  14700                           Log-Likelihood:                  -6664.3   \n",
        "Df Model:                          8                               LL-Null:                         -7923.7   \n",
        "Df Residuals:                      14691                           LLR p-value:                     0.0000    \n",
        "Converged:                         1.0000                          Scale:                           1.0000    \n",
        "No. Iterations:                    6.0000                                                                     \n",
        "--------------------------------------------------------------------------------------------------------------\n",
        "                                                               Coef.  Std.Err.    z     P>|z|   [0.025  0.975]\n",
        "--------------------------------------------------------------------------------------------------------------\n",
        "Intercept                                                     -0.9964   0.0741 -13.4536 0.0000 -1.1416 -0.8513\n",
        "C(LIMIT_BAL, Treatment(reference=0))[T.[125000.00, inf)]      -0.3884   0.0644  -6.0283 0.0000 -0.5147 -0.2621\n",
        "C(LIMIT_BAL, Treatment(reference=0))[T.[45000.00, 125000.00)] -0.2507   0.0630  -3.9763 0.0001 -0.3743 -0.1271\n",
        "C(PAY_0, Treatment(reference=0))[T.[1]]                        0.8618   0.0637  13.5341 0.0000  0.7370  0.9866\n",
        "C(PAY_0, Treatment(reference=0))[T.[6 5 8 4 2 3 7]]            2.4296   0.0621  39.1450 0.0000  2.3080  2.5513\n",
        "C(PAY_AMT1, Treatment(reference=0))[T.[21.50, 4902.50)]       -0.2906   0.0598  -4.8606 0.0000 -0.4078 -0.1734\n",
        "C(PAY_AMT1, Treatment(reference=0))[T.[4902.50, inf)]         -0.4409   0.0803  -5.4872 0.0000 -0.5984 -0.2834\n",
        "C(AVG_PAY, Treatment(reference=0))[T.[10116.92, inf)]         -0.7438   0.0981  -7.5837 0.0000 -0.9360 -0.5516\n",
        "C(AVG_PAY, Treatment(reference=0))[T.[2217.08, 10116.92)]     -0.3201   0.0549  -5.8319 0.0000 -0.4277 -0.2125\n",
        "==============================================================================================================\n",
        "\n",
        "```"
      ]
    },
    {
      "cell_type": "code",
      "metadata": {
        "colab": {
          "base_uri": "https://localhost:8080/"
        },
        "id": "hZitr_7kpN0v",
        "outputId": "0661acbd-7a41-4f80-af92-9d7bc8805be3"
      },
      "source": [
        "from google.colab import drive\n",
        "drive.mount('/content/drive')"
      ],
      "execution_count": 1,
      "outputs": [
        {
          "output_type": "stream",
          "text": [
            "Mounted at /content/drive\n"
          ],
          "name": "stdout"
        }
      ]
    },
    {
      "cell_type": "code",
      "metadata": {
        "colab": {
          "base_uri": "https://localhost:8080/",
          "height": 224
        },
        "id": "Q4XELIrakd0m",
        "outputId": "ace522e9-dd56-424d-cad3-2dd68ed3d677"
      },
      "source": [
        "import pandas as pd\n",
        "df = pd.read_csv('/content/drive/MyDrive/Curso_Logistica/dataset_trat.csv',sep=';')\n",
        "df.head()"
      ],
      "execution_count": 2,
      "outputs": [
        {
          "output_type": "execute_result",
          "data": {
            "text/html": [
              "<div>\n",
              "<style scoped>\n",
              "    .dataframe tbody tr th:only-of-type {\n",
              "        vertical-align: middle;\n",
              "    }\n",
              "\n",
              "    .dataframe tbody tr th {\n",
              "        vertical-align: top;\n",
              "    }\n",
              "\n",
              "    .dataframe thead th {\n",
              "        text-align: right;\n",
              "    }\n",
              "</style>\n",
              "<table border=\"1\" class=\"dataframe\">\n",
              "  <thead>\n",
              "    <tr style=\"text-align: right;\">\n",
              "      <th></th>\n",
              "      <th>ID</th>\n",
              "      <th>SAFRA</th>\n",
              "      <th>LIMIT_BAL</th>\n",
              "      <th>SEX</th>\n",
              "      <th>EDUCATION</th>\n",
              "      <th>MARRIAGE</th>\n",
              "      <th>AGE</th>\n",
              "      <th>PAY_0</th>\n",
              "      <th>PAY_2</th>\n",
              "      <th>PAY_3</th>\n",
              "      <th>PAY_4</th>\n",
              "      <th>PAY_5</th>\n",
              "      <th>PAY_6</th>\n",
              "      <th>BILL_AMT1</th>\n",
              "      <th>BILL_AMT2</th>\n",
              "      <th>BILL_AMT3</th>\n",
              "      <th>BILL_AMT4</th>\n",
              "      <th>BILL_AMT5</th>\n",
              "      <th>BILL_AMT6</th>\n",
              "      <th>PAY_AMT1</th>\n",
              "      <th>PAY_AMT2</th>\n",
              "      <th>PAY_AMT3</th>\n",
              "      <th>PAY_AMT4</th>\n",
              "      <th>PAY_AMT5</th>\n",
              "      <th>PAY_AMT6</th>\n",
              "      <th>default</th>\n",
              "    </tr>\n",
              "  </thead>\n",
              "  <tbody>\n",
              "    <tr>\n",
              "      <th>0</th>\n",
              "      <td>1</td>\n",
              "      <td>200510</td>\n",
              "      <td>20000</td>\n",
              "      <td>2</td>\n",
              "      <td>2</td>\n",
              "      <td>1</td>\n",
              "      <td>24</td>\n",
              "      <td>2</td>\n",
              "      <td>2</td>\n",
              "      <td>-1</td>\n",
              "      <td>-1</td>\n",
              "      <td>-2</td>\n",
              "      <td>-2</td>\n",
              "      <td>3913</td>\n",
              "      <td>3102</td>\n",
              "      <td>689</td>\n",
              "      <td>0</td>\n",
              "      <td>0</td>\n",
              "      <td>0</td>\n",
              "      <td>0</td>\n",
              "      <td>689</td>\n",
              "      <td>0</td>\n",
              "      <td>0</td>\n",
              "      <td>0</td>\n",
              "      <td>0</td>\n",
              "      <td>1</td>\n",
              "    </tr>\n",
              "    <tr>\n",
              "      <th>1</th>\n",
              "      <td>2</td>\n",
              "      <td>200510</td>\n",
              "      <td>120000</td>\n",
              "      <td>2</td>\n",
              "      <td>2</td>\n",
              "      <td>2</td>\n",
              "      <td>26</td>\n",
              "      <td>-1</td>\n",
              "      <td>2</td>\n",
              "      <td>0</td>\n",
              "      <td>0</td>\n",
              "      <td>0</td>\n",
              "      <td>2</td>\n",
              "      <td>2682</td>\n",
              "      <td>1725</td>\n",
              "      <td>2682</td>\n",
              "      <td>3272</td>\n",
              "      <td>3455</td>\n",
              "      <td>3261</td>\n",
              "      <td>0</td>\n",
              "      <td>1000</td>\n",
              "      <td>1000</td>\n",
              "      <td>1000</td>\n",
              "      <td>0</td>\n",
              "      <td>2000</td>\n",
              "      <td>1</td>\n",
              "    </tr>\n",
              "    <tr>\n",
              "      <th>2</th>\n",
              "      <td>3</td>\n",
              "      <td>200510</td>\n",
              "      <td>90000</td>\n",
              "      <td>2</td>\n",
              "      <td>2</td>\n",
              "      <td>2</td>\n",
              "      <td>34</td>\n",
              "      <td>0</td>\n",
              "      <td>0</td>\n",
              "      <td>0</td>\n",
              "      <td>0</td>\n",
              "      <td>0</td>\n",
              "      <td>0</td>\n",
              "      <td>29239</td>\n",
              "      <td>14027</td>\n",
              "      <td>13559</td>\n",
              "      <td>14331</td>\n",
              "      <td>14948</td>\n",
              "      <td>15549</td>\n",
              "      <td>1518</td>\n",
              "      <td>1500</td>\n",
              "      <td>1000</td>\n",
              "      <td>1000</td>\n",
              "      <td>1000</td>\n",
              "      <td>5000</td>\n",
              "      <td>0</td>\n",
              "    </tr>\n",
              "    <tr>\n",
              "      <th>3</th>\n",
              "      <td>4</td>\n",
              "      <td>200510</td>\n",
              "      <td>50000</td>\n",
              "      <td>2</td>\n",
              "      <td>2</td>\n",
              "      <td>1</td>\n",
              "      <td>37</td>\n",
              "      <td>0</td>\n",
              "      <td>0</td>\n",
              "      <td>0</td>\n",
              "      <td>0</td>\n",
              "      <td>0</td>\n",
              "      <td>0</td>\n",
              "      <td>46990</td>\n",
              "      <td>48233</td>\n",
              "      <td>49291</td>\n",
              "      <td>28314</td>\n",
              "      <td>28959</td>\n",
              "      <td>29547</td>\n",
              "      <td>2000</td>\n",
              "      <td>2019</td>\n",
              "      <td>1200</td>\n",
              "      <td>1100</td>\n",
              "      <td>1069</td>\n",
              "      <td>1000</td>\n",
              "      <td>0</td>\n",
              "    </tr>\n",
              "    <tr>\n",
              "      <th>4</th>\n",
              "      <td>5</td>\n",
              "      <td>200510</td>\n",
              "      <td>50000</td>\n",
              "      <td>1</td>\n",
              "      <td>2</td>\n",
              "      <td>1</td>\n",
              "      <td>57</td>\n",
              "      <td>-1</td>\n",
              "      <td>0</td>\n",
              "      <td>-1</td>\n",
              "      <td>0</td>\n",
              "      <td>0</td>\n",
              "      <td>0</td>\n",
              "      <td>8617</td>\n",
              "      <td>5670</td>\n",
              "      <td>35835</td>\n",
              "      <td>20940</td>\n",
              "      <td>19146</td>\n",
              "      <td>19131</td>\n",
              "      <td>2000</td>\n",
              "      <td>36681</td>\n",
              "      <td>10000</td>\n",
              "      <td>9000</td>\n",
              "      <td>689</td>\n",
              "      <td>679</td>\n",
              "      <td>0</td>\n",
              "    </tr>\n",
              "  </tbody>\n",
              "</table>\n",
              "</div>"
            ],
            "text/plain": [
              "   ID   SAFRA  LIMIT_BAL  SEX  ...  PAY_AMT4  PAY_AMT5  PAY_AMT6  default\n",
              "0   1  200510      20000    2  ...         0         0         0        1\n",
              "1   2  200510     120000    2  ...      1000         0      2000        1\n",
              "2   3  200510      90000    2  ...      1000      1000      5000        0\n",
              "3   4  200510      50000    2  ...      1100      1069      1000        0\n",
              "4   5  200510      50000    1  ...      9000       689       679        0\n",
              "\n",
              "[5 rows x 26 columns]"
            ]
          },
          "metadata": {
            "tags": []
          },
          "execution_count": 2
        }
      ]
    },
    {
      "cell_type": "markdown",
      "metadata": {
        "id": "GvVyGHvPtT0H"
      },
      "source": [
        "### Transformações"
      ]
    },
    {
      "cell_type": "code",
      "metadata": {
        "id": "XmQDjJz_tGJ3"
      },
      "source": [
        "df['AVG_PAY'] =  (df['PAY_AMT1'] + df['PAY_AMT2'] + df['PAY_AMT3'] + df['PAY_AMT4'] + df['PAY_AMT5'] + df['PAY_AMT6'])/ 6\n",
        "df.loc[df['PAY_AMT1'] > 18006.25 , 'PAY_AMT1'] = 18006.25"
      ],
      "execution_count": 3,
      "outputs": []
    },
    {
      "cell_type": "markdown",
      "metadata": {
        "id": "RqcxaEt_kd0n"
      },
      "source": [
        "### Manter apenas as variáveis finais no conjunto de dados"
      ]
    },
    {
      "cell_type": "code",
      "metadata": {
        "colab": {
          "base_uri": "https://localhost:8080/",
          "height": 204
        },
        "id": "o7DrDj-ouTnE",
        "outputId": "4a0d3c0f-9cf0-4edc-85d4-60dcb037b462"
      },
      "source": [
        "df=df[['ID','SAFRA','LIMIT_BAL','PAY_0','AVG_PAY','PAY_AMT1','default']]\n",
        "df.head()"
      ],
      "execution_count": 4,
      "outputs": [
        {
          "output_type": "execute_result",
          "data": {
            "text/html": [
              "<div>\n",
              "<style scoped>\n",
              "    .dataframe tbody tr th:only-of-type {\n",
              "        vertical-align: middle;\n",
              "    }\n",
              "\n",
              "    .dataframe tbody tr th {\n",
              "        vertical-align: top;\n",
              "    }\n",
              "\n",
              "    .dataframe thead th {\n",
              "        text-align: right;\n",
              "    }\n",
              "</style>\n",
              "<table border=\"1\" class=\"dataframe\">\n",
              "  <thead>\n",
              "    <tr style=\"text-align: right;\">\n",
              "      <th></th>\n",
              "      <th>ID</th>\n",
              "      <th>SAFRA</th>\n",
              "      <th>LIMIT_BAL</th>\n",
              "      <th>PAY_0</th>\n",
              "      <th>AVG_PAY</th>\n",
              "      <th>PAY_AMT1</th>\n",
              "      <th>default</th>\n",
              "    </tr>\n",
              "  </thead>\n",
              "  <tbody>\n",
              "    <tr>\n",
              "      <th>0</th>\n",
              "      <td>1</td>\n",
              "      <td>200510</td>\n",
              "      <td>20000</td>\n",
              "      <td>2</td>\n",
              "      <td>114.833333</td>\n",
              "      <td>0.0</td>\n",
              "      <td>1</td>\n",
              "    </tr>\n",
              "    <tr>\n",
              "      <th>1</th>\n",
              "      <td>2</td>\n",
              "      <td>200510</td>\n",
              "      <td>120000</td>\n",
              "      <td>-1</td>\n",
              "      <td>833.333333</td>\n",
              "      <td>0.0</td>\n",
              "      <td>1</td>\n",
              "    </tr>\n",
              "    <tr>\n",
              "      <th>2</th>\n",
              "      <td>3</td>\n",
              "      <td>200510</td>\n",
              "      <td>90000</td>\n",
              "      <td>0</td>\n",
              "      <td>1836.333333</td>\n",
              "      <td>1518.0</td>\n",
              "      <td>0</td>\n",
              "    </tr>\n",
              "    <tr>\n",
              "      <th>3</th>\n",
              "      <td>4</td>\n",
              "      <td>200510</td>\n",
              "      <td>50000</td>\n",
              "      <td>0</td>\n",
              "      <td>1398.000000</td>\n",
              "      <td>2000.0</td>\n",
              "      <td>0</td>\n",
              "    </tr>\n",
              "    <tr>\n",
              "      <th>4</th>\n",
              "      <td>5</td>\n",
              "      <td>200510</td>\n",
              "      <td>50000</td>\n",
              "      <td>-1</td>\n",
              "      <td>9841.500000</td>\n",
              "      <td>2000.0</td>\n",
              "      <td>0</td>\n",
              "    </tr>\n",
              "  </tbody>\n",
              "</table>\n",
              "</div>"
            ],
            "text/plain": [
              "   ID   SAFRA  LIMIT_BAL  PAY_0      AVG_PAY  PAY_AMT1  default\n",
              "0   1  200510      20000      2   114.833333       0.0        1\n",
              "1   2  200510     120000     -1   833.333333       0.0        1\n",
              "2   3  200510      90000      0  1836.333333    1518.0        0\n",
              "3   4  200510      50000      0  1398.000000    2000.0        0\n",
              "4   5  200510      50000     -1  9841.500000    2000.0        0"
            ]
          },
          "metadata": {
            "tags": []
          },
          "execution_count": 4
        }
      ]
    },
    {
      "cell_type": "markdown",
      "metadata": {
        "id": "cyhb0Bi4vNZs"
      },
      "source": [
        "### Transformações Finais para cálculo do Score"
      ]
    },
    {
      "cell_type": "code",
      "metadata": {
        "id": "pBqpcXCJvUAF"
      },
      "source": [
        "df.loc[df['LIMIT_BAL'] < 45000.00 , 'LIMIT_BAL_trat'] = 0\n",
        "df.loc[(df['LIMIT_BAL'] >= 45000.00) & (df['LIMIT_BAL'] < 125000.00), 'LIMIT_BAL_trat'] = -0.2507\n",
        "df.loc[df['LIMIT_BAL'] >= 125000.00, 'LIMIT_BAL_trat'] = -0.3884"
      ],
      "execution_count": 5,
      "outputs": []
    },
    {
      "cell_type": "code",
      "metadata": {
        "colab": {
          "base_uri": "https://localhost:8080/"
        },
        "id": "qMQn0WuNvUKb",
        "outputId": "98cf4cb7-7ebc-41c6-96b6-6f29a55ded42"
      },
      "source": [
        "df['LIMIT_BAL_trat'].value_counts()"
      ],
      "execution_count": 6,
      "outputs": [
        {
          "output_type": "execute_result",
          "data": {
            "text/plain": [
              "-0.3884    16188\n",
              "-0.2507     9501\n",
              " 0.0000     4311\n",
              "Name: LIMIT_BAL_trat, dtype: int64"
            ]
          },
          "metadata": {
            "tags": []
          },
          "execution_count": 6
        }
      ]
    },
    {
      "cell_type": "code",
      "metadata": {
        "id": "Y23tRSDmytCr"
      },
      "source": [
        "df.loc[df['PAY_AMT1'] < 21.50 , 'PAY_AMT1_trat'] = 0\n",
        "df.loc[(df['PAY_AMT1'] >= 21.50) & (df['PAY_AMT1'] < 4902.50), 'PAY_AMT1_trat'] = -0.2906\n",
        "df.loc[df['PAY_AMT1'] >= 4902.50, 'PAY_AMT1_trat'] = -0.4409\n"
      ],
      "execution_count": 7,
      "outputs": []
    },
    {
      "cell_type": "code",
      "metadata": {
        "colab": {
          "base_uri": "https://localhost:8080/"
        },
        "id": "tvIwBgB_ytGK",
        "outputId": "890357ab-ed4f-4326-aca0-e45ac9922d26"
      },
      "source": [
        "df['PAY_AMT1_trat'].value_counts()"
      ],
      "execution_count": 8,
      "outputs": [
        {
          "output_type": "execute_result",
          "data": {
            "text/plain": [
              "-0.2906    16255\n",
              "-0.4409     8334\n",
              " 0.0000     5411\n",
              "Name: PAY_AMT1_trat, dtype: int64"
            ]
          },
          "metadata": {
            "tags": []
          },
          "execution_count": 8
        }
      ]
    },
    {
      "cell_type": "code",
      "metadata": {
        "id": "e11x02I92Ccz"
      },
      "source": [
        "df.loc[df['AVG_PAY'] < 2217.08 , 'AVG_PAY_trat'] = 0\n",
        "df.loc[(df['AVG_PAY'] >= 2217.08) & (df['AVG_PAY'] < 10116.92), 'AVG_PAY_trat'] = -0.3201\n",
        "df.loc[df['AVG_PAY'] >= 10116.92, 'AVG_PAY_trat'] = -0.7438"
      ],
      "execution_count": 9,
      "outputs": []
    },
    {
      "cell_type": "code",
      "metadata": {
        "colab": {
          "base_uri": "https://localhost:8080/"
        },
        "id": "ORzGRjjd2ChV",
        "outputId": "136d84c1-2abb-4eb8-af14-3f30493a42ad"
      },
      "source": [
        "df['AVG_PAY_trat'].value_counts()"
      ],
      "execution_count": 10,
      "outputs": [
        {
          "output_type": "execute_result",
          "data": {
            "text/plain": [
              " 0.0000    14316\n",
              "-0.3201    11982\n",
              "-0.7438     3702\n",
              "Name: AVG_PAY_trat, dtype: int64"
            ]
          },
          "metadata": {
            "tags": []
          },
          "execution_count": 10
        }
      ]
    },
    {
      "cell_type": "code",
      "metadata": {
        "colab": {
          "base_uri": "https://localhost:8080/"
        },
        "id": "MgNEMQ892CpK",
        "outputId": "5b48917a-5cb3-4793-b297-ffb15d52db06"
      },
      "source": [
        "df['PAY_0'].value_counts()"
      ],
      "execution_count": 11,
      "outputs": [
        {
          "output_type": "execute_result",
          "data": {
            "text/plain": [
              " 0    14737\n",
              "-1     5686\n",
              " 1     3688\n",
              "-2     2759\n",
              " 2     2667\n",
              " 3      322\n",
              " 4       76\n",
              " 5       26\n",
              " 8       19\n",
              " 6       11\n",
              " 7        9\n",
              "Name: PAY_0, dtype: int64"
            ]
          },
          "metadata": {
            "tags": []
          },
          "execution_count": 11
        }
      ]
    },
    {
      "cell_type": "code",
      "metadata": {
        "id": "ZdPbY2CR3DiL"
      },
      "source": [
        "df.loc[df['PAY_0']   < 1  , 'PAY_0_trat'] = 0\n",
        "df.loc[df['PAY_0'] == 1, 'PAY_0_trat'] = 0.8618\n",
        "df.loc[df['PAY_0']   > 1  , 'PAY_0_trat'] = 2.4296"
      ],
      "execution_count": 12,
      "outputs": []
    },
    {
      "cell_type": "code",
      "metadata": {
        "colab": {
          "base_uri": "https://localhost:8080/"
        },
        "id": "RFjZSE7I23ic",
        "outputId": "3d6eab9a-ebb9-42eb-9f16-7a369b0309fc"
      },
      "source": [
        "df['PAY_0_trat'].value_counts()"
      ],
      "execution_count": 13,
      "outputs": [
        {
          "output_type": "execute_result",
          "data": {
            "text/plain": [
              "0.0000    23182\n",
              "0.8618     3688\n",
              "2.4296     3130\n",
              "Name: PAY_0_trat, dtype: int64"
            ]
          },
          "metadata": {
            "tags": []
          },
          "execution_count": 13
        }
      ]
    },
    {
      "cell_type": "code",
      "metadata": {
        "id": "1mDmze6Op1eU"
      },
      "source": [
        "df['Intercept'] = -0.9964"
      ],
      "execution_count": 14,
      "outputs": []
    },
    {
      "cell_type": "code",
      "metadata": {
        "colab": {
          "base_uri": "https://localhost:8080/",
          "height": 224
        },
        "id": "Gbl_bkWL3gdU",
        "outputId": "d37fee34-7f47-4e6f-a020-9fd086f0ef27"
      },
      "source": [
        "df.head()"
      ],
      "execution_count": 15,
      "outputs": [
        {
          "output_type": "execute_result",
          "data": {
            "text/html": [
              "<div>\n",
              "<style scoped>\n",
              "    .dataframe tbody tr th:only-of-type {\n",
              "        vertical-align: middle;\n",
              "    }\n",
              "\n",
              "    .dataframe tbody tr th {\n",
              "        vertical-align: top;\n",
              "    }\n",
              "\n",
              "    .dataframe thead th {\n",
              "        text-align: right;\n",
              "    }\n",
              "</style>\n",
              "<table border=\"1\" class=\"dataframe\">\n",
              "  <thead>\n",
              "    <tr style=\"text-align: right;\">\n",
              "      <th></th>\n",
              "      <th>ID</th>\n",
              "      <th>SAFRA</th>\n",
              "      <th>LIMIT_BAL</th>\n",
              "      <th>PAY_0</th>\n",
              "      <th>AVG_PAY</th>\n",
              "      <th>PAY_AMT1</th>\n",
              "      <th>default</th>\n",
              "      <th>LIMIT_BAL_trat</th>\n",
              "      <th>PAY_AMT1_trat</th>\n",
              "      <th>AVG_PAY_trat</th>\n",
              "      <th>PAY_0_trat</th>\n",
              "      <th>Intercept</th>\n",
              "    </tr>\n",
              "  </thead>\n",
              "  <tbody>\n",
              "    <tr>\n",
              "      <th>0</th>\n",
              "      <td>1</td>\n",
              "      <td>200510</td>\n",
              "      <td>20000</td>\n",
              "      <td>2</td>\n",
              "      <td>114.833333</td>\n",
              "      <td>0.0</td>\n",
              "      <td>1</td>\n",
              "      <td>0.0000</td>\n",
              "      <td>0.0000</td>\n",
              "      <td>0.0000</td>\n",
              "      <td>2.4296</td>\n",
              "      <td>-0.9964</td>\n",
              "    </tr>\n",
              "    <tr>\n",
              "      <th>1</th>\n",
              "      <td>2</td>\n",
              "      <td>200510</td>\n",
              "      <td>120000</td>\n",
              "      <td>-1</td>\n",
              "      <td>833.333333</td>\n",
              "      <td>0.0</td>\n",
              "      <td>1</td>\n",
              "      <td>-0.2507</td>\n",
              "      <td>0.0000</td>\n",
              "      <td>0.0000</td>\n",
              "      <td>0.0000</td>\n",
              "      <td>-0.9964</td>\n",
              "    </tr>\n",
              "    <tr>\n",
              "      <th>2</th>\n",
              "      <td>3</td>\n",
              "      <td>200510</td>\n",
              "      <td>90000</td>\n",
              "      <td>0</td>\n",
              "      <td>1836.333333</td>\n",
              "      <td>1518.0</td>\n",
              "      <td>0</td>\n",
              "      <td>-0.2507</td>\n",
              "      <td>-0.2906</td>\n",
              "      <td>0.0000</td>\n",
              "      <td>0.0000</td>\n",
              "      <td>-0.9964</td>\n",
              "    </tr>\n",
              "    <tr>\n",
              "      <th>3</th>\n",
              "      <td>4</td>\n",
              "      <td>200510</td>\n",
              "      <td>50000</td>\n",
              "      <td>0</td>\n",
              "      <td>1398.000000</td>\n",
              "      <td>2000.0</td>\n",
              "      <td>0</td>\n",
              "      <td>-0.2507</td>\n",
              "      <td>-0.2906</td>\n",
              "      <td>0.0000</td>\n",
              "      <td>0.0000</td>\n",
              "      <td>-0.9964</td>\n",
              "    </tr>\n",
              "    <tr>\n",
              "      <th>4</th>\n",
              "      <td>5</td>\n",
              "      <td>200510</td>\n",
              "      <td>50000</td>\n",
              "      <td>-1</td>\n",
              "      <td>9841.500000</td>\n",
              "      <td>2000.0</td>\n",
              "      <td>0</td>\n",
              "      <td>-0.2507</td>\n",
              "      <td>-0.2906</td>\n",
              "      <td>-0.3201</td>\n",
              "      <td>0.0000</td>\n",
              "      <td>-0.9964</td>\n",
              "    </tr>\n",
              "  </tbody>\n",
              "</table>\n",
              "</div>"
            ],
            "text/plain": [
              "   ID   SAFRA  LIMIT_BAL  ...  AVG_PAY_trat  PAY_0_trat  Intercept\n",
              "0   1  200510      20000  ...        0.0000      2.4296    -0.9964\n",
              "1   2  200510     120000  ...        0.0000      0.0000    -0.9964\n",
              "2   3  200510      90000  ...        0.0000      0.0000    -0.9964\n",
              "3   4  200510      50000  ...        0.0000      0.0000    -0.9964\n",
              "4   5  200510      50000  ...       -0.3201      0.0000    -0.9964\n",
              "\n",
              "[5 rows x 12 columns]"
            ]
          },
          "metadata": {
            "tags": []
          },
          "execution_count": 15
        }
      ]
    },
    {
      "cell_type": "code",
      "metadata": {
        "id": "u6-nd7H63jhl"
      },
      "source": [
        "df=df[['ID','SAFRA','default','Intercept','LIMIT_BAL_trat', 'PAY_AMT1_trat','AVG_PAY_trat','PAY_0_trat']]"
      ],
      "execution_count": 16,
      "outputs": []
    },
    {
      "cell_type": "code",
      "metadata": {
        "colab": {
          "base_uri": "https://localhost:8080/",
          "height": 204
        },
        "id": "YzajPXrR30Qw",
        "outputId": "5c1d36f9-9a57-428f-f073-3976c5501044"
      },
      "source": [
        "df.head()"
      ],
      "execution_count": 17,
      "outputs": [
        {
          "output_type": "execute_result",
          "data": {
            "text/html": [
              "<div>\n",
              "<style scoped>\n",
              "    .dataframe tbody tr th:only-of-type {\n",
              "        vertical-align: middle;\n",
              "    }\n",
              "\n",
              "    .dataframe tbody tr th {\n",
              "        vertical-align: top;\n",
              "    }\n",
              "\n",
              "    .dataframe thead th {\n",
              "        text-align: right;\n",
              "    }\n",
              "</style>\n",
              "<table border=\"1\" class=\"dataframe\">\n",
              "  <thead>\n",
              "    <tr style=\"text-align: right;\">\n",
              "      <th></th>\n",
              "      <th>ID</th>\n",
              "      <th>SAFRA</th>\n",
              "      <th>default</th>\n",
              "      <th>Intercept</th>\n",
              "      <th>LIMIT_BAL_trat</th>\n",
              "      <th>PAY_AMT1_trat</th>\n",
              "      <th>AVG_PAY_trat</th>\n",
              "      <th>PAY_0_trat</th>\n",
              "    </tr>\n",
              "  </thead>\n",
              "  <tbody>\n",
              "    <tr>\n",
              "      <th>0</th>\n",
              "      <td>1</td>\n",
              "      <td>200510</td>\n",
              "      <td>1</td>\n",
              "      <td>-0.9964</td>\n",
              "      <td>0.0000</td>\n",
              "      <td>0.0000</td>\n",
              "      <td>0.0000</td>\n",
              "      <td>2.4296</td>\n",
              "    </tr>\n",
              "    <tr>\n",
              "      <th>1</th>\n",
              "      <td>2</td>\n",
              "      <td>200510</td>\n",
              "      <td>1</td>\n",
              "      <td>-0.9964</td>\n",
              "      <td>-0.2507</td>\n",
              "      <td>0.0000</td>\n",
              "      <td>0.0000</td>\n",
              "      <td>0.0000</td>\n",
              "    </tr>\n",
              "    <tr>\n",
              "      <th>2</th>\n",
              "      <td>3</td>\n",
              "      <td>200510</td>\n",
              "      <td>0</td>\n",
              "      <td>-0.9964</td>\n",
              "      <td>-0.2507</td>\n",
              "      <td>-0.2906</td>\n",
              "      <td>0.0000</td>\n",
              "      <td>0.0000</td>\n",
              "    </tr>\n",
              "    <tr>\n",
              "      <th>3</th>\n",
              "      <td>4</td>\n",
              "      <td>200510</td>\n",
              "      <td>0</td>\n",
              "      <td>-0.9964</td>\n",
              "      <td>-0.2507</td>\n",
              "      <td>-0.2906</td>\n",
              "      <td>0.0000</td>\n",
              "      <td>0.0000</td>\n",
              "    </tr>\n",
              "    <tr>\n",
              "      <th>4</th>\n",
              "      <td>5</td>\n",
              "      <td>200510</td>\n",
              "      <td>0</td>\n",
              "      <td>-0.9964</td>\n",
              "      <td>-0.2507</td>\n",
              "      <td>-0.2906</td>\n",
              "      <td>-0.3201</td>\n",
              "      <td>0.0000</td>\n",
              "    </tr>\n",
              "  </tbody>\n",
              "</table>\n",
              "</div>"
            ],
            "text/plain": [
              "   ID   SAFRA  default  ...  PAY_AMT1_trat  AVG_PAY_trat  PAY_0_trat\n",
              "0   1  200510        1  ...         0.0000        0.0000      2.4296\n",
              "1   2  200510        1  ...         0.0000        0.0000      0.0000\n",
              "2   3  200510        0  ...        -0.2906        0.0000      0.0000\n",
              "3   4  200510        0  ...        -0.2906        0.0000      0.0000\n",
              "4   5  200510        0  ...        -0.2906       -0.3201      0.0000\n",
              "\n",
              "[5 rows x 8 columns]"
            ]
          },
          "metadata": {
            "tags": []
          },
          "execution_count": 17
        }
      ]
    },
    {
      "cell_type": "markdown",
      "metadata": {
        "id": "kNEikk7qkd0r"
      },
      "source": [
        "## Predição"
      ]
    },
    {
      "cell_type": "code",
      "metadata": {
        "id": "z9xtHd4yniSz"
      },
      "source": [
        "df['pred_lin'] = df['Intercept'] +\tdf['LIMIT_BAL_trat'] +\tdf['PAY_AMT1_trat']\t+ df['AVG_PAY_trat'] +\tdf['PAY_0_trat'] "
      ],
      "execution_count": 18,
      "outputs": []
    },
    {
      "cell_type": "code",
      "metadata": {
        "colab": {
          "base_uri": "https://localhost:8080/",
          "height": 204
        },
        "id": "YLwBccixniVU",
        "outputId": "54f3c08a-5585-469e-f919-2fd15ece99b8"
      },
      "source": [
        "df.head()"
      ],
      "execution_count": 19,
      "outputs": [
        {
          "output_type": "execute_result",
          "data": {
            "text/html": [
              "<div>\n",
              "<style scoped>\n",
              "    .dataframe tbody tr th:only-of-type {\n",
              "        vertical-align: middle;\n",
              "    }\n",
              "\n",
              "    .dataframe tbody tr th {\n",
              "        vertical-align: top;\n",
              "    }\n",
              "\n",
              "    .dataframe thead th {\n",
              "        text-align: right;\n",
              "    }\n",
              "</style>\n",
              "<table border=\"1\" class=\"dataframe\">\n",
              "  <thead>\n",
              "    <tr style=\"text-align: right;\">\n",
              "      <th></th>\n",
              "      <th>ID</th>\n",
              "      <th>SAFRA</th>\n",
              "      <th>default</th>\n",
              "      <th>Intercept</th>\n",
              "      <th>LIMIT_BAL_trat</th>\n",
              "      <th>PAY_AMT1_trat</th>\n",
              "      <th>AVG_PAY_trat</th>\n",
              "      <th>PAY_0_trat</th>\n",
              "      <th>pred_lin</th>\n",
              "    </tr>\n",
              "  </thead>\n",
              "  <tbody>\n",
              "    <tr>\n",
              "      <th>0</th>\n",
              "      <td>1</td>\n",
              "      <td>200510</td>\n",
              "      <td>1</td>\n",
              "      <td>-0.9964</td>\n",
              "      <td>0.0000</td>\n",
              "      <td>0.0000</td>\n",
              "      <td>0.0000</td>\n",
              "      <td>2.4296</td>\n",
              "      <td>1.4332</td>\n",
              "    </tr>\n",
              "    <tr>\n",
              "      <th>1</th>\n",
              "      <td>2</td>\n",
              "      <td>200510</td>\n",
              "      <td>1</td>\n",
              "      <td>-0.9964</td>\n",
              "      <td>-0.2507</td>\n",
              "      <td>0.0000</td>\n",
              "      <td>0.0000</td>\n",
              "      <td>0.0000</td>\n",
              "      <td>-1.2471</td>\n",
              "    </tr>\n",
              "    <tr>\n",
              "      <th>2</th>\n",
              "      <td>3</td>\n",
              "      <td>200510</td>\n",
              "      <td>0</td>\n",
              "      <td>-0.9964</td>\n",
              "      <td>-0.2507</td>\n",
              "      <td>-0.2906</td>\n",
              "      <td>0.0000</td>\n",
              "      <td>0.0000</td>\n",
              "      <td>-1.5377</td>\n",
              "    </tr>\n",
              "    <tr>\n",
              "      <th>3</th>\n",
              "      <td>4</td>\n",
              "      <td>200510</td>\n",
              "      <td>0</td>\n",
              "      <td>-0.9964</td>\n",
              "      <td>-0.2507</td>\n",
              "      <td>-0.2906</td>\n",
              "      <td>0.0000</td>\n",
              "      <td>0.0000</td>\n",
              "      <td>-1.5377</td>\n",
              "    </tr>\n",
              "    <tr>\n",
              "      <th>4</th>\n",
              "      <td>5</td>\n",
              "      <td>200510</td>\n",
              "      <td>0</td>\n",
              "      <td>-0.9964</td>\n",
              "      <td>-0.2507</td>\n",
              "      <td>-0.2906</td>\n",
              "      <td>-0.3201</td>\n",
              "      <td>0.0000</td>\n",
              "      <td>-1.8578</td>\n",
              "    </tr>\n",
              "  </tbody>\n",
              "</table>\n",
              "</div>"
            ],
            "text/plain": [
              "   ID   SAFRA  default  ...  AVG_PAY_trat  PAY_0_trat  pred_lin\n",
              "0   1  200510        1  ...        0.0000      2.4296    1.4332\n",
              "1   2  200510        1  ...        0.0000      0.0000   -1.2471\n",
              "2   3  200510        0  ...        0.0000      0.0000   -1.5377\n",
              "3   4  200510        0  ...        0.0000      0.0000   -1.5377\n",
              "4   5  200510        0  ...       -0.3201      0.0000   -1.8578\n",
              "\n",
              "[5 rows x 9 columns]"
            ]
          },
          "metadata": {
            "tags": []
          },
          "execution_count": 19
        }
      ]
    },
    {
      "cell_type": "code",
      "metadata": {
        "id": "IsJmCy_sniYJ"
      },
      "source": [
        "import numpy as np\n",
        "df['score'] = 1 / (1 + np.exp(-df['pred_lin']))"
      ],
      "execution_count": 20,
      "outputs": []
    },
    {
      "cell_type": "code",
      "metadata": {
        "colab": {
          "base_uri": "https://localhost:8080/",
          "height": 204
        },
        "id": "A3Fl1Y5oqkj_",
        "outputId": "b284e4a7-0cf7-4e8c-e1ba-13b5426f3e4e"
      },
      "source": [
        "df.head()"
      ],
      "execution_count": 21,
      "outputs": [
        {
          "output_type": "execute_result",
          "data": {
            "text/html": [
              "<div>\n",
              "<style scoped>\n",
              "    .dataframe tbody tr th:only-of-type {\n",
              "        vertical-align: middle;\n",
              "    }\n",
              "\n",
              "    .dataframe tbody tr th {\n",
              "        vertical-align: top;\n",
              "    }\n",
              "\n",
              "    .dataframe thead th {\n",
              "        text-align: right;\n",
              "    }\n",
              "</style>\n",
              "<table border=\"1\" class=\"dataframe\">\n",
              "  <thead>\n",
              "    <tr style=\"text-align: right;\">\n",
              "      <th></th>\n",
              "      <th>ID</th>\n",
              "      <th>SAFRA</th>\n",
              "      <th>default</th>\n",
              "      <th>Intercept</th>\n",
              "      <th>LIMIT_BAL_trat</th>\n",
              "      <th>PAY_AMT1_trat</th>\n",
              "      <th>AVG_PAY_trat</th>\n",
              "      <th>PAY_0_trat</th>\n",
              "      <th>pred_lin</th>\n",
              "      <th>score</th>\n",
              "    </tr>\n",
              "  </thead>\n",
              "  <tbody>\n",
              "    <tr>\n",
              "      <th>0</th>\n",
              "      <td>1</td>\n",
              "      <td>200510</td>\n",
              "      <td>1</td>\n",
              "      <td>-0.9964</td>\n",
              "      <td>0.0000</td>\n",
              "      <td>0.0000</td>\n",
              "      <td>0.0000</td>\n",
              "      <td>2.4296</td>\n",
              "      <td>1.4332</td>\n",
              "      <td>0.807399</td>\n",
              "    </tr>\n",
              "    <tr>\n",
              "      <th>1</th>\n",
              "      <td>2</td>\n",
              "      <td>200510</td>\n",
              "      <td>1</td>\n",
              "      <td>-0.9964</td>\n",
              "      <td>-0.2507</td>\n",
              "      <td>0.0000</td>\n",
              "      <td>0.0000</td>\n",
              "      <td>0.0000</td>\n",
              "      <td>-1.2471</td>\n",
              "      <td>0.223203</td>\n",
              "    </tr>\n",
              "    <tr>\n",
              "      <th>2</th>\n",
              "      <td>3</td>\n",
              "      <td>200510</td>\n",
              "      <td>0</td>\n",
              "      <td>-0.9964</td>\n",
              "      <td>-0.2507</td>\n",
              "      <td>-0.2906</td>\n",
              "      <td>0.0000</td>\n",
              "      <td>0.0000</td>\n",
              "      <td>-1.5377</td>\n",
              "      <td>0.176870</td>\n",
              "    </tr>\n",
              "    <tr>\n",
              "      <th>3</th>\n",
              "      <td>4</td>\n",
              "      <td>200510</td>\n",
              "      <td>0</td>\n",
              "      <td>-0.9964</td>\n",
              "      <td>-0.2507</td>\n",
              "      <td>-0.2906</td>\n",
              "      <td>0.0000</td>\n",
              "      <td>0.0000</td>\n",
              "      <td>-1.5377</td>\n",
              "      <td>0.176870</td>\n",
              "    </tr>\n",
              "    <tr>\n",
              "      <th>4</th>\n",
              "      <td>5</td>\n",
              "      <td>200510</td>\n",
              "      <td>0</td>\n",
              "      <td>-0.9964</td>\n",
              "      <td>-0.2507</td>\n",
              "      <td>-0.2906</td>\n",
              "      <td>-0.3201</td>\n",
              "      <td>0.0000</td>\n",
              "      <td>-1.8578</td>\n",
              "      <td>0.134960</td>\n",
              "    </tr>\n",
              "  </tbody>\n",
              "</table>\n",
              "</div>"
            ],
            "text/plain": [
              "   ID   SAFRA  default  Intercept  ...  AVG_PAY_trat  PAY_0_trat  pred_lin     score\n",
              "0   1  200510        1    -0.9964  ...        0.0000      2.4296    1.4332  0.807399\n",
              "1   2  200510        1    -0.9964  ...        0.0000      0.0000   -1.2471  0.223203\n",
              "2   3  200510        0    -0.9964  ...        0.0000      0.0000   -1.5377  0.176870\n",
              "3   4  200510        0    -0.9964  ...        0.0000      0.0000   -1.5377  0.176870\n",
              "4   5  200510        0    -0.9964  ...       -0.3201      0.0000   -1.8578  0.134960\n",
              "\n",
              "[5 rows x 10 columns]"
            ]
          },
          "metadata": {
            "tags": []
          },
          "execution_count": 21
        }
      ]
    },
    {
      "cell_type": "code",
      "metadata": {
        "colab": {
          "base_uri": "https://localhost:8080/"
        },
        "id": "yUxjKkxPsr7N",
        "outputId": "6c82ee42-8c7f-417b-c61f-8585e41d2eb5"
      },
      "source": [
        "df['score'].describe()"
      ],
      "execution_count": 22,
      "outputs": [
        {
          "output_type": "execute_result",
          "data": {
            "text/plain": [
              "count    30000.000000\n",
              "mean         0.224305\n",
              "std          0.181160\n",
              "min          0.071127\n",
              "25%          0.118355\n",
              "50%          0.157706\n",
              "75%          0.216361\n",
              "max          0.807399\n",
              "Name: score, dtype: float64"
            ]
          },
          "metadata": {
            "tags": []
          },
          "execution_count": 22
        }
      ]
    },
    {
      "cell_type": "code",
      "metadata": {
        "colab": {
          "base_uri": "https://localhost:8080/",
          "height": 286
        },
        "id": "hHwMrNwYsIS0",
        "outputId": "4a1999b3-abe5-45fd-c9f7-d5a9ebf75dc6"
      },
      "source": [
        "df['score'].plot(kind='density') "
      ],
      "execution_count": 23,
      "outputs": [
        {
          "output_type": "execute_result",
          "data": {
            "text/plain": [
              "<matplotlib.axes._subplots.AxesSubplot at 0x7f47744121d0>"
            ]
          },
          "metadata": {
            "tags": []
          },
          "execution_count": 23
        },
        {
          "output_type": "display_data",
          "data": {
            "image/png": "[encoded data removed]",
            "text/plain": [
              "<Figure size 432x288 with 1 Axes>"
            ]
          },
          "metadata": {
            "tags": [],
            "needs_background": "light"
          }
        }
      ]
    },
    {
      "cell_type": "markdown",
      "metadata": {
        "id": "v7cWncRMs_Pk"
      },
      "source": [
        "### Separar os dataframes para testes "
      ]
    },
    {
      "cell_type": "code",
      "metadata": {
        "colab": {
          "base_uri": "https://localhost:8080/"
        },
        "id": "5ANlMDPwkd0r",
        "outputId": "68040fb6-8fa0-4aab-d93b-9c3b9adaca80"
      },
      "source": [
        "OOT = df.loc[df['SAFRA'] >= 200605 ]\n",
        "OOT['SAFRA'].groupby(OOT['SAFRA']).count()"
      ],
      "execution_count": 24,
      "outputs": [
        {
          "output_type": "execute_result",
          "data": {
            "text/plain": [
              "SAFRA\n",
              "200605    3000\n",
              "200606    3000\n",
              "200607    3000\n",
              "Name: SAFRA, dtype: int64"
            ]
          },
          "metadata": {
            "tags": []
          },
          "execution_count": 24
        }
      ]
    },
    {
      "cell_type": "code",
      "metadata": {
        "colab": {
          "base_uri": "https://localhost:8080/",
          "height": 204
        },
        "id": "poe9VtN2joZZ",
        "outputId": "26173243-50aa-48ff-dac0-9b493d121f55"
      },
      "source": [
        "OOT.head()"
      ],
      "execution_count": 25,
      "outputs": [
        {
          "output_type": "execute_result",
          "data": {
            "text/html": [
              "<div>\n",
              "<style scoped>\n",
              "    .dataframe tbody tr th:only-of-type {\n",
              "        vertical-align: middle;\n",
              "    }\n",
              "\n",
              "    .dataframe tbody tr th {\n",
              "        vertical-align: top;\n",
              "    }\n",
              "\n",
              "    .dataframe thead th {\n",
              "        text-align: right;\n",
              "    }\n",
              "</style>\n",
              "<table border=\"1\" class=\"dataframe\">\n",
              "  <thead>\n",
              "    <tr style=\"text-align: right;\">\n",
              "      <th></th>\n",
              "      <th>ID</th>\n",
              "      <th>SAFRA</th>\n",
              "      <th>default</th>\n",
              "      <th>Intercept</th>\n",
              "      <th>LIMIT_BAL_trat</th>\n",
              "      <th>PAY_AMT1_trat</th>\n",
              "      <th>AVG_PAY_trat</th>\n",
              "      <th>PAY_0_trat</th>\n",
              "      <th>pred_lin</th>\n",
              "      <th>score</th>\n",
              "    </tr>\n",
              "  </thead>\n",
              "  <tbody>\n",
              "    <tr>\n",
              "      <th>21000</th>\n",
              "      <td>21001</td>\n",
              "      <td>200605</td>\n",
              "      <td>0</td>\n",
              "      <td>-0.9964</td>\n",
              "      <td>0.0000</td>\n",
              "      <td>-0.2906</td>\n",
              "      <td>0.0000</td>\n",
              "      <td>0.8618</td>\n",
              "      <td>-0.4252</td>\n",
              "      <td>0.395273</td>\n",
              "    </tr>\n",
              "    <tr>\n",
              "      <th>21001</th>\n",
              "      <td>21002</td>\n",
              "      <td>200605</td>\n",
              "      <td>1</td>\n",
              "      <td>-0.9964</td>\n",
              "      <td>-0.3884</td>\n",
              "      <td>-0.4409</td>\n",
              "      <td>-0.3201</td>\n",
              "      <td>2.4296</td>\n",
              "      <td>0.2838</td>\n",
              "      <td>0.570478</td>\n",
              "    </tr>\n",
              "    <tr>\n",
              "      <th>21002</th>\n",
              "      <td>21003</td>\n",
              "      <td>200605</td>\n",
              "      <td>0</td>\n",
              "      <td>-0.9964</td>\n",
              "      <td>-0.3884</td>\n",
              "      <td>-0.2906</td>\n",
              "      <td>-0.3201</td>\n",
              "      <td>0.0000</td>\n",
              "      <td>-1.9955</td>\n",
              "      <td>0.119676</td>\n",
              "    </tr>\n",
              "    <tr>\n",
              "      <th>21003</th>\n",
              "      <td>21004</td>\n",
              "      <td>200605</td>\n",
              "      <td>1</td>\n",
              "      <td>-0.9964</td>\n",
              "      <td>-0.3884</td>\n",
              "      <td>-0.4409</td>\n",
              "      <td>0.0000</td>\n",
              "      <td>2.4296</td>\n",
              "      <td>0.6039</td>\n",
              "      <td>0.646548</td>\n",
              "    </tr>\n",
              "    <tr>\n",
              "      <th>21004</th>\n",
              "      <td>21005</td>\n",
              "      <td>200605</td>\n",
              "      <td>1</td>\n",
              "      <td>-0.9964</td>\n",
              "      <td>-0.2507</td>\n",
              "      <td>-0.2906</td>\n",
              "      <td>-0.3201</td>\n",
              "      <td>2.4296</td>\n",
              "      <td>0.5718</td>\n",
              "      <td>0.639178</td>\n",
              "    </tr>\n",
              "  </tbody>\n",
              "</table>\n",
              "</div>"
            ],
            "text/plain": [
              "          ID   SAFRA  default  ...  PAY_0_trat  pred_lin     score\n",
              "21000  21001  200605        0  ...      0.8618   -0.4252  0.395273\n",
              "21001  21002  200605        1  ...      2.4296    0.2838  0.570478\n",
              "21002  21003  200605        0  ...      0.0000   -1.9955  0.119676\n",
              "21003  21004  200605        1  ...      2.4296    0.6039  0.646548\n",
              "21004  21005  200605        1  ...      2.4296    0.5718  0.639178\n",
              "\n",
              "[5 rows x 10 columns]"
            ]
          },
          "metadata": {
            "tags": []
          },
          "execution_count": 25
        }
      ]
    },
    {
      "cell_type": "code",
      "metadata": {
        "colab": {
          "base_uri": "https://localhost:8080/"
        },
        "id": "sfbNlYQ7kd0r",
        "outputId": "8169bbef-b4c0-4103-a5c5-84a39874317d"
      },
      "source": [
        "DEV = df.loc[df['SAFRA'] < 200605 ]\n",
        "DEV['SAFRA'].groupby(DEV['SAFRA']).count()"
      ],
      "execution_count": 30,
      "outputs": [
        {
          "output_type": "execute_result",
          "data": {
            "text/plain": [
              "SAFRA\n",
              "200510    3000\n",
              "200511    3000\n",
              "200512    3000\n",
              "200601    3000\n",
              "200602    3000\n",
              "200603    3000\n",
              "200604    3000\n",
              "Name: SAFRA, dtype: int64"
            ]
          },
          "metadata": {
            "tags": []
          },
          "execution_count": 30
        }
      ]
    },
    {
      "cell_type": "code",
      "metadata": {
        "id": "f_3y7Wkbkd0r"
      },
      "source": [
        "from sklearn.model_selection import train_test_split\n",
        "\n",
        "X_train, X_test = train_test_split(DEV ,test_size=0.3, random_state=123)"
      ],
      "execution_count": 31,
      "outputs": []
    },
    {
      "cell_type": "code",
      "metadata": {
        "colab": {
          "base_uri": "https://localhost:8080/",
          "height": 204
        },
        "id": "6ykY-Ylykd0s",
        "outputId": "24130593-76c8-4c20-bc07-54b72cf932c5"
      },
      "source": [
        "X_train.head()"
      ],
      "execution_count": 32,
      "outputs": [
        {
          "output_type": "execute_result",
          "data": {
            "text/html": [
              "<div>\n",
              "<style scoped>\n",
              "    .dataframe tbody tr th:only-of-type {\n",
              "        vertical-align: middle;\n",
              "    }\n",
              "\n",
              "    .dataframe tbody tr th {\n",
              "        vertical-align: top;\n",
              "    }\n",
              "\n",
              "    .dataframe thead th {\n",
              "        text-align: right;\n",
              "    }\n",
              "</style>\n",
              "<table border=\"1\" class=\"dataframe\">\n",
              "  <thead>\n",
              "    <tr style=\"text-align: right;\">\n",
              "      <th></th>\n",
              "      <th>ID</th>\n",
              "      <th>SAFRA</th>\n",
              "      <th>default</th>\n",
              "      <th>Intercept</th>\n",
              "      <th>LIMIT_BAL_trat</th>\n",
              "      <th>PAY_AMT1_trat</th>\n",
              "      <th>AVG_PAY_trat</th>\n",
              "      <th>PAY_0_trat</th>\n",
              "      <th>pred_lin</th>\n",
              "      <th>score</th>\n",
              "    </tr>\n",
              "  </thead>\n",
              "  <tbody>\n",
              "    <tr>\n",
              "      <th>10910</th>\n",
              "      <td>10911</td>\n",
              "      <td>200601</td>\n",
              "      <td>1</td>\n",
              "      <td>-0.9964</td>\n",
              "      <td>-0.3884</td>\n",
              "      <td>-0.4409</td>\n",
              "      <td>-0.3201</td>\n",
              "      <td>0.0000</td>\n",
              "      <td>-2.1458</td>\n",
              "      <td>0.104724</td>\n",
              "    </tr>\n",
              "    <tr>\n",
              "      <th>12563</th>\n",
              "      <td>12564</td>\n",
              "      <td>200602</td>\n",
              "      <td>0</td>\n",
              "      <td>-0.9964</td>\n",
              "      <td>-0.3884</td>\n",
              "      <td>-0.2906</td>\n",
              "      <td>0.0000</td>\n",
              "      <td>0.0000</td>\n",
              "      <td>-1.6754</td>\n",
              "      <td>0.157706</td>\n",
              "    </tr>\n",
              "    <tr>\n",
              "      <th>369</th>\n",
              "      <td>370</td>\n",
              "      <td>200510</td>\n",
              "      <td>1</td>\n",
              "      <td>-0.9964</td>\n",
              "      <td>0.0000</td>\n",
              "      <td>0.0000</td>\n",
              "      <td>0.0000</td>\n",
              "      <td>2.4296</td>\n",
              "      <td>1.4332</td>\n",
              "      <td>0.807399</td>\n",
              "    </tr>\n",
              "    <tr>\n",
              "      <th>7702</th>\n",
              "      <td>7703</td>\n",
              "      <td>200512</td>\n",
              "      <td>0</td>\n",
              "      <td>-0.9964</td>\n",
              "      <td>-0.3884</td>\n",
              "      <td>-0.2906</td>\n",
              "      <td>-0.3201</td>\n",
              "      <td>0.0000</td>\n",
              "      <td>-1.9955</td>\n",
              "      <td>0.119676</td>\n",
              "    </tr>\n",
              "    <tr>\n",
              "      <th>7464</th>\n",
              "      <td>7465</td>\n",
              "      <td>200512</td>\n",
              "      <td>0</td>\n",
              "      <td>-0.9964</td>\n",
              "      <td>-0.2507</td>\n",
              "      <td>-0.2906</td>\n",
              "      <td>0.0000</td>\n",
              "      <td>0.0000</td>\n",
              "      <td>-1.5377</td>\n",
              "      <td>0.176870</td>\n",
              "    </tr>\n",
              "  </tbody>\n",
              "</table>\n",
              "</div>"
            ],
            "text/plain": [
              "          ID   SAFRA  default  ...  PAY_0_trat  pred_lin     score\n",
              "10910  10911  200601        1  ...      0.0000   -2.1458  0.104724\n",
              "12563  12564  200602        0  ...      0.0000   -1.6754  0.157706\n",
              "369      370  200510        1  ...      2.4296    1.4332  0.807399\n",
              "7702    7703  200512        0  ...      0.0000   -1.9955  0.119676\n",
              "7464    7465  200512        0  ...      0.0000   -1.5377  0.176870\n",
              "\n",
              "[5 rows x 10 columns]"
            ]
          },
          "metadata": {
            "tags": []
          },
          "execution_count": 32
        }
      ]
    },
    {
      "cell_type": "code",
      "metadata": {
        "id": "Xa2HfV1R_Eq3",
        "colab": {
          "base_uri": "https://localhost:8080/"
        },
        "outputId": "2f1b57ea-26ed-4724-c604-d51cd1dea5e2"
      },
      "source": [
        "X_train['fx_score']    = pd.qcut(X_train['score'], 5 , labels = False)"
      ],
      "execution_count": 33,
      "outputs": [
        {
          "output_type": "stream",
          "text": [
            "/usr/local/lib/python3.7/dist-packages/ipykernel_launcher.py:1: SettingWithCopyWarning: \n",
            "A value is trying to be set on a copy of a slice from a DataFrame.\n",
            "Try using .loc[row_indexer,col_indexer] = value instead\n",
            "\n",
            "See the caveats in the documentation: https://pandas.pydata.org/pandas-docs/stable/user_guide/indexing.html#returning-a-view-versus-a-copy\n",
            "  \"\"\"Entry point for launching an IPython kernel.\n"
          ],
          "name": "stderr"
        }
      ]
    },
    {
      "cell_type": "code",
      "metadata": {
        "colab": {
          "base_uri": "https://localhost:8080/"
        },
        "id": "1GGgWaq42tg-",
        "outputId": "ec75e01d-6425-461d-9778-6293a83b134f"
      },
      "source": [
        "X_train['fx_score'].value_counts()"
      ],
      "execution_count": 34,
      "outputs": [
        {
          "output_type": "execute_result",
          "data": {
            "text/plain": [
              "2    3474\n",
              "0    3228\n",
              "4    2891\n",
              "1    2723\n",
              "3    2384\n",
              "Name: fx_score, dtype: int64"
            ]
          },
          "metadata": {
            "tags": []
          },
          "execution_count": 34
        }
      ]
    },
    {
      "cell_type": "markdown",
      "metadata": {
        "id": "SICwEiVzm_Ul"
      },
      "source": [
        "### Cálculo KS2"
      ]
    },
    {
      "cell_type": "code",
      "metadata": {
        "colab": {
          "base_uri": "https://localhost:8080/"
        },
        "id": "zdF34y_hkbhe",
        "outputId": "7006c217-341d-435d-e9e8-0d2bb8407f71"
      },
      "source": [
        "from scipy import stats\n",
        "\n",
        "stats.ks_2samp(X_train['score'].loc[X_train['default'] == 1], X_train['score'].loc[X_train['default'] == 0])\n"
      ],
      "execution_count": 44,
      "outputs": [
        {
          "output_type": "execute_result",
          "data": {
            "text/plain": [
              "Ks_2sampResult(statistic=0.38614003199730923, pvalue=0.0)"
            ]
          },
          "metadata": {
            "tags": []
          },
          "execution_count": 44
        }
      ]
    },
    {
      "cell_type": "code",
      "metadata": {
        "colab": {
          "base_uri": "https://localhost:8080/"
        },
        "id": "AIMQzbP5kbkG",
        "outputId": "166279b0-71fa-4e54-a5c6-1c02b77ef196"
      },
      "source": [
        "stats.ks_2samp(X_test['score'].loc[X_test['default'] == 1], X_test['score'].loc[X_test['default'] == 0])"
      ],
      "execution_count": 45,
      "outputs": [
        {
          "output_type": "execute_result",
          "data": {
            "text/plain": [
              "Ks_2sampResult(statistic=0.3780044017660223, pvalue=8.393085718670753e-137)"
            ]
          },
          "metadata": {
            "tags": []
          },
          "execution_count": 45
        }
      ]
    },
    {
      "cell_type": "code",
      "metadata": {
        "colab": {
          "base_uri": "https://localhost:8080/"
        },
        "id": "XE7ZpGC6kbmc",
        "outputId": "3f02500a-f9fb-4d74-eba6-5b40e8295938"
      },
      "source": [
        "stats.ks_2samp(OOT['score'].loc[OOT['default'] == 1], OOT['score'].loc[OOT['default'] == 0])"
      ],
      "execution_count": 46,
      "outputs": [
        {
          "output_type": "execute_result",
          "data": {
            "text/plain": [
              "Ks_2sampResult(statistic=0.4034096429438912, pvalue=2.4238004152500856e-207)"
            ]
          },
          "metadata": {
            "tags": []
          },
          "execution_count": 46
        }
      ]
    },
    {
      "cell_type": "code",
      "metadata": {
        "id": "-d2JL_Fmwxcs"
      },
      "source": [
        "df.to_csv('/content/drive/MyDrive/Curso_Logistica/df_escorado.csv',index=None)\n"
      ],
      "execution_count": 41,
      "outputs": []
    },
    {
      "cell_type": "markdown",
      "metadata": {
        "id": "REWzLOPzm7Bw"
      },
      "source": [
        "### Calculo KS1"
      ]
    },
    {
      "cell_type": "code",
      "metadata": {
        "id": "-7795tJW53Jw",
        "colab": {
          "base_uri": "https://localhost:8080/"
        },
        "outputId": "b84587f1-6609-4d6f-9855-35dc8efd040c"
      },
      "source": [
        "stats.ks_2samp(df['score'].loc[df['SAFRA'] >= 200605], df['score'].loc[df['SAFRA'] < 200605])"
      ],
      "execution_count": 47,
      "outputs": [
        {
          "output_type": "execute_result",
          "data": {
            "text/plain": [
              "Ks_2sampResult(statistic=0.05895238095238098, pvalue=1.920211576415336e-19)"
            ]
          },
          "metadata": {
            "tags": []
          },
          "execution_count": 47
        }
      ]
    },
    {
      "cell_type": "code",
      "metadata": {
        "id": "0NjJIDTRp6K8"
      },
      "source": [
        ""
      ],
      "execution_count": null,
      "outputs": []
    }
  ]
}